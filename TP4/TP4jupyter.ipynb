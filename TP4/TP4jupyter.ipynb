{
 "cells": [
  {
   "cell_type": "markdown",
   "source": [
    "# Trabajo Pracatico 4 - Redes Neuronales Convolucionales\n",
    "\n",
    "Vamos a realizar una clasificacion binaria de imagnes que pueden ser de gatos o perros, para ello vamos a utilizar un dataset de Kaggle llamado \"cats-vs-dogs\" que contiene 23.409 imágenes de gatos y perros. El objetivo es entrenar un modelo de clasificación binaria que pueda distinguir entre imágenes de gatos y perros.\n",
    "\n",
    "Se van a proponer los siguientes modelos:\n",
    "\n",
    "- **Modelo 1:** Red convolucional simple (SimpleCNN) creada desde cero.\n",
    "- **Modelo 2:** Red convolucional basada en ResNet18.\n",
    "- **Modelo 4:** Red convolucional avanzacda (AdvancedCNN) creada desde cero.\n",
    "- **Modelo 3:** Red convolucional basada en ResNet18 con cambios en hiperparametros.\n",
    "- **Modelo 5:** Red convolucional basada en Inception de Google con cambios en hiperparametros."
   ],
   "metadata": {
    "collapsed": false,
    "id": "5aa4d9bed7ac6d10"
   },
   "id": "5aa4d9bed7ac6d10"
  },
  {
   "cell_type": "markdown",
   "source": [
    "Asignamos el dataset a la variable **dataset**"
   ],
   "metadata": {
    "id": "_1gUgAWK1Rqf"
   },
   "id": "_1gUgAWK1Rqf"
  },
  {
   "cell_type": "code",
   "outputs": [],
   "source": [
    "from datasets import load_dataset\n",
    "\n",
    "dataset = load_dataset(\"cats_vs_dogs\")"
   ],
   "metadata": {
    "id": "62a3f5b0b4d5fd4e",
    "outputId": "15f9cbac-d21c-42b2-b66f-c2e0559427bd",
    "colab": {
     "base_uri": "https://localhost:8080/"
    }
   },
   "id": "62a3f5b0b4d5fd4e",
   "execution_count": null
  },
  {
   "cell_type": "markdown",
   "source": [
    "Creamos un *DataFrame* llamado **mydataset**, el cual almacenará el path de cada imágen junto a su etiqueta (perro o gato). Además creamos un directorio llamado dataset y almacenamos allí las imágenes.\n"
   ],
   "metadata": {
    "id": "jiS_pLhO1hIe"
   },
   "id": "jiS_pLhO1hIe"
  },
  {
   "cell_type": "code",
   "outputs": [],
   "source": [
    "import pandas as pd\n",
    "import os\n",
    "\n",
    "main_dir = './dataset'\n",
    "os.makedirs(main_dir, exist_ok=True)\n",
    "\n",
    "mydataset = pd.DataFrame(columns=['image_path', 'label'])\n",
    "\n",
    "for i in range(len(dataset['train'])):\n",
    "    img_path = f\"{main_dir}/img_{i}.jpeg\"\n",
    "\n",
    "    if not os.path.exists(img_path):\n",
    "        dataset['train'][i]['image'].save(img_path)\n",
    "\n",
    "    mydataset.at[i, 'image_path'] = img_path\n",
    "    mydataset.at[i, 'label'] = dataset['train'][i]['labels']\n",
    "\n",
    "mydataset.head()"
   ],
   "metadata": {
    "id": "18f786f3d1d77ead",
    "outputId": "dc442974-49e8-4411-f62a-1fb94012e8fc",
    "colab": {
     "base_uri": "https://localhost:8080/",
     "height": 206
    }
   },
   "id": "18f786f3d1d77ead",
   "execution_count": null
  },
  {
   "cell_type": "markdown",
   "source": [
    "Creamos un diccionario para almacenar los parámetros que usaremos."
   ],
   "metadata": {
    "collapsed": false,
    "id": "b74f536a3a8038ee"
   },
   "id": "b74f536a3a8038ee"
  },
  {
   "cell_type": "code",
   "outputs": [],
   "source": [
    "exp_config = dict()"
   ],
   "metadata": {
    "id": "efa97dd716f5447a"
   },
   "id": "efa97dd716f5447a",
   "execution_count": null
  },
  {
   "cell_type": "markdown",
   "source": [
    "Definimos la semilla para que al divir el dataset en train, test y val, sea siempre la misma división de datos. Además, especificamos la proporción de datos que serán para testeo y para validación."
   ],
   "metadata": {
    "id": "VKScy5ZE1_KS"
   },
   "id": "VKScy5ZE1_KS"
  },
  {
   "cell_type": "code",
   "outputs": [],
   "source": [
    "seed = 42\n",
    "test_size = 0.15\n",
    "val_size = 0.20\n",
    "\n",
    "exp_config['seed'] = seed\n",
    "exp_config['test_size'] = test_size\n",
    "exp_config['val_size'] = val_size"
   ],
   "metadata": {
    "id": "5ae023464ee7d8ff"
   },
   "id": "5ae023464ee7d8ff",
   "execution_count": null
  },
  {
   "cell_type": "markdown",
   "source": [
    "Dividimos el dataset en *train*, *test*, *val*.\n",
    "\n",
    "**Aclaración:** los datos de validación surgen de una parte de los datos de testeo."
   ],
   "metadata": {
    "id": "wSXflM8R23IA"
   },
   "id": "wSXflM8R23IA"
  },
  {
   "cell_type": "code",
   "outputs": [],
   "source": [
    "from sklearn.model_selection import train_test_split\n",
    "\n",
    "train_val_df, test_df = train_test_split(mydataset, test_size=test_size, stratify=mydataset['label'], random_state=seed)\n",
    "\n",
    "train_df, val_df = train_test_split(train_val_df, test_size=val_size, stratify=train_val_df['label'], random_state=seed)"
   ],
   "metadata": {
    "id": "acfdebddb8975812"
   },
   "id": "acfdebddb8975812",
   "execution_count": null
  },
  {
   "cell_type": "markdown",
   "source": [
    "Añadimos parámetros de configuración al diccionario."
   ],
   "metadata": {
    "id": "ZZKi7exX3C1O"
   },
   "id": "ZZKi7exX3C1O"
  },
  {
   "cell_type": "code",
   "outputs": [],
   "source": [
    "exp_config['train_n_cats'] = train_df['label'].value_counts()[0]\n",
    "exp_config['train_n_dogs'] = train_df['label'].value_counts()[1]\n",
    "exp_config['val_n_cats'] = val_df['label'].value_counts()[0]\n",
    "exp_config['val_n_dogs'] = val_df['label'].value_counts()[1]\n",
    "exp_config['test_n_cats'] = test_df['label'].value_counts()[0]\n",
    "exp_config['test_n_dogs'] = test_df['label'].value_counts()[1]"
   ],
   "metadata": {
    "id": "917c26bc02be395f"
   },
   "id": "917c26bc02be395f",
   "execution_count": null
  },
  {
   "cell_type": "markdown",
   "source": [
    "La clase **CatsDogsDataset** es una implementación personalizada de una clase llamda *Dataset* de PyTorch que permite cargar y transformar las imágenes del dataset.\n",
    "\n",
    "**Explicación**\n",
    "1. Constructor (\\_\\_init\\_\\_):  \n",
    "- img_path_list: Lista de rutas de las imágenes.\n",
    "- lab_list: Lista de etiquetas correspondientes a las imágenes (0 para gatos, 1 para perros).\n",
    "- transform: Transformaciones opcionales que se aplicarán a las imágenes (por ejemplo, redimensionar, normalizar).\n",
    "2. Método \\_\\_len\\_\\_:  \n",
    "- Devuelve la cantidad de imágenes en el conjunto de datos.\n",
    "3. Método \\_\\_getitem\\_\\_:\n",
    "- idx: Índice de la imagen y etiqueta que se desea obtener.\n",
    "- img_path: Obtiene la ruta de la imagen en el índice idx.\n",
    "- image: Abre la imagen y la convierte a formato RGB.\n",
    "- label: Obtiene la etiqueta correspondiente a la imagen y la convierte a un tensor de PyTorch.\n",
    "- Si se especificaron transformaciones, se aplican a la imagen.\n",
    "- Devuelve la imagen transformada y su etiqueta correspondiente."
   ],
   "metadata": {
    "id": "c-1bZ5CU3Gri"
   },
   "id": "c-1bZ5CU3Gri"
  },
  {
   "cell_type": "code",
   "outputs": [],
   "source": [
    "from PIL import Image\n",
    "import torch\n",
    "from torch.utils.data import Dataset\n",
    "\n",
    "class CatsDogsDataset(Dataset):\n",
    "    def __init__(self, img_path_list, lab_list, transform=None):\n",
    "        self.transform = transform\n",
    "        self.images = img_path_list\n",
    "        self.labels = lab_list\n",
    "\n",
    "    def __len__(self):\n",
    "        return len(self.images)\n",
    "\n",
    "    def __getitem__(self, idx):\n",
    "        img_path = self.images[idx]\n",
    "        image = Image.open(img_path).convert(\"RGB\")\n",
    "\n",
    "        label = self.labels[idx]\n",
    "        label = torch.Tensor([label])\n",
    "\n",
    "        if self.transform:\n",
    "            image = self.transform(image)\n",
    "\n",
    "        return image, label"
   ],
   "metadata": {
    "id": "2cd7f71cfa333705"
   },
   "id": "2cd7f71cfa333705",
   "execution_count": null
  },
  {
   "cell_type": "markdown",
   "source": [
    "Definimos la resolución de las imágenes que serán procesadas."
   ],
   "metadata": {
    "id": "mNXY7zTh31QJ"
   },
   "id": "mNXY7zTh31QJ"
  },
  {
   "cell_type": "code",
   "outputs": [],
   "source": [
    "input_size = (224,224)\n",
    "exp_config['input_size'] = input_size"
   ],
   "metadata": {
    "id": "61b41a6d728d3c10"
   },
   "id": "61b41a6d728d3c10",
   "execution_count": null
  },
  {
   "cell_type": "markdown",
   "source": [
    "Como las imágenes son a color en formato RGB, definiremos 3 canales"
   ],
   "metadata": {
    "id": "fBTkFhnn382u"
   },
   "id": "fBTkFhnn382u"
  },
  {
   "cell_type": "code",
   "outputs": [],
   "source": [
    "n_channels = 3\n",
    "exp_config['n_channels'] = n_channels"
   ],
   "metadata": {
    "id": "7e9634b1fc3514d6"
   },
   "id": "7e9634b1fc3514d6",
   "execution_count": null
  },
  {
   "cell_type": "markdown",
   "source": [
    "Creamos el *transform* que será usado, el cual redimensiona las imágenes a la resolución dada."
   ],
   "metadata": {
    "id": "qb6wxASF4KHR"
   },
   "id": "qb6wxASF4KHR"
  },
  {
   "cell_type": "code",
   "outputs": [],
   "source": [
    "from torchvision import transforms\n",
    "\n",
    "transform = transforms.Compose([\n",
    "    transforms.Resize(input_size),\n",
    "    transforms.ToTensor(),\n",
    "])"
   ],
   "metadata": {
    "id": "60979fd3aadf9c30"
   },
   "id": "60979fd3aadf9c30",
   "execution_count": null
  },
  {
   "cell_type": "markdown",
   "source": [
    "Creamos los datasets de train, test y val."
   ],
   "metadata": {
    "id": "j-RUgCbO4Yg_"
   },
   "id": "j-RUgCbO4Yg_"
  },
  {
   "cell_type": "code",
   "outputs": [],
   "source": [
    "train_dataset = CatsDogsDataset(train_df['image_path'].tolist(), train_df['label'].tolist(), transform)\n",
    "test_dataset = CatsDogsDataset(test_df['image_path'].tolist(), test_df['label'].tolist(), transform)\n",
    "val_dataset = CatsDogsDataset(val_df['image_path'].tolist(), val_df['label'].tolist(), transform)"
   ],
   "metadata": {
    "id": "5adde669c2867e8d"
   },
   "id": "5adde669c2867e8d",
   "execution_count": null
  },
  {
   "cell_type": "markdown",
   "source": [
    "Creamos los *DataLoaders* de train, test y val, y definimos el tamaño de lote.\n",
    "\n",
    "**Aclaración:** el batch size de test es 1,los datos no serán mezclados por cada época y no se eliminarán datos para alcanzar el tamaño de lote establecido."
   ],
   "metadata": {
    "id": "CzsTv8jC4-Js"
   },
   "id": "CzsTv8jC4-Js"
  },
  {
   "cell_type": "code",
   "outputs": [],
   "source": [
    "from torch.utils.data import DataLoader\n",
    "\n",
    "batch_size = 64\n",
    "exp_config['batch_size'] = batch_size\n",
    "\n",
    "train_dataloader = DataLoader(train_dataset, batch_size=batch_size, shuffle=True, drop_last=True)\n",
    "val_dataloader = DataLoader(train_dataset, batch_size=batch_size, shuffle=True, drop_last=True)\n",
    "test_dataloader = DataLoader(test_dataset, batch_size=1, shuffle=False, drop_last=False)"
   ],
   "metadata": {
    "id": "cc5bed8c2518e66c"
   },
   "id": "cc5bed8c2518e66c",
   "execution_count": null
  },
  {
   "cell_type": "markdown",
   "source": [
    "## WandB"
   ],
   "metadata": {
    "id": "EIOjZvGA-7hH"
   },
   "id": "EIOjZvGA-7hH"
  },
  {
   "cell_type": "code",
   "outputs": [],
   "source": [
    "import wandb\n",
    "\n",
    "wandb.login(key=\"d567fa512c6502cc7986d8c90fd37c4f0969de0d\")"
   ],
   "metadata": {
    "id": "xdsh8Yex_rmJ",
    "colab": {
     "base_uri": "https://localhost:8080/"
    },
    "outputId": "32355bbe-d244-45e8-99aa-f6339a400734"
   },
   "id": "xdsh8Yex_rmJ",
   "execution_count": null
  },
  {
   "cell_type": "markdown",
   "source": [
    "Definimos el dispositivo donde se realizará el entrenamiento (CPU o GPU)."
   ],
   "metadata": {
    "collapsed": false,
    "id": "a38be0e94c61dc74"
   },
   "id": "a38be0e94c61dc74"
  },
  {
   "cell_type": "code",
   "outputs": [
    {
     "ename": "NameError",
     "evalue": "name 'torch' is not defined",
     "output_type": "error",
     "traceback": [
      "\u001B[0;31m---------------------------------------------------------------------------\u001B[0m",
      "\u001B[0;31mNameError\u001B[0m                                 Traceback (most recent call last)",
      "Cell \u001B[0;32mIn[9], line 1\u001B[0m\n\u001B[0;32m----> 1\u001B[0m device \u001B[38;5;241m=\u001B[39m \u001B[43mtorch\u001B[49m\u001B[38;5;241m.\u001B[39mdevice(\u001B[38;5;124m\"\u001B[39m\u001B[38;5;124mcuda\u001B[39m\u001B[38;5;124m\"\u001B[39m \u001B[38;5;28;01mif\u001B[39;00m torch\u001B[38;5;241m.\u001B[39mcuda\u001B[38;5;241m.\u001B[39mis_available() \u001B[38;5;28;01melse\u001B[39;00m \u001B[38;5;124m\"\u001B[39m\u001B[38;5;124mcpu\u001B[39m\u001B[38;5;124m\"\u001B[39m)\n\u001B[1;32m      3\u001B[0m device\n",
      "\u001B[0;31mNameError\u001B[0m: name 'torch' is not defined"
     ]
    }
   ],
   "source": [
    "device = torch.device(\"cuda\" if torch.cuda.is_available() else \"cpu\")\n",
    "\n",
    "device"
   ],
   "metadata": {
    "id": "a50750bcf13f5bf7",
    "ExecuteTime": {
     "end_time": "2024-10-15T14:18:41.017675Z",
     "start_time": "2024-10-15T14:18:41.002745Z"
    }
   },
   "id": "a50750bcf13f5bf7",
   "execution_count": 9
  },
  {
   "cell_type": "markdown",
   "source": [
    "# Uso de los CNNs"
   ],
   "metadata": {
    "collapsed": false,
    "id": "deab16e8e1c742a1"
   },
   "id": "deab16e8e1c742a1"
  },
  {
   "cell_type": "code",
   "outputs": [],
   "source": [
    "from tools.models import SimpleCNN, ResNet18, AdvancedCNN, InceptionCNN, DenseNet_121CNN\n",
    "from tools.utils import train_and_validate, test, classify, calculate_metrics\n",
    "\n",
    "base_path = './checkpoints'\n",
    "\n",
    "os.makedirs(base_path, exist_ok=True)"
   ],
   "metadata": {
    "collapsed": false
   },
   "id": "e49b87adb65f8dd",
   "execution_count": null
  },
  {
   "cell_type": "markdown",
   "source": [
    "## SimpleCNN"
   ],
   "metadata": {
    "collapsed": false,
    "id": "a5ccc5191154960e"
   },
   "id": "a5ccc5191154960e"
  },
  {
   "cell_type": "markdown",
   "source": [
    "### Elección de modelo, función de costo y optimizador."
   ],
   "metadata": {
    "id": "xXc3QO35-Gt0"
   },
   "id": "xXc3QO35-Gt0"
  },
  {
   "cell_type": "code",
   "outputs": [],
   "source": [
    "import torch.optim as optim\n",
    "from torch import nn\n",
    "\n",
    "exp_config_SimpleCNN = exp_config.copy()\n",
    "\n",
    "wandb.init(project=\"CNN_CatsvsDogs\", entity=\"ar-um\", tags=[\"BERTOLDI_MANCUSO\"], name=\"Bertoldi_Mancuso_SimpleCNN\")\n",
    "wandb.config.update(exp_config_SimpleCNN)\n",
    "\n",
    "model = SimpleCNN().to(device)\n",
    "exp_config_SimpleCNN['model'] = 'SimpleCNN'\n",
    "\n",
    "criterion = nn.BCELoss()\n",
    "exp_config_SimpleCNN['model'] = 'BCELoss'\n",
    "\n",
    "lr = 0.001\n",
    "exp_config_SimpleCNN['learning_rate'] = lr\n",
    "\n",
    "optimizer = optim.Adam(model.parameters(), lr=lr)\n",
    "exp_config_SimpleCNN['optimizador'] = 'Adam'"
   ],
   "metadata": {
    "id": "VjEFHNvs-Mvh",
    "colab": {
     "base_uri": "https://localhost:8080/",
     "height": 104
    },
    "outputId": "bfbcda04-e344-4609-911c-f3989519154e"
   },
   "id": "VjEFHNvs-Mvh",
   "execution_count": null
  },
  {
   "cell_type": "markdown",
   "source": [
    "### Ajuste del modelo"
   ],
   "metadata": {
    "id": "V7EN1hNM-vUA"
   },
   "id": "V7EN1hNM-vUA"
  },
  {
   "cell_type": "markdown",
   "source": [
    "Aqui definimos la cantidad de epocas y el criterio que va a tener en cuenta para detener el entrenamiento en caso de no ver mejoras."
   ],
   "metadata": {
    "collapsed": false,
    "id": "de67d6fcea172d9e"
   },
   "id": "de67d6fcea172d9e"
  },
  {
   "cell_type": "code",
   "source": [
    "num_epochs = 15\n",
    "early_stopping_patience = 5\n",
    "epochs_without_improvement = 0\n",
    "\n",
    "exp_config_SimpleCNN['num_epochs'] = num_epochs\n",
    "exp_config_SimpleCNN['early_stopping_patience'] = early_stopping_patience\n",
    "\n",
    "checkpoint_path = base_path + '/best_model.pth'\n",
    "\n",
    "train_and_validate(model, train_dataloader, val_dataloader, criterion, optimizer, device, num_epochs, early_stopping_patience, checkpoint_path)"
   ],
   "metadata": {
    "id": "WuTBZ-ZU-x_a",
    "colab": {
     "base_uri": "https://localhost:8080/"
    },
    "outputId": "c31b9d9e-694c-437c-edf4-746a6b891b42"
   },
   "id": "WuTBZ-ZU-x_a",
   "execution_count": null,
   "outputs": []
  },
  {
   "cell_type": "markdown",
   "source": [
    "## Testeo"
   ],
   "metadata": {
    "id": "s-i41uMIBX3Y"
   },
   "id": "s-i41uMIBX3Y"
  },
  {
   "cell_type": "markdown",
   "source": [
    "Cargamos los parametros del modelo desde el checkpoint."
   ],
   "metadata": {
    "collapsed": false,
    "id": "e2762f34556a84"
   },
   "id": "e2762f34556a84"
  },
  {
   "cell_type": "code",
   "source": [
    "model = SimpleCNN().to(device)\n",
    "\n",
    "model.load_state_dict(torch.load(checkpoint_path))\n",
    "model.to(device)\n",
    "\n",
    "model.eval()"
   ],
   "metadata": {
    "id": "lWdHrwGE-0QP",
    "colab": {
     "base_uri": "https://localhost:8080/"
    },
    "outputId": "a6cc8c99-2319-4842-f831-3b642ec123ca"
   },
   "id": "lWdHrwGE-0QP",
   "execution_count": null,
   "outputs": []
  },
  {
   "cell_type": "markdown",
   "source": [
    "Hacemos predicciones en el conjunto de test."
   ],
   "metadata": {
    "collapsed": false,
    "id": "22a053c0281bfb34"
   },
   "id": "22a053c0281bfb34"
  },
  {
   "cell_type": "code",
   "source": [
    "y_true, y_proba = test(model, test_dataloader, device)"
   ],
   "metadata": {
    "id": "D6iOBHPNBcYt"
   },
   "id": "D6iOBHPNBcYt",
   "execution_count": null,
   "outputs": []
  },
  {
   "cell_type": "markdown",
   "source": [
    "Pasamos las predicciones a tensores y clasificamos en base a un umbral."
   ],
   "metadata": {
    "collapsed": false,
    "id": "2994a50623ffadb2"
   },
   "id": "2994a50623ffadb2"
  },
  {
   "cell_type": "code",
   "source": [
    "y_true, y_pred, y_proba_flat = classify(y_proba, y_true)"
   ],
   "metadata": {
    "id": "7OUK486cBhx9"
   },
   "id": "7OUK486cBhx9",
   "execution_count": null,
   "outputs": []
  },
  {
   "cell_type": "markdown",
   "source": [
    "### Métricas"
   ],
   "metadata": {
    "collapsed": false,
    "id": "8cc5965400f647c7"
   },
   "id": "8cc5965400f647c7"
  },
  {
   "cell_type": "code",
   "source": [
    "accuracy, precision, recall, specificity, conf_matrix, fpr, tpr, roc_auc = calculate_metrics(y_true, y_pred, y_proba_flat)\n",
    "\n",
    "roc_data = [[x, y] for (x, y) in zip(fpr, tpr)]\n",
    "table = wandb.Table(data=roc_data, columns=[\"FPR\", \"TPR\"])\n",
    "wandb.log({\n",
    "    \"test_accuracy\": accuracy,\n",
    "    \"test_precision\": precision,\n",
    "    \"test_recall\": recall,\n",
    "    \"test_specificity\": specificity,\n",
    "    \"test_confusion_matrix\": wandb.plot.confusion_matrix(y_true=y_true.flatten().tolist(), preds=y_pred.flatten().tolist(), class_names=[\"Clase 0\", \"Clase 1\"]),\n",
    "    \"ROC Curve\": wandb.plot.line(table, \"FPR\", \"TPR\", title=\"ROC Curve\"),\n",
    "    \"test_roc_auc\": roc_auc,\n",
    "})\n",
    "\n",
    "print(f\"Accuracy: {accuracy:.2f}\")\n",
    "print(f\"Precision: {precision:.2f}\")\n",
    "print(f\"Recall: {recall:.2f}\")\n",
    "print(f\"Specificity: {specificity:.2f}\")"
   ],
   "metadata": {
    "id": "r2Bm6XvEBi6I",
    "colab": {
     "base_uri": "https://localhost:8080/"
    },
    "outputId": "bc8f2a1d-85d4-4fdf-a8cd-d11614316ff3"
   },
   "id": "r2Bm6XvEBi6I",
   "execution_count": null,
   "outputs": []
  },
  {
   "cell_type": "code",
   "outputs": [],
   "source": [
    "import json\n",
    "import os\n",
    "\n",
    "dicts_path = './dicts'\n",
    "\n",
    "os.makedirs(dicts_path, exist_ok=True)\n",
    "\n",
    "with open(dicts_path + '/exp_config_SimpleCNN.json', 'w') as json_file:\n",
    "    json.dump(exp_config_SimpleCNN, json_file, indent=4)\n",
    "    \n",
    "wandb.finish()\n",
    "\n",
    "exp_config_SimpleCNN"
   ],
   "metadata": {
    "id": "4fbc4186d25380e0",
    "colab": {
     "base_uri": "https://localhost:8080/"
    },
    "outputId": "7e226059-be40-4e5f-e33e-cc7f17818f2d"
   },
   "id": "4fbc4186d25380e0",
   "execution_count": null
  },
  {
   "cell_type": "markdown",
   "source": [
    "## ResNet18"
   ],
   "metadata": {
    "collapsed": false,
    "id": "d60bce6a14c24be5"
   },
   "id": "d60bce6a14c24be5"
  },
  {
   "cell_type": "markdown",
   "source": [
    "### Elección de modelo, función de costo y optimizador."
   ],
   "metadata": {
    "collapsed": false,
    "id": "b09517aa11b8f9d4"
   },
   "id": "b09517aa11b8f9d4"
  },
  {
   "cell_type": "code",
   "outputs": [],
   "source": [
    "import torch.optim as optim\n",
    "\n",
    "exp_config_ResNet18 = exp_config.copy()\n",
    "\n",
    "wandb.init(project=\"CNN_CatsvsDogs\", entity=\"ar-um\", tags=[\"BERTOLDI_MANCUSO\"], name=\"Bertoldi_Mancuso_ResNet18CNN\")\n",
    "wandb.config.update(exp_config_ResNet18)\n",
    "\n",
    "model = ResNet18().to(device)\n",
    "exp_config_ResNet18['model'] = 'ResNet18'\n",
    "\n",
    "criterion = nn.BCELoss()\n",
    "exp_config_ResNet18['model'] = 'BCELoss'\n",
    "\n",
    "lr = 0.001\n",
    "exp_config_ResNet18['learning_rate'] = lr\n",
    "\n",
    "optimizer = optim.Adam(model.parameters(), lr=lr)\n",
    "exp_config_ResNet18['optimizador'] = 'Adam'\n",
    "\n",
    "model"
   ],
   "metadata": {
    "id": "dd1d07f97a7a2ebf",
    "colab": {
     "base_uri": "https://localhost:8080/",
     "height": 1000,
     "referenced_widgets": [
      "9e3071e8ea904846964d018eab0e86f1",
      "bbc769cb31424b1e8da897b3099f1dfb",
      "5476b33855e24e77922dd1b9f92b2748",
      "b4c2aa69bd584dec8b7774f753d49812",
      "a4dc9890ebad4cca8e9d48d72c1677e1",
      "10ef05e6b391417aa12903ae5f977a1c",
      "30f8afd4bca94b98a47c8934b3d70c41",
      "e280dcac892c4ff6ba552c7243e26c20"
     ]
    },
    "outputId": "7ce33eff-1a4c-4a55-e009-ae648d48f6c7"
   },
   "id": "dd1d07f97a7a2ebf",
   "execution_count": null
  },
  {
   "cell_type": "markdown",
   "source": [
    "### Ajuste"
   ],
   "metadata": {
    "collapsed": false,
    "id": "2999cce4c3cf6adf"
   },
   "id": "2999cce4c3cf6adf"
  },
  {
   "cell_type": "code",
   "outputs": [],
   "source": [
    "num_epochs = 15\n",
    "early_stopping_patience = 5\n",
    "\n",
    "exp_config_ResNet18['num_epochs'] = num_epochs\n",
    "exp_config_ResNet18['early_stopping_patience'] = early_stopping_patience\n",
    "\n",
    "checkpoint_path = base_path + '/best_model_ResNet18.pth'\n",
    "\n",
    "train_and_validate(model, train_dataloader, val_dataloader, criterion, optimizer, device, num_epochs, early_stopping_patience, checkpoint_path)"
   ],
   "metadata": {
    "id": "5076c0f43c48a36",
    "colab": {
     "base_uri": "https://localhost:8080/"
    },
    "outputId": "f9622902-679d-4e96-896b-c7601f91fee4"
   },
   "id": "5076c0f43c48a36",
   "execution_count": null
  },
  {
   "cell_type": "markdown",
   "source": [
    "### Test"
   ],
   "metadata": {
    "collapsed": false,
    "id": "20c7e7a15183a253"
   },
   "id": "20c7e7a15183a253"
  },
  {
   "cell_type": "code",
   "outputs": [],
   "source": [
    "model = ResNet18().to(device)\n",
    "\n",
    "model.load_state_dict(torch.load(checkpoint_path))\n",
    "model.to(device)\n",
    "\n",
    "model.eval()"
   ],
   "metadata": {
    "id": "cd0a6fbd12495d19",
    "colab": {
     "base_uri": "https://localhost:8080/"
    },
    "outputId": "5e768b62-5a68-417e-81ba-eb87764eb768"
   },
   "id": "cd0a6fbd12495d19",
   "execution_count": null
  },
  {
   "cell_type": "code",
   "outputs": [],
   "source": [
    "y_true, y_proba = test(model, test_dataloader, device)"
   ],
   "metadata": {
    "id": "cf3a31b31da431ad"
   },
   "id": "cf3a31b31da431ad",
   "execution_count": null
  },
  {
   "cell_type": "code",
   "outputs": [],
   "source": [
    "y_true, y_pred, y_proba_flat = classify(y_proba, y_true)"
   ],
   "metadata": {
    "id": "ef4b7ee3bbe5db2c"
   },
   "id": "ef4b7ee3bbe5db2c",
   "execution_count": null
  },
  {
   "cell_type": "code",
   "outputs": [],
   "source": [
    "accuracy, precision, recall, specificity, conf_matrix, fpr, tpr, roc_auc = calculate_metrics(y_true, y_pred, y_proba_flat)\n",
    "\n",
    "roc_data = [[x, y] for (x, y) in zip(fpr, tpr)]\n",
    "table = wandb.Table(data=roc_data, columns=[\"FPR\", \"TPR\"])\n",
    "wandb.log({\n",
    "    \"test_accuracy\": accuracy,\n",
    "    \"test_precision\": precision,\n",
    "    \"test_recall\": recall,\n",
    "    \"test_specificity\": specificity,\n",
    "    \"test_confusion_matrix\": wandb.plot.confusion_matrix(y_true=y_true.flatten().tolist(), preds=y_pred.flatten().tolist(), class_names=[\"Clase 0\", \"Clase 1\"]),\n",
    "    \"ROC Curve\": wandb.plot.line(table, \"FPR\", \"TPR\", title=\"ROC Curve\"),\n",
    "    \"test_roc_auc\": roc_auc,\n",
    "})\n",
    "\n",
    "print(f\"Accuracy: {accuracy:.2f}\")\n",
    "print(f\"Precision: {precision:.2f}\")\n",
    "print(f\"Recall: {recall:.2f}\")\n",
    "print(f\"Specificity: {specificity:.2f}\")"
   ],
   "metadata": {
    "id": "531ec74d30dcb2a3",
    "colab": {
     "base_uri": "https://localhost:8080/"
    },
    "outputId": "cbc88bcc-e08b-4b0e-ccf0-8519e68eee03"
   },
   "id": "531ec74d30dcb2a3",
   "execution_count": null
  },
  {
   "cell_type": "code",
   "outputs": [],
   "source": [
    "import json\n",
    "import os\n",
    "\n",
    "dicts_path = './dicts'\n",
    "\n",
    "os.makedirs(dicts_path, exist_ok=True)\n",
    "\n",
    "with open(dicts_path + '/exp_config_ResNet18.json', 'w') as json_file:\n",
    "    json.dump(exp_config_ResNet18, json_file, indent=4)\n",
    "    \n",
    "wandb.finish()\n",
    "\n",
    "exp_config_ResNet18"
   ],
   "metadata": {
    "id": "85865e115ba16b64",
    "colab": {
     "base_uri": "https://localhost:8080/"
    },
    "outputId": "d68c4643-28af-4a0d-9d9d-504c6f15d170"
   },
   "id": "85865e115ba16b64",
   "execution_count": null
  },
  {
   "cell_type": "markdown",
   "source": [
    "## ResNet 18 Modificado"
   ],
   "metadata": {
    "collapsed": false,
    "id": "8e747e4c92c04dfa"
   },
   "id": "8e747e4c92c04dfa"
  },
  {
   "cell_type": "markdown",
   "source": [
    "### Elección de modelo, función de costo y optimizador."
   ],
   "metadata": {
    "collapsed": false,
    "id": "754a84af737d21c7"
   },
   "id": "754a84af737d21c7"
  },
  {
   "cell_type": "code",
   "outputs": [],
   "source": [
    "import torch.optim as optim\n",
    "\n",
    "exp_config_ResNet18Modificado = exp_config.copy()\n",
    "\n",
    "wandb.init(project=\"CNN_CatsvsDogs\", entity=\"ar-um\", tags=[\"BERTOLDI_MANCUSO\"], name=\"Bertoldi_Mancuso_ResNet18ModificadoCNN\")\n",
    "wandb.config.update(exp_config_ResNet18Modificado)\n",
    "\n",
    "model = ResNet18().to(device)\n",
    "exp_config_ResNet18Modificado['model'] = 'ResNet18Modificado'\n",
    "\n",
    "criterion = nn.BCELoss()\n",
    "exp_config_ResNet18Modificado['model'] = 'BCELoss'\n",
    "\n",
    "lr = 0.001\n",
    "exp_config_ResNet18Modificado['learning_rate'] = lr\n",
    "\n",
    "# Se usara otro optimizador\n",
    "\n",
    "weight_decay = 0.01\n",
    "exp_config_ResNet18Modificado['weight_decay'] = weight_decay\n",
    "\n",
    "optimizer = torch.optim.AdamW(model.parameters(), lr=lr, weight_decay=weight_decay)\n",
    "\n",
    "exp_config_ResNet18Modificado['optimizador'] = 'AdamW'\n",
    "\n",
    "model"
   ],
   "metadata": {
    "id": "b0746d3371d2c65e",
    "colab": {
     "base_uri": "https://localhost:8080/",
     "height": 1000,
     "referenced_widgets": [
      "84ec112a9c174c939fe250a9083543b0",
      "935b83a955cb42d19579e03f491dfb45",
      "8d2b17835b5b4d77a1f5e0215876cc96",
      "bbfd635ae8ac423bb97797d9c8b7e141",
      "d84db8e96a6842b3b8f5ae48317ebd44",
      "3d8bac83363c442ab0a1e5fbddb27a3b",
      "2dddd4cd31ad4ee99ba8e8bc569b5505",
      "17cc6ec5102849ccadf9d5fb8ab68e1f"
     ]
    },
    "outputId": "d7022ee4-9fc6-48c9-98a2-765c0a907ad6"
   },
   "id": "b0746d3371d2c65e",
   "execution_count": null
  },
  {
   "cell_type": "markdown",
   "source": [
    "### Ajuste"
   ],
   "metadata": {
    "collapsed": false,
    "id": "dc644ecaa3e5fae4"
   },
   "id": "dc644ecaa3e5fae4"
  },
  {
   "cell_type": "code",
   "outputs": [],
   "source": [
    "num_epochs = 15\n",
    "early_stopping_patience = 5\n",
    "\n",
    "exp_config_ResNet18Modificado['num_epochs'] = num_epochs\n",
    "exp_config_ResNet18Modificado['early_stopping_patience'] = early_stopping_patience\n",
    "\n",
    "checkpoint_path = base_path + '/best_model_ResNet18.pth'\n",
    "\n",
    "train_and_validate(model, train_dataloader, val_dataloader, criterion, optimizer, device, num_epochs, early_stopping_patience, checkpoint_path)"
   ],
   "metadata": {
    "id": "f5e7ac13a45d964c",
    "colab": {
     "base_uri": "https://localhost:8080/",
     "height": 532
    },
    "outputId": "5be040f9-b621-47f0-8997-571cc1ee2160"
   },
   "id": "f5e7ac13a45d964c",
   "execution_count": null
  },
  {
   "cell_type": "markdown",
   "source": [
    "### Test"
   ],
   "metadata": {
    "collapsed": false,
    "id": "9a0a99e401ae94fd"
   },
   "id": "9a0a99e401ae94fd"
  },
  {
   "cell_type": "code",
   "outputs": [],
   "source": [
    "model = ResNet18().to(device)\n",
    "\n",
    "model.load_state_dict(torch.load(checkpoint_path))\n",
    "model.to(device)\n",
    "\n",
    "model.eval()"
   ],
   "metadata": {
    "id": "81f391a6bf403a68",
    "colab": {
     "base_uri": "https://localhost:8080/"
    },
    "outputId": "1c668599-11f9-4adf-acfb-b563454edfeb"
   },
   "id": "81f391a6bf403a68",
   "execution_count": null
  },
  {
   "cell_type": "code",
   "outputs": [],
   "source": [
    "y_true, y_proba = test(model, test_dataloader, device)"
   ],
   "metadata": {
    "id": "e3e7d677fdb04142"
   },
   "id": "e3e7d677fdb04142",
   "execution_count": null
  },
  {
   "cell_type": "code",
   "outputs": [],
   "source": [
    "y_true, y_pred, y_proba_flat = classify(y_proba, y_true)"
   ],
   "metadata": {
    "id": "bf9b71f5259eb20d"
   },
   "id": "bf9b71f5259eb20d",
   "execution_count": null
  },
  {
   "cell_type": "code",
   "outputs": [],
   "source": [
    "accuracy, precision, recall, specificity, conf_matrix, fpr, tpr, roc_auc = calculate_metrics(y_true, y_pred, y_proba_flat)\n",
    "\n",
    "roc_data = [[x, y] for (x, y) in zip(fpr, tpr)]\n",
    "table = wandb.Table(data=roc_data, columns=[\"FPR\", \"TPR\"])\n",
    "wandb.log({\n",
    "    \"test_accuracy\": accuracy,\n",
    "    \"test_precision\": precision,\n",
    "    \"test_recall\": recall,\n",
    "    \"test_specificity\": specificity,\n",
    "    \"test_confusion_matrix\": wandb.plot.confusion_matrix(y_true=y_true.flatten().tolist(), preds=y_pred.flatten().tolist(), class_names=[\"Clase 0\", \"Clase 1\"]),\n",
    "    \"ROC Curve\": wandb.plot.line(table, \"FPR\", \"TPR\", title=\"ROC Curve\"),\n",
    "    \"test_roc_auc\": roc_auc,\n",
    "})\n",
    "\n",
    "print(f\"Accuracy: {accuracy:.2f}\")\n",
    "print(f\"Precision: {precision:.2f}\")\n",
    "print(f\"Recall: {recall:.2f}\")\n",
    "print(f\"Specificity: {specificity:.2f}\")"
   ],
   "metadata": {
    "id": "37105a9566bb12e",
    "colab": {
     "base_uri": "https://localhost:8080/",
     "height": 408
    },
    "outputId": "a1144cf0-944e-4526-e899-b58cdfc20cbc"
   },
   "id": "37105a9566bb12e",
   "execution_count": null
  },
  {
   "cell_type": "code",
   "outputs": [],
   "source": [
    "import json\n",
    "import os\n",
    "\n",
    "dicts_path = './dicts'\n",
    "\n",
    "os.makedirs(dicts_path, exist_ok=True)\n",
    "\n",
    "with open(dicts_path + '/exp_config_ResNet18Modificado.json', 'w') as json_file:\n",
    "    json.dump(exp_config_ResNet18Modificado, json_file, indent=4)\n",
    "    \n",
    "wandb.finish()\n",
    "\n",
    "exp_config_ResNet18Modificado"
   ],
   "metadata": {
    "id": "bbf2a57837ecaee5"
   },
   "id": "bbf2a57837ecaee5",
   "execution_count": null
  },
  {
   "cell_type": "markdown",
   "source": [
    "## AdvancedCNN"
   ],
   "metadata": {
    "collapsed": false,
    "id": "345abf7483b2b9ce"
   },
   "id": "345abf7483b2b9ce"
  },
  {
   "cell_type": "markdown",
   "source": [
    "### Elección de modelo, función de costo y optimizador."
   ],
   "metadata": {
    "collapsed": false,
    "id": "70aa42eb1aa182ea"
   },
   "id": "70aa42eb1aa182ea"
  },
  {
   "cell_type": "code",
   "outputs": [],
   "source": [
    "import torch.optim as optim\n",
    "\n",
    "exp_config_AdvancedCNN = exp_config.copy()\n",
    "\n",
    "wandb.init(project=\"CNN_CatsvsDogs\", entity=\"ar-um\", tags=[\"BERTOLDI_MANCUSO\"], name=\"Bertoldi_Mancuso_AdvancedCNN\")\n",
    "wandb.config.update(exp_config_AdvancedCNN)\n",
    "\n",
    "model = AdvancedCNN().to(device)\n",
    "exp_config_AdvancedCNN['model'] = 'AdvancedCNN'\n",
    "\n",
    "criterion = nn.BCELoss()\n",
    "exp_config_AdvancedCNN['model'] = 'BCELoss'\n",
    "\n",
    "lr = 0.001\n",
    "exp_config_AdvancedCNN['learning_rate'] = lr\n",
    "\n",
    "optimizer = optim.Adam(model.parameters(), lr=lr)\n",
    "exp_config_AdvancedCNN['optimizador'] = 'Adam'\n",
    "\n",
    "model"
   ],
   "metadata": {
    "id": "e286d84afdd398d0"
   },
   "id": "e286d84afdd398d0",
   "execution_count": null
  },
  {
   "cell_type": "markdown",
   "source": [
    "### Ajuste"
   ],
   "metadata": {
    "collapsed": false,
    "id": "fc8c41c09e6392db"
   },
   "id": "fc8c41c09e6392db"
  },
  {
   "cell_type": "code",
   "outputs": [],
   "source": [
    "num_epochs = 15\n",
    "early_stopping_patience = 5\n",
    "\n",
    "exp_config_AdvancedCNN['num_epochs'] = num_epochs\n",
    "exp_config_AdvancedCNN['early_stopping_patience'] = early_stopping_patience\n",
    "\n",
    "checkpoint_path = base_path + '/best_model_AdvancedCNN.pth'\n",
    "\n",
    "train_and_validate(model, train_dataloader, val_dataloader, criterion, optimizer, device, num_epochs, early_stopping_patience, checkpoint_path)"
   ],
   "metadata": {
    "id": "f462b1b48422bc83"
   },
   "id": "f462b1b48422bc83",
   "execution_count": null
  },
  {
   "cell_type": "markdown",
   "source": [
    "### Test"
   ],
   "metadata": {
    "collapsed": false,
    "id": "4f3e6325730805ba"
   },
   "id": "4f3e6325730805ba"
  },
  {
   "cell_type": "code",
   "outputs": [],
   "source": [
    "model = AdvancedCNN().to(device)\n",
    "\n",
    "model.load_state_dict(torch.load(checkpoint_path))\n",
    "model.to(device)\n",
    "\n",
    "model.eval()"
   ],
   "metadata": {
    "id": "b6af521514502a2b"
   },
   "id": "b6af521514502a2b",
   "execution_count": null
  },
  {
   "cell_type": "markdown",
   "source": [
    "Hacemos predicciones en el conjunto de test."
   ],
   "metadata": {
    "collapsed": false,
    "id": "9de1a51d71952b69"
   },
   "id": "9de1a51d71952b69"
  },
  {
   "cell_type": "code",
   "outputs": [],
   "source": [
    "y_true, y_proba = test(model, test_dataloader, device)"
   ],
   "metadata": {
    "id": "65dcd595dfdaeac1"
   },
   "id": "65dcd595dfdaeac1",
   "execution_count": null
  },
  {
   "cell_type": "code",
   "outputs": [],
   "source": [
    "y_true, y_pred, y_proba_flat = classify(y_proba, y_true)"
   ],
   "metadata": {
    "id": "4bcd90765b27f731"
   },
   "id": "4bcd90765b27f731",
   "execution_count": null
  },
  {
   "cell_type": "code",
   "outputs": [],
   "source": [
    "accuracy, precision, recall, specificity, conf_matrix, fpr, tpr, roc_auc = calculate_metrics(y_true, y_pred, y_proba_flat)\n",
    "\n",
    "roc_data = [[x, y] for (x, y) in zip(fpr, tpr)]\n",
    "table = wandb.Table(data=roc_data, columns=[\"FPR\", \"TPR\"])\n",
    "wandb.log({\n",
    "    \"test_accuracy\": accuracy,\n",
    "    \"test_precision\": precision,\n",
    "    \"test_recall\": recall,\n",
    "    \"test_specificity\": specificity,\n",
    "    \"test_confusion_matrix\": wandb.plot.confusion_matrix(y_true=y_true.flatten().tolist(), preds=y_pred.flatten().tolist(), class_names=[\"Clase 0\", \"Clase 1\"]),\n",
    "    \"ROC Curve\": wandb.plot.line(table, \"FPR\", \"TPR\", title=\"ROC Curve\"),\n",
    "    \"test_roc_auc\": roc_auc,\n",
    "})\n",
    "\n",
    "print(f\"Accuracy: {accuracy:.2f}\")\n",
    "print(f\"Precision: {precision:.2f}\")\n",
    "print(f\"Recall: {recall:.2f}\")\n",
    "print(f\"Specificity: {specificity:.2f}\")"
   ],
   "metadata": {
    "id": "d277c3eaf83d0be1"
   },
   "id": "d277c3eaf83d0be1",
   "execution_count": null
  },
  {
   "cell_type": "code",
   "outputs": [],
   "source": [
    "import json\n",
    "import os\n",
    "\n",
    "dicts_path = './dicts'\n",
    "\n",
    "os.makedirs(dicts_path, exist_ok=True)\n",
    "\n",
    "with open(dicts_path + '/exp_config_AdvancedCNN.json', 'w') as json_file:\n",
    "    json.dump(exp_config_AdvancedCNN, json_file, indent=4)\n",
    "    \n",
    "wandb.finish()\n",
    "\n",
    "exp_config_AdvancedCNN"
   ],
   "metadata": {
    "id": "20a239d95a63c130"
   },
   "id": "20a239d95a63c130",
   "execution_count": null
  },
  {
   "cell_type": "markdown",
   "source": [
    "## DenseNet_121CNN"
   ],
   "metadata": {
    "collapsed": false,
    "id": "70b0e1855091aa65"
   },
   "id": "70b0e1855091aa65"
  },
  {
   "cell_type": "markdown",
   "source": [
    "### Elección de modelo, función de costo y optimizador."
   ],
   "metadata": {
    "collapsed": false,
    "id": "2279e3dcb430e838"
   },
   "id": "2279e3dcb430e838"
  },
  {
   "cell_type": "code",
   "outputs": [],
   "source": [
    "import torch.optim as optim\n",
    "\n",
    "exp_config_DenseNet_121C = exp_config.copy()\n",
    "\n",
    "wandb.init(project=\"CNN_CatsvsDogs\", entity=\"ar-um\", tags=[\"BERTOLDI_MANCUSO\"], name=\"Bertoldi_Mancuso_DenseNet_121CNN\")\n",
    "wandb.config.update(exp_config_DenseNet_121C)\n",
    "\n",
    "model = InceptionCNN().to(device)\n",
    "exp_config_DenseNet_121C['model'] = 'DenseNet_121CNN'\n",
    "\n",
    "criterion = nn.BCELoss()\n",
    "exp_config_DenseNet_121C['model'] = 'BCELoss'\n",
    "\n",
    "lr = 0.001\n",
    "exp_config_DenseNet_121C['learning_rate'] = lr\n",
    "\n",
    "optimizer = optim.Adam(model.parameters(), lr=lr)\n",
    "exp_config_DenseNet_121C['optimizador'] = 'Adam'\n",
    "\n",
    "model"
   ],
   "metadata": {
    "id": "c73f0df0d2220ac2",
    "colab": {
     "base_uri": "https://localhost:8080/",
     "height": 460
    },
    "outputId": "45f9e490-c916-43b8-c1ec-cb0ca31cc236"
   },
   "id": "c73f0df0d2220ac2",
   "execution_count": null
  },
  {
   "cell_type": "markdown",
   "source": [
    "### Ajuste"
   ],
   "metadata": {
    "collapsed": false,
    "id": "e5579e91605a4ea9"
   },
   "id": "e5579e91605a4ea9"
  },
  {
   "cell_type": "code",
   "outputs": [],
   "source": [
    "num_epochs = 15\n",
    "early_stopping_patience = 5\n",
    "\n",
    "exp_config_DenseNet_121C['num_epochs'] = num_epochs\n",
    "exp_config_DenseNet_121C['early_stopping_patience'] = early_stopping_patience\n",
    "\n",
    "checkpoint_path = base_path + '/best_model_DenseNet_121CNN.pth'\n",
    "\n",
    "train_and_validate(model, train_dataloader, val_dataloader, criterion, optimizer, device, num_epochs, early_stopping_patience, checkpoint_path)"
   ],
   "metadata": {
    "id": "33636581ed86202b",
    "colab": {
     "base_uri": "https://localhost:8080/",
     "height": 530
    },
    "outputId": "62367865-a366-44a8-c335-beea716263d4"
   },
   "id": "33636581ed86202b",
   "execution_count": null
  },
  {
   "cell_type": "markdown",
   "source": [
    "### Test"
   ],
   "metadata": {
    "collapsed": false,
    "id": "f1059f86abf235cd"
   },
   "id": "f1059f86abf235cd"
  },
  {
   "cell_type": "code",
   "outputs": [],
   "source": [
    "model = DenseNet_121CNN().to(device)\n",
    "\n",
    "model.load_state_dict(torch.load(checkpoint_path))\n",
    "model.to(device)\n",
    "\n",
    "model.eval()"
   ],
   "metadata": {
    "id": "2bb02c571f3b525b"
   },
   "id": "2bb02c571f3b525b",
   "execution_count": null
  },
  {
   "cell_type": "code",
   "outputs": [],
   "source": [
    "y_true, y_proba = test(model, test_dataloader, device)"
   ],
   "metadata": {
    "id": "4ea448209096e7b1"
   },
   "id": "4ea448209096e7b1",
   "execution_count": null
  },
  {
   "cell_type": "code",
   "outputs": [],
   "source": [
    "y_true, y_pred, y_proba_flat = classify(y_proba, y_true)"
   ],
   "metadata": {
    "id": "a5786e0c50d24a69"
   },
   "id": "a5786e0c50d24a69",
   "execution_count": null
  },
  {
   "cell_type": "code",
   "outputs": [],
   "source": [
    "accuracy, precision, recall, specificity, conf_matrix, fpr, tpr, roc_auc = calculate_metrics(y_true, y_pred, y_proba_flat)\n",
    "\n",
    "roc_data = [[x, y] for (x, y) in zip(fpr, tpr)]\n",
    "table = wandb.Table(data=roc_data, columns=[\"FPR\", \"TPR\"])\n",
    "wandb.log({\n",
    "    \"test_accuracy\": accuracy,\n",
    "    \"test_precision\": precision,\n",
    "    \"test_recall\": recall,\n",
    "    \"test_specificity\": specificity,\n",
    "    \"test_confusion_matrix\": wandb.plot.confusion_matrix(y_true=y_true.flatten().tolist(), preds=y_pred.flatten().tolist(), class_names=[\"Clase 0\", \"Clase 1\"]),\n",
    "    \"ROC Curve\": wandb.plot.line(table, \"FPR\", \"TPR\", title=\"ROC Curve\"),\n",
    "    \"test_roc_auc\": roc_auc,\n",
    "})\n",
    "\n",
    "print(f\"Accuracy: {accuracy:.2f}\")\n",
    "print(f\"Precision: {precision:.2f}\")\n",
    "print(f\"Recall: {recall:.2f}\")\n",
    "print(f\"Specificity: {specificity:.2f}\")"
   ],
   "metadata": {
    "id": "5e9f6c85f5824bac"
   },
   "id": "5e9f6c85f5824bac",
   "execution_count": null
  },
  {
   "cell_type": "code",
   "outputs": [],
   "source": [
    "exp_config_DenseNet_121C"
   ],
   "metadata": {
    "id": "9e2668c2c519175e"
   },
   "id": "9e2668c2c519175e",
   "execution_count": null
  },
  {
   "cell_type": "markdown",
   "source": [
    "## DenseNet_121 Modificado"
   ],
   "metadata": {
    "collapsed": false,
    "id": "189f456affd6af9f"
   },
   "id": "189f456affd6af9f"
  },
  {
   "cell_type": "markdown",
   "source": [
    "### Elección de modelo, función de costo y optimizador."
   ],
   "metadata": {
    "collapsed": false,
    "id": "16418645bb9b6abe"
   },
   "id": "16418645bb9b6abe"
  },
  {
   "cell_type": "code",
   "outputs": [],
   "source": [
    "import torch.optim as optim\n",
    "\n",
    "exp_config_DenseNet_121Modificado = exp_config.copy()\n",
    "\n",
    "wandb.init(project=\"CNN_CatsvsDogs\", entity=\"ar-um\", tags=[\"BERTOLDI_MANCUSO\"], name=\"Bertoldi_Mancuso_InceptionModificadoCNN\")\n",
    "wandb.config.update(exp_config_DenseNet_121Modificado)\n",
    "\n",
    "model = DenseNet_121CNN().to(device)\n",
    "exp_config_DenseNet_121Modificado['model'] = 'InceptionModificado'\n",
    "\n",
    "criterion = nn.BCELoss()\n",
    "exp_config_DenseNet_121Modificado['model'] = 'BCELoss'\n",
    "\n",
    "lr = 0.01\n",
    "exp_config_DenseNet_121Modificado['learning_rate'] = lr\n",
    "\n",
    "optimizer = torch.optim.Adam(model.parameters(), lr=lr, weight_decay=weight_decay)\n",
    "\n",
    "exp_config_DenseNet_121Modificado['optimizador'] = 'Adam'\n",
    "\n",
    "model"
   ],
   "metadata": {
    "id": "4e50976ab1f4e34c"
   },
   "id": "4e50976ab1f4e34c",
   "execution_count": null
  },
  {
   "cell_type": "markdown",
   "source": [
    "### Ajuste"
   ],
   "metadata": {
    "collapsed": false,
    "id": "1a04c2a9c64c2e89"
   },
   "id": "1a04c2a9c64c2e89"
  },
  {
   "cell_type": "code",
   "outputs": [],
   "source": [
    "num_epochs = 15\n",
    "early_stopping_patience = 5\n",
    "\n",
    "exp_config_DenseNet_121Modificado['num_epochs'] = num_epochs\n",
    "exp_config_DenseNet_121Modificado['early_stopping_patience'] = early_stopping_patience\n",
    "\n",
    "checkpoint_path = './best_model_Inception.pth'\n",
    "\n",
    "train_and_validate(model, train_dataloader, val_dataloader, criterion, optimizer, device, num_epochs, early_stopping_patience, checkpoint_path)"
   ],
   "metadata": {
    "id": "22eb1f0c71d83619"
   },
   "id": "22eb1f0c71d83619",
   "execution_count": null
  },
  {
   "cell_type": "markdown",
   "source": [
    "### Test"
   ],
   "metadata": {
    "collapsed": false,
    "id": "c645d0b0a0fbc365"
   },
   "id": "c645d0b0a0fbc365"
  },
  {
   "cell_type": "code",
   "outputs": [],
   "source": [
    "model = DenseNet_121CNN().to(device)\n",
    "\n",
    "model.load_state_dict(torch.load(checkpoint_path))\n",
    "model.to(device)\n",
    "\n",
    "model.eval()"
   ],
   "metadata": {
    "id": "c9a10dc6d2301ad7"
   },
   "id": "c9a10dc6d2301ad7",
   "execution_count": null
  },
  {
   "cell_type": "code",
   "outputs": [],
   "source": [
    "y_true, y_proba = test(model, test_dataloader, device)"
   ],
   "metadata": {
    "id": "bc1ff961b7aaddad"
   },
   "id": "bc1ff961b7aaddad",
   "execution_count": null
  },
  {
   "cell_type": "code",
   "outputs": [],
   "source": [
    "y_true, y_pred, y_proba_flat = classify(y_proba, y_true)"
   ],
   "metadata": {
    "id": "f9081a59ef29c414"
   },
   "id": "f9081a59ef29c414",
   "execution_count": null
  },
  {
   "cell_type": "code",
   "outputs": [],
   "source": [
    "accuracy, precision, recall, specificity, conf_matrix, fpr, tpr, roc_auc = calculate_metrics(y_true, y_pred, y_proba_flat)\n",
    "\n",
    "print(f\"Accuracy: {accuracy:.2f}\")\n",
    "print(f\"Precision: {precision:.2f}\")\n",
    "print(f\"Recall: {recall:.2f}\")\n",
    "print(f\"Specificity: {specificity:.2f}\")"
   ],
   "metadata": {
    "id": "e2f492b4a89e461c"
   },
   "id": "e2f492b4a89e461c",
   "execution_count": null
  },
  {
   "cell_type": "code",
   "outputs": [],
   "source": [
    "exp_config_DenseNet_121Modificado"
   ],
   "metadata": {
    "id": "485f79331964b633"
   },
   "id": "485f79331964b633",
   "execution_count": null
  },
  {
   "cell_type": "code",
   "outputs": [],
   "source": [
    "wandb.finish()"
   ],
   "metadata": {
    "id": "ffc0f827378e91d7"
   },
   "id": "ffc0f827378e91d7",
   "execution_count": null
  }
 ],
 "metadata": {
  "kernelspec": {
   "name": "python3",
   "language": "python",
   "display_name": "Python 3 (ipykernel)"
  },
  "language_info": {
   "codemirror_mode": {
    "name": "ipython",
    "version": 2
   },
   "file_extension": ".py",
   "mimetype": "text/x-python",
   "name": "python",
   "nbconvert_exporter": "python",
   "pygments_lexer": "ipython2",
   "version": "2.7.6"
  },
  "colab": {
   "provenance": [],
   "gpuType": "T4"
  },
  "accelerator": "GPU",
  "widgets": {
   "application/vnd.jupyter.widget-state+json": {
    "9e3071e8ea904846964d018eab0e86f1": {
     "model_module": "@jupyter-widgets/controls",
     "model_name": "VBoxModel",
     "model_module_version": "1.5.0",
     "state": {
      "_dom_classes": [],
      "_model_module": "@jupyter-widgets/controls",
      "_model_module_version": "1.5.0",
      "_model_name": "VBoxModel",
      "_view_count": null,
      "_view_module": "@jupyter-widgets/controls",
      "_view_module_version": "1.5.0",
      "_view_name": "VBoxView",
      "box_style": "",
      "children": [
       "IPY_MODEL_bbc769cb31424b1e8da897b3099f1dfb",
       "IPY_MODEL_5476b33855e24e77922dd1b9f92b2748"
      ],
      "layout": "IPY_MODEL_b4c2aa69bd584dec8b7774f753d49812"
     }
    },
    "bbc769cb31424b1e8da897b3099f1dfb": {
     "model_module": "@jupyter-widgets/controls",
     "model_name": "LabelModel",
     "model_module_version": "1.5.0",
     "state": {
      "_dom_classes": [],
      "_model_module": "@jupyter-widgets/controls",
      "_model_module_version": "1.5.0",
      "_model_name": "LabelModel",
      "_view_count": null,
      "_view_module": "@jupyter-widgets/controls",
      "_view_module_version": "1.5.0",
      "_view_name": "LabelView",
      "description": "",
      "description_tooltip": null,
      "layout": "IPY_MODEL_a4dc9890ebad4cca8e9d48d72c1677e1",
      "placeholder": "​",
      "style": "IPY_MODEL_10ef05e6b391417aa12903ae5f977a1c",
      "value": "0.015 MB of 0.015 MB uploaded\r"
     }
    },
    "5476b33855e24e77922dd1b9f92b2748": {
     "model_module": "@jupyter-widgets/controls",
     "model_name": "FloatProgressModel",
     "model_module_version": "1.5.0",
     "state": {
      "_dom_classes": [],
      "_model_module": "@jupyter-widgets/controls",
      "_model_module_version": "1.5.0",
      "_model_name": "FloatProgressModel",
      "_view_count": null,
      "_view_module": "@jupyter-widgets/controls",
      "_view_module_version": "1.5.0",
      "_view_name": "ProgressView",
      "bar_style": "",
      "description": "",
      "description_tooltip": null,
      "layout": "IPY_MODEL_30f8afd4bca94b98a47c8934b3d70c41",
      "max": 1,
      "min": 0,
      "orientation": "horizontal",
      "style": "IPY_MODEL_e280dcac892c4ff6ba552c7243e26c20",
      "value": 1
     }
    },
    "b4c2aa69bd584dec8b7774f753d49812": {
     "model_module": "@jupyter-widgets/base",
     "model_name": "LayoutModel",
     "model_module_version": "1.2.0",
     "state": {
      "_model_module": "@jupyter-widgets/base",
      "_model_module_version": "1.2.0",
      "_model_name": "LayoutModel",
      "_view_count": null,
      "_view_module": "@jupyter-widgets/base",
      "_view_module_version": "1.2.0",
      "_view_name": "LayoutView",
      "align_content": null,
      "align_items": null,
      "align_self": null,
      "border": null,
      "bottom": null,
      "display": null,
      "flex": null,
      "flex_flow": null,
      "grid_area": null,
      "grid_auto_columns": null,
      "grid_auto_flow": null,
      "grid_auto_rows": null,
      "grid_column": null,
      "grid_gap": null,
      "grid_row": null,
      "grid_template_areas": null,
      "grid_template_columns": null,
      "grid_template_rows": null,
      "height": null,
      "justify_content": null,
      "justify_items": null,
      "left": null,
      "margin": null,
      "max_height": null,
      "max_width": null,
      "min_height": null,
      "min_width": null,
      "object_fit": null,
      "object_position": null,
      "order": null,
      "overflow": null,
      "overflow_x": null,
      "overflow_y": null,
      "padding": null,
      "right": null,
      "top": null,
      "visibility": null,
      "width": null
     }
    },
    "a4dc9890ebad4cca8e9d48d72c1677e1": {
     "model_module": "@jupyter-widgets/base",
     "model_name": "LayoutModel",
     "model_module_version": "1.2.0",
     "state": {
      "_model_module": "@jupyter-widgets/base",
      "_model_module_version": "1.2.0",
      "_model_name": "LayoutModel",
      "_view_count": null,
      "_view_module": "@jupyter-widgets/base",
      "_view_module_version": "1.2.0",
      "_view_name": "LayoutView",
      "align_content": null,
      "align_items": null,
      "align_self": null,
      "border": null,
      "bottom": null,
      "display": null,
      "flex": null,
      "flex_flow": null,
      "grid_area": null,
      "grid_auto_columns": null,
      "grid_auto_flow": null,
      "grid_auto_rows": null,
      "grid_column": null,
      "grid_gap": null,
      "grid_row": null,
      "grid_template_areas": null,
      "grid_template_columns": null,
      "grid_template_rows": null,
      "height": null,
      "justify_content": null,
      "justify_items": null,
      "left": null,
      "margin": null,
      "max_height": null,
      "max_width": null,
      "min_height": null,
      "min_width": null,
      "object_fit": null,
      "object_position": null,
      "order": null,
      "overflow": null,
      "overflow_x": null,
      "overflow_y": null,
      "padding": null,
      "right": null,
      "top": null,
      "visibility": null,
      "width": null
     }
    },
    "10ef05e6b391417aa12903ae5f977a1c": {
     "model_module": "@jupyter-widgets/controls",
     "model_name": "DescriptionStyleModel",
     "model_module_version": "1.5.0",
     "state": {
      "_model_module": "@jupyter-widgets/controls",
      "_model_module_version": "1.5.0",
      "_model_name": "DescriptionStyleModel",
      "_view_count": null,
      "_view_module": "@jupyter-widgets/base",
      "_view_module_version": "1.2.0",
      "_view_name": "StyleView",
      "description_width": ""
     }
    },
    "30f8afd4bca94b98a47c8934b3d70c41": {
     "model_module": "@jupyter-widgets/base",
     "model_name": "LayoutModel",
     "model_module_version": "1.2.0",
     "state": {
      "_model_module": "@jupyter-widgets/base",
      "_model_module_version": "1.2.0",
      "_model_name": "LayoutModel",
      "_view_count": null,
      "_view_module": "@jupyter-widgets/base",
      "_view_module_version": "1.2.0",
      "_view_name": "LayoutView",
      "align_content": null,
      "align_items": null,
      "align_self": null,
      "border": null,
      "bottom": null,
      "display": null,
      "flex": null,
      "flex_flow": null,
      "grid_area": null,
      "grid_auto_columns": null,
      "grid_auto_flow": null,
      "grid_auto_rows": null,
      "grid_column": null,
      "grid_gap": null,
      "grid_row": null,
      "grid_template_areas": null,
      "grid_template_columns": null,
      "grid_template_rows": null,
      "height": null,
      "justify_content": null,
      "justify_items": null,
      "left": null,
      "margin": null,
      "max_height": null,
      "max_width": null,
      "min_height": null,
      "min_width": null,
      "object_fit": null,
      "object_position": null,
      "order": null,
      "overflow": null,
      "overflow_x": null,
      "overflow_y": null,
      "padding": null,
      "right": null,
      "top": null,
      "visibility": null,
      "width": null
     }
    },
    "e280dcac892c4ff6ba552c7243e26c20": {
     "model_module": "@jupyter-widgets/controls",
     "model_name": "ProgressStyleModel",
     "model_module_version": "1.5.0",
     "state": {
      "_model_module": "@jupyter-widgets/controls",
      "_model_module_version": "1.5.0",
      "_model_name": "ProgressStyleModel",
      "_view_count": null,
      "_view_module": "@jupyter-widgets/base",
      "_view_module_version": "1.2.0",
      "_view_name": "StyleView",
      "bar_color": null,
      "description_width": ""
     }
    },
    "84ec112a9c174c939fe250a9083543b0": {
     "model_module": "@jupyter-widgets/controls",
     "model_name": "VBoxModel",
     "model_module_version": "1.5.0",
     "state": {
      "_dom_classes": [],
      "_model_module": "@jupyter-widgets/controls",
      "_model_module_version": "1.5.0",
      "_model_name": "VBoxModel",
      "_view_count": null,
      "_view_module": "@jupyter-widgets/controls",
      "_view_module_version": "1.5.0",
      "_view_name": "VBoxView",
      "box_style": "",
      "children": [
       "IPY_MODEL_935b83a955cb42d19579e03f491dfb45",
       "IPY_MODEL_8d2b17835b5b4d77a1f5e0215876cc96"
      ],
      "layout": "IPY_MODEL_bbfd635ae8ac423bb97797d9c8b7e141"
     }
    },
    "935b83a955cb42d19579e03f491dfb45": {
     "model_module": "@jupyter-widgets/controls",
     "model_name": "LabelModel",
     "model_module_version": "1.5.0",
     "state": {
      "_dom_classes": [],
      "_model_module": "@jupyter-widgets/controls",
      "_model_module_version": "1.5.0",
      "_model_name": "LabelModel",
      "_view_count": null,
      "_view_module": "@jupyter-widgets/controls",
      "_view_module_version": "1.5.0",
      "_view_name": "LabelView",
      "description": "",
      "description_tooltip": null,
      "layout": "IPY_MODEL_d84db8e96a6842b3b8f5ae48317ebd44",
      "placeholder": "​",
      "style": "IPY_MODEL_3d8bac83363c442ab0a1e5fbddb27a3b",
      "value": "0.015 MB of 0.015 MB uploaded\r"
     }
    },
    "8d2b17835b5b4d77a1f5e0215876cc96": {
     "model_module": "@jupyter-widgets/controls",
     "model_name": "FloatProgressModel",
     "model_module_version": "1.5.0",
     "state": {
      "_dom_classes": [],
      "_model_module": "@jupyter-widgets/controls",
      "_model_module_version": "1.5.0",
      "_model_name": "FloatProgressModel",
      "_view_count": null,
      "_view_module": "@jupyter-widgets/controls",
      "_view_module_version": "1.5.0",
      "_view_name": "ProgressView",
      "bar_style": "",
      "description": "",
      "description_tooltip": null,
      "layout": "IPY_MODEL_2dddd4cd31ad4ee99ba8e8bc569b5505",
      "max": 1,
      "min": 0,
      "orientation": "horizontal",
      "style": "IPY_MODEL_17cc6ec5102849ccadf9d5fb8ab68e1f",
      "value": 1
     }
    },
    "bbfd635ae8ac423bb97797d9c8b7e141": {
     "model_module": "@jupyter-widgets/base",
     "model_name": "LayoutModel",
     "model_module_version": "1.2.0",
     "state": {
      "_model_module": "@jupyter-widgets/base",
      "_model_module_version": "1.2.0",
      "_model_name": "LayoutModel",
      "_view_count": null,
      "_view_module": "@jupyter-widgets/base",
      "_view_module_version": "1.2.0",
      "_view_name": "LayoutView",
      "align_content": null,
      "align_items": null,
      "align_self": null,
      "border": null,
      "bottom": null,
      "display": null,
      "flex": null,
      "flex_flow": null,
      "grid_area": null,
      "grid_auto_columns": null,
      "grid_auto_flow": null,
      "grid_auto_rows": null,
      "grid_column": null,
      "grid_gap": null,
      "grid_row": null,
      "grid_template_areas": null,
      "grid_template_columns": null,
      "grid_template_rows": null,
      "height": null,
      "justify_content": null,
      "justify_items": null,
      "left": null,
      "margin": null,
      "max_height": null,
      "max_width": null,
      "min_height": null,
      "min_width": null,
      "object_fit": null,
      "object_position": null,
      "order": null,
      "overflow": null,
      "overflow_x": null,
      "overflow_y": null,
      "padding": null,
      "right": null,
      "top": null,
      "visibility": null,
      "width": null
     }
    },
    "d84db8e96a6842b3b8f5ae48317ebd44": {
     "model_module": "@jupyter-widgets/base",
     "model_name": "LayoutModel",
     "model_module_version": "1.2.0",
     "state": {
      "_model_module": "@jupyter-widgets/base",
      "_model_module_version": "1.2.0",
      "_model_name": "LayoutModel",
      "_view_count": null,
      "_view_module": "@jupyter-widgets/base",
      "_view_module_version": "1.2.0",
      "_view_name": "LayoutView",
      "align_content": null,
      "align_items": null,
      "align_self": null,
      "border": null,
      "bottom": null,
      "display": null,
      "flex": null,
      "flex_flow": null,
      "grid_area": null,
      "grid_auto_columns": null,
      "grid_auto_flow": null,
      "grid_auto_rows": null,
      "grid_column": null,
      "grid_gap": null,
      "grid_row": null,
      "grid_template_areas": null,
      "grid_template_columns": null,
      "grid_template_rows": null,
      "height": null,
      "justify_content": null,
      "justify_items": null,
      "left": null,
      "margin": null,
      "max_height": null,
      "max_width": null,
      "min_height": null,
      "min_width": null,
      "object_fit": null,
      "object_position": null,
      "order": null,
      "overflow": null,
      "overflow_x": null,
      "overflow_y": null,
      "padding": null,
      "right": null,
      "top": null,
      "visibility": null,
      "width": null
     }
    },
    "3d8bac83363c442ab0a1e5fbddb27a3b": {
     "model_module": "@jupyter-widgets/controls",
     "model_name": "DescriptionStyleModel",
     "model_module_version": "1.5.0",
     "state": {
      "_model_module": "@jupyter-widgets/controls",
      "_model_module_version": "1.5.0",
      "_model_name": "DescriptionStyleModel",
      "_view_count": null,
      "_view_module": "@jupyter-widgets/base",
      "_view_module_version": "1.2.0",
      "_view_name": "StyleView",
      "description_width": ""
     }
    },
    "2dddd4cd31ad4ee99ba8e8bc569b5505": {
     "model_module": "@jupyter-widgets/base",
     "model_name": "LayoutModel",
     "model_module_version": "1.2.0",
     "state": {
      "_model_module": "@jupyter-widgets/base",
      "_model_module_version": "1.2.0",
      "_model_name": "LayoutModel",
      "_view_count": null,
      "_view_module": "@jupyter-widgets/base",
      "_view_module_version": "1.2.0",
      "_view_name": "LayoutView",
      "align_content": null,
      "align_items": null,
      "align_self": null,
      "border": null,
      "bottom": null,
      "display": null,
      "flex": null,
      "flex_flow": null,
      "grid_area": null,
      "grid_auto_columns": null,
      "grid_auto_flow": null,
      "grid_auto_rows": null,
      "grid_column": null,
      "grid_gap": null,
      "grid_row": null,
      "grid_template_areas": null,
      "grid_template_columns": null,
      "grid_template_rows": null,
      "height": null,
      "justify_content": null,
      "justify_items": null,
      "left": null,
      "margin": null,
      "max_height": null,
      "max_width": null,
      "min_height": null,
      "min_width": null,
      "object_fit": null,
      "object_position": null,
      "order": null,
      "overflow": null,
      "overflow_x": null,
      "overflow_y": null,
      "padding": null,
      "right": null,
      "top": null,
      "visibility": null,
      "width": null
     }
    },
    "17cc6ec5102849ccadf9d5fb8ab68e1f": {
     "model_module": "@jupyter-widgets/controls",
     "model_name": "ProgressStyleModel",
     "model_module_version": "1.5.0",
     "state": {
      "_model_module": "@jupyter-widgets/controls",
      "_model_module_version": "1.5.0",
      "_model_name": "ProgressStyleModel",
      "_view_count": null,
      "_view_module": "@jupyter-widgets/base",
      "_view_module_version": "1.2.0",
      "_view_name": "StyleView",
      "bar_color": null,
      "description_width": ""
     }
    }
   }
  }
 },
 "nbformat": 4,
 "nbformat_minor": 5
}

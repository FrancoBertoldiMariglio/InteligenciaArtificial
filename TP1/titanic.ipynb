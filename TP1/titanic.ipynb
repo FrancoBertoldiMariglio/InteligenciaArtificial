{
 "cells": [
  {
   "cell_type": "code",
   "execution_count": 152,
   "id": "initial_id",
   "metadata": {
    "collapsed": true,
    "ExecuteTime": {
     "end_time": "2024-08-14T20:29:49.283309Z",
     "start_time": "2024-08-14T20:29:49.281466Z"
    }
   },
   "outputs": [],
   "source": [
    "import seaborn as sns\n",
    "from scipy import stats"
   ]
  },
  {
   "cell_type": "markdown",
   "source": [
    "Se analizara el dataset en busqueda de valores nulos y duplicados para su correcion\n",
    "Se analizara la tasa de supervivencia y mortalidad de los pasajeros del titanic segun su clase\n",
    "Se hara un analisis de correlatividad entre el precio del ticket y la supervivencia"
   ],
   "metadata": {
    "collapsed": false
   },
   "id": "57d2b8be2a3f8fb2"
  },
  {
   "cell_type": "code",
   "outputs": [
    {
     "data": {
      "text/plain": "     survived  pclass     sex   age  sibsp  parch     fare embarked   class  \\\n0           0       3    male  22.0      1      0   7.2500        S   Third   \n1           1       1  female  38.0      1      0  71.2833        C   First   \n2           1       3  female  26.0      0      0   7.9250        S   Third   \n3           1       1  female  35.0      1      0  53.1000        S   First   \n4           0       3    male  35.0      0      0   8.0500        S   Third   \n..        ...     ...     ...   ...    ...    ...      ...      ...     ...   \n886         0       2    male  27.0      0      0  13.0000        S  Second   \n887         1       1  female  19.0      0      0  30.0000        S   First   \n888         0       3  female   NaN      1      2  23.4500        S   Third   \n889         1       1    male  26.0      0      0  30.0000        C   First   \n890         0       3    male  32.0      0      0   7.7500        Q   Third   \n\n       who  adult_male deck  embark_town alive  alone  \n0      man        True  NaN  Southampton    no  False  \n1    woman       False    C    Cherbourg   yes  False  \n2    woman       False  NaN  Southampton   yes   True  \n3    woman       False    C  Southampton   yes  False  \n4      man        True  NaN  Southampton    no   True  \n..     ...         ...  ...          ...   ...    ...  \n886    man        True  NaN  Southampton    no   True  \n887  woman       False    B  Southampton   yes   True  \n888  woman       False  NaN  Southampton    no  False  \n889    man        True    C    Cherbourg   yes   True  \n890    man        True  NaN   Queenstown    no   True  \n\n[891 rows x 15 columns]",
      "text/html": "<div>\n<style scoped>\n    .dataframe tbody tr th:only-of-type {\n        vertical-align: middle;\n    }\n\n    .dataframe tbody tr th {\n        vertical-align: top;\n    }\n\n    .dataframe thead th {\n        text-align: right;\n    }\n</style>\n<table border=\"1\" class=\"dataframe\">\n  <thead>\n    <tr style=\"text-align: right;\">\n      <th></th>\n      <th>survived</th>\n      <th>pclass</th>\n      <th>sex</th>\n      <th>age</th>\n      <th>sibsp</th>\n      <th>parch</th>\n      <th>fare</th>\n      <th>embarked</th>\n      <th>class</th>\n      <th>who</th>\n      <th>adult_male</th>\n      <th>deck</th>\n      <th>embark_town</th>\n      <th>alive</th>\n      <th>alone</th>\n    </tr>\n  </thead>\n  <tbody>\n    <tr>\n      <th>0</th>\n      <td>0</td>\n      <td>3</td>\n      <td>male</td>\n      <td>22.0</td>\n      <td>1</td>\n      <td>0</td>\n      <td>7.2500</td>\n      <td>S</td>\n      <td>Third</td>\n      <td>man</td>\n      <td>True</td>\n      <td>NaN</td>\n      <td>Southampton</td>\n      <td>no</td>\n      <td>False</td>\n    </tr>\n    <tr>\n      <th>1</th>\n      <td>1</td>\n      <td>1</td>\n      <td>female</td>\n      <td>38.0</td>\n      <td>1</td>\n      <td>0</td>\n      <td>71.2833</td>\n      <td>C</td>\n      <td>First</td>\n      <td>woman</td>\n      <td>False</td>\n      <td>C</td>\n      <td>Cherbourg</td>\n      <td>yes</td>\n      <td>False</td>\n    </tr>\n    <tr>\n      <th>2</th>\n      <td>1</td>\n      <td>3</td>\n      <td>female</td>\n      <td>26.0</td>\n      <td>0</td>\n      <td>0</td>\n      <td>7.9250</td>\n      <td>S</td>\n      <td>Third</td>\n      <td>woman</td>\n      <td>False</td>\n      <td>NaN</td>\n      <td>Southampton</td>\n      <td>yes</td>\n      <td>True</td>\n    </tr>\n    <tr>\n      <th>3</th>\n      <td>1</td>\n      <td>1</td>\n      <td>female</td>\n      <td>35.0</td>\n      <td>1</td>\n      <td>0</td>\n      <td>53.1000</td>\n      <td>S</td>\n      <td>First</td>\n      <td>woman</td>\n      <td>False</td>\n      <td>C</td>\n      <td>Southampton</td>\n      <td>yes</td>\n      <td>False</td>\n    </tr>\n    <tr>\n      <th>4</th>\n      <td>0</td>\n      <td>3</td>\n      <td>male</td>\n      <td>35.0</td>\n      <td>0</td>\n      <td>0</td>\n      <td>8.0500</td>\n      <td>S</td>\n      <td>Third</td>\n      <td>man</td>\n      <td>True</td>\n      <td>NaN</td>\n      <td>Southampton</td>\n      <td>no</td>\n      <td>True</td>\n    </tr>\n    <tr>\n      <th>...</th>\n      <td>...</td>\n      <td>...</td>\n      <td>...</td>\n      <td>...</td>\n      <td>...</td>\n      <td>...</td>\n      <td>...</td>\n      <td>...</td>\n      <td>...</td>\n      <td>...</td>\n      <td>...</td>\n      <td>...</td>\n      <td>...</td>\n      <td>...</td>\n      <td>...</td>\n    </tr>\n    <tr>\n      <th>886</th>\n      <td>0</td>\n      <td>2</td>\n      <td>male</td>\n      <td>27.0</td>\n      <td>0</td>\n      <td>0</td>\n      <td>13.0000</td>\n      <td>S</td>\n      <td>Second</td>\n      <td>man</td>\n      <td>True</td>\n      <td>NaN</td>\n      <td>Southampton</td>\n      <td>no</td>\n      <td>True</td>\n    </tr>\n    <tr>\n      <th>887</th>\n      <td>1</td>\n      <td>1</td>\n      <td>female</td>\n      <td>19.0</td>\n      <td>0</td>\n      <td>0</td>\n      <td>30.0000</td>\n      <td>S</td>\n      <td>First</td>\n      <td>woman</td>\n      <td>False</td>\n      <td>B</td>\n      <td>Southampton</td>\n      <td>yes</td>\n      <td>True</td>\n    </tr>\n    <tr>\n      <th>888</th>\n      <td>0</td>\n      <td>3</td>\n      <td>female</td>\n      <td>NaN</td>\n      <td>1</td>\n      <td>2</td>\n      <td>23.4500</td>\n      <td>S</td>\n      <td>Third</td>\n      <td>woman</td>\n      <td>False</td>\n      <td>NaN</td>\n      <td>Southampton</td>\n      <td>no</td>\n      <td>False</td>\n    </tr>\n    <tr>\n      <th>889</th>\n      <td>1</td>\n      <td>1</td>\n      <td>male</td>\n      <td>26.0</td>\n      <td>0</td>\n      <td>0</td>\n      <td>30.0000</td>\n      <td>C</td>\n      <td>First</td>\n      <td>man</td>\n      <td>True</td>\n      <td>C</td>\n      <td>Cherbourg</td>\n      <td>yes</td>\n      <td>True</td>\n    </tr>\n    <tr>\n      <th>890</th>\n      <td>0</td>\n      <td>3</td>\n      <td>male</td>\n      <td>32.0</td>\n      <td>0</td>\n      <td>0</td>\n      <td>7.7500</td>\n      <td>Q</td>\n      <td>Third</td>\n      <td>man</td>\n      <td>True</td>\n      <td>NaN</td>\n      <td>Queenstown</td>\n      <td>no</td>\n      <td>True</td>\n    </tr>\n  </tbody>\n</table>\n<p>891 rows × 15 columns</p>\n</div>"
     },
     "execution_count": 153,
     "metadata": {},
     "output_type": "execute_result"
    }
   ],
   "source": [
    "titanic = sns.load_dataset('titanic')\n",
    "titanic"
   ],
   "metadata": {
    "collapsed": false,
    "ExecuteTime": {
     "end_time": "2024-08-14T20:29:49.314627Z",
     "start_time": "2024-08-14T20:29:49.306692Z"
    }
   },
   "id": "f4fabeacff12e5b0",
   "execution_count": 153
  },
  {
   "cell_type": "code",
   "outputs": [
    {
     "name": "stdout",
     "output_type": "stream",
     "text": [
      "<class 'pandas.core.frame.DataFrame'>\n",
      "RangeIndex: 891 entries, 0 to 890\n",
      "Data columns (total 15 columns):\n",
      " #   Column       Non-Null Count  Dtype   \n",
      "---  ------       --------------  -----   \n",
      " 0   survived     891 non-null    int64   \n",
      " 1   pclass       891 non-null    int64   \n",
      " 2   sex          891 non-null    object  \n",
      " 3   age          714 non-null    float64 \n",
      " 4   sibsp        891 non-null    int64   \n",
      " 5   parch        891 non-null    int64   \n",
      " 6   fare         891 non-null    float64 \n",
      " 7   embarked     889 non-null    object  \n",
      " 8   class        891 non-null    category\n",
      " 9   who          891 non-null    object  \n",
      " 10  adult_male   891 non-null    bool    \n",
      " 11  deck         203 non-null    category\n",
      " 12  embark_town  889 non-null    object  \n",
      " 13  alive        891 non-null    object  \n",
      " 14  alone        891 non-null    bool    \n",
      "dtypes: bool(2), category(2), float64(2), int64(4), object(5)\n",
      "memory usage: 80.7+ KB\n"
     ]
    }
   ],
   "source": [
    "titanic.info()"
   ],
   "metadata": {
    "collapsed": false,
    "ExecuteTime": {
     "end_time": "2024-08-14T20:29:49.319501Z",
     "start_time": "2024-08-14T20:29:49.315614Z"
    }
   },
   "id": "102e581e383899e6",
   "execution_count": 154
  },
  {
   "cell_type": "markdown",
   "source": [
    "Hay observaciones duplicadas en el dataset"
   ],
   "metadata": {
    "collapsed": false
   },
   "id": "1057329018d01306"
  },
  {
   "cell_type": "code",
   "outputs": [
    {
     "data": {
      "text/plain": "np.int64(107)"
     },
     "execution_count": 155,
     "metadata": {},
     "output_type": "execute_result"
    }
   ],
   "source": [
    "titanic.duplicated().sum()"
   ],
   "metadata": {
    "collapsed": false,
    "ExecuteTime": {
     "end_time": "2024-08-14T20:29:49.323434Z",
     "start_time": "2024-08-14T20:29:49.320266Z"
    }
   },
   "id": "c19c6e17ae9386f2",
   "execution_count": 155
  },
  {
   "cell_type": "code",
   "outputs": [
    {
     "data": {
      "text/plain": "np.int64(0)"
     },
     "execution_count": 156,
     "metadata": {},
     "output_type": "execute_result"
    }
   ],
   "source": [
    "titanic.drop_duplicates(inplace=True)\n",
    "titanic.duplicated().sum()"
   ],
   "metadata": {
    "collapsed": false,
    "ExecuteTime": {
     "end_time": "2024-08-14T20:29:49.328480Z",
     "start_time": "2024-08-14T20:29:49.324645Z"
    }
   },
   "id": "d339119f0a02349f",
   "execution_count": 156
  },
  {
   "cell_type": "markdown",
   "source": [
    "Hay observaciones a las cuales les falta la edad y el puerto de embarque (no vamos a tener en cuenta deck ya que se desconoce que representa en el dataset)"
   ],
   "metadata": {
    "collapsed": false
   },
   "id": "62ca99a6d3762a42"
  },
  {
   "cell_type": "code",
   "outputs": [
    {
     "data": {
      "text/plain": "survived         0\npclass           0\nsex              0\nage            106\nsibsp            0\nparch            0\nfare             0\nembarked         2\nclass            0\nwho              0\nadult_male       0\ndeck           582\nembark_town      2\nalive            0\nalone            0\ndtype: int64"
     },
     "execution_count": 157,
     "metadata": {},
     "output_type": "execute_result"
    }
   ],
   "source": [
    "titanic.isnull().sum()"
   ],
   "metadata": {
    "collapsed": false,
    "ExecuteTime": {
     "end_time": "2024-08-14T20:29:49.331762Z",
     "start_time": "2024-08-14T20:29:49.328914Z"
    }
   },
   "id": "6f00922c5efdf429",
   "execution_count": 157
  },
  {
   "cell_type": "markdown",
   "source": [
    "Vamos a completar ambas columnas con la media de la edad y la moda del puerto de embarque"
   ],
   "metadata": {
    "collapsed": false
   },
   "id": "2a1460574545745"
  },
  {
   "cell_type": "code",
   "outputs": [
    {
     "name": "stdout",
     "output_type": "stream",
     "text": [
      "edad promedio de mujeres 27.9462890625\n",
      "edad promedio de hombres 31.035947867298578\n",
      "puerto de embarque mas comun S\n",
      "ciudad de embarque mas comun Southampton\n"
     ]
    }
   ],
   "source": [
    "female_mean_age = titanic[titanic['sex'] == 'female'].age.mean()\n",
    "man_mean_age = titanic[titanic['sex'] == 'male'].age.mean()\n",
    "mode_embarked = titanic.embarked.mode()[0]\n",
    "mode_embark_town = titanic.embark_town.mode()[0]\n",
    "\n",
    "print('edad promedio de mujeres', female_mean_age)\n",
    "print('edad promedio de hombres', man_mean_age)\n",
    "print('puerto de embarque mas comun', mode_embarked)\n",
    "print('ciudad de embarque mas comun', mode_embark_town)"
   ],
   "metadata": {
    "collapsed": false,
    "ExecuteTime": {
     "end_time": "2024-08-14T20:29:49.335499Z",
     "start_time": "2024-08-14T20:29:49.332340Z"
    }
   },
   "id": "b4ce08b6793144fd",
   "execution_count": 158
  },
  {
   "cell_type": "code",
   "outputs": [
    {
     "name": "stderr",
     "output_type": "stream",
     "text": [
      "/var/folders/xr/8g60y89560j6qzlm3sgc1_jh0000gn/T/ipykernel_3681/859827898.py:6: FutureWarning: A value is trying to be set on a copy of a DataFrame or Series through chained assignment using an inplace method.\n",
      "The behavior will change in pandas 3.0. This inplace method will never work because the intermediate object on which we are setting values always behaves as a copy.\n",
      "\n",
      "For example, when doing 'df[col].method(value, inplace=True)', try using 'df.method({col: value}, inplace=True)' or df[col] = df[col].method(value) instead, to perform the operation inplace on the original object.\n",
      "\n",
      "\n",
      "  titanic['embarked'].fillna(mode_embarked, inplace=True)\n",
      "/var/folders/xr/8g60y89560j6qzlm3sgc1_jh0000gn/T/ipykernel_3681/859827898.py:9: FutureWarning: A value is trying to be set on a copy of a DataFrame or Series through chained assignment using an inplace method.\n",
      "The behavior will change in pandas 3.0. This inplace method will never work because the intermediate object on which we are setting values always behaves as a copy.\n",
      "\n",
      "For example, when doing 'df[col].method(value, inplace=True)', try using 'df.method({col: value}, inplace=True)' or df[col] = df[col].method(value) instead, to perform the operation inplace on the original object.\n",
      "\n",
      "\n",
      "  titanic['embark_town'].fillna(mode_embark_town, inplace=True)\n"
     ]
    },
    {
     "data": {
      "text/plain": "survived         0\npclass           0\nsex              0\nage              0\nsibsp            0\nparch            0\nfare             0\nembarked         0\nclass            0\nwho              0\nadult_male       0\ndeck           582\nembark_town      0\nalive            0\nalone            0\ndtype: int64"
     },
     "execution_count": 159,
     "metadata": {},
     "output_type": "execute_result"
    }
   ],
   "source": [
    "titanic.loc[(titanic['age'].isna()) & (titanic['sex'] == 'female'), 'age'] = female_mean_age\n",
    "titanic.loc[(titanic['age'].isna()) & (titanic['sex'] == 'male'), 'age'] = man_mean_age\n",
    "\n",
    "titanic['embarked'].fillna(mode_embarked, inplace=True)\n",
    "\n",
    "titanic['embark_town'].fillna(mode_embark_town, inplace=True)\n",
    "\n",
    "titanic.isnull().sum()"
   ],
   "metadata": {
    "collapsed": false,
    "ExecuteTime": {
     "end_time": "2024-08-14T20:29:49.340842Z",
     "start_time": "2024-08-14T20:29:49.336089Z"
    }
   },
   "id": "34d807364ee04ecb",
   "execution_count": 159
  },
  {
   "cell_type": "code",
   "outputs": [
    {
     "data": {
      "text/plain": "<Axes: xlabel='survived', ylabel='count'>"
     },
     "execution_count": 160,
     "metadata": {},
     "output_type": "execute_result"
    },
    {
     "data": {
      "text/plain": "<Figure size 640x480 with 1 Axes>",
      "image/png": "[encoded data removed]"
     },
     "metadata": {},
     "output_type": "display_data"
    }
   ],
   "source": [
    "sns.countplot(x='survived', hue='pclass', data=titanic)"
   ],
   "metadata": {
    "collapsed": false,
    "ExecuteTime": {
     "end_time": "2024-08-14T20:29:49.401675Z",
     "start_time": "2024-08-14T20:29:49.341339Z"
    }
   },
   "id": "dca82b5f885e52bc",
   "execution_count": 160
  },
  {
   "cell_type": "code",
   "outputs": [
    {
     "name": "stdout",
     "output_type": "stream",
     "text": [
      "primera clase 0.4179566563467492\n",
      "segunda clase 0.26006191950464397\n",
      "tercera clase 0.3219814241486068\n"
     ]
    }
   ],
   "source": [
    "survived = titanic.survived.groupby(titanic.pclass).sum()\n",
    "survived_first_proportion = survived[1] / survived.sum()\n",
    "survived_second_proportion = survived[2] / survived.sum()\n",
    "survived_third_proportion = survived[3] / survived.sum()\n",
    "\n",
    "print(\"primera clase\", survived_first_proportion)\n",
    "print(\"segunda clase\", survived_second_proportion)\n",
    "print(\"tercera clase\", survived_third_proportion)"
   ],
   "metadata": {
    "collapsed": false,
    "ExecuteTime": {
     "end_time": "2024-08-14T20:29:49.405613Z",
     "start_time": "2024-08-14T20:29:49.402430Z"
    }
   },
   "id": "26a4dbfdfabe1496",
   "execution_count": 161
  },
  {
   "cell_type": "code",
   "outputs": [
    {
     "name": "stdout",
     "output_type": "stream",
     "text": [
      "primera clase 0.17136659436008678\n",
      "segunda clase 0.175704989154013\n",
      "tercera clase 0.6529284164859002\n"
     ]
    }
   ],
   "source": [
    "dead = titanic.survived.groupby(titanic.pclass).count() - survived\n",
    "dead_first_proportion = dead[1] / dead.sum()\n",
    "dead_second_proportion = dead[2] / dead.sum()\n",
    "dead_third_proportion = dead[3] / dead.sum()\n",
    "\n",
    "print(\"primera clase\", dead_first_proportion)\n",
    "print(\"segunda clase\", dead_second_proportion)\n",
    "print(\"tercera clase\", dead_third_proportion)"
   ],
   "metadata": {
    "collapsed": false,
    "ExecuteTime": {
     "end_time": "2024-08-14T20:29:49.411730Z",
     "start_time": "2024-08-14T20:29:49.408473Z"
    }
   },
   "id": "ebddfd3844600444",
   "execution_count": 162
  },
  {
   "cell_type": "markdown",
   "source": [
    "Se ve claramente que la clase 1 tiene mayor tasa de supervivencia y que la clase 3 tiene mayor tasa de mortalidad "
   ],
   "metadata": {
    "collapsed": false
   },
   "id": "a578511ef7f04eef"
  },
  {
   "cell_type": "code",
   "outputs": [
    {
     "data": {
      "text/plain": "<Axes: xlabel='fare', ylabel='survived'>"
     },
     "execution_count": 163,
     "metadata": {},
     "output_type": "execute_result"
    },
    {
     "data": {
      "text/plain": "<Figure size 640x480 with 1 Axes>",
      "image/png": "[encoded data removed]"
     },
     "metadata": {},
     "output_type": "display_data"
    }
   ],
   "source": [
    "sns.scatterplot(x='fare', y='survived', data=titanic)"
   ],
   "metadata": {
    "collapsed": false,
    "ExecuteTime": {
     "end_time": "2024-08-14T20:29:49.490068Z",
     "start_time": "2024-08-14T20:29:49.416886Z"
    }
   },
   "id": "875d5b8d7b4b4be3",
   "execution_count": 163
  },
  {
   "cell_type": "markdown",
   "source": [
    "Se ve que no hay una correlacion clara entre el precio del ticket y la supervivencia"
   ],
   "metadata": {
    "collapsed": false
   },
   "id": "590a9daee92f49da"
  },
  {
   "cell_type": "code",
   "outputs": [
    {
     "name": "stdout",
     "output_type": "stream",
     "text": [
      "Correlación de Pearson: 0.24676903154258573\n"
     ]
    }
   ],
   "source": [
    "corr, _ = stats.pearsonr(titanic['fare'], titanic['survived'])\n",
    "\n",
    "print('Correlación de Pearson:', corr)"
   ],
   "metadata": {
    "collapsed": false,
    "ExecuteTime": {
     "end_time": "2024-08-14T20:29:49.493724Z",
     "start_time": "2024-08-14T20:29:49.490795Z"
    }
   },
   "id": "f40233af9c8f0169",
   "execution_count": 164
  },
  {
   "cell_type": "markdown",
   "source": [
    "Vemos que el valor de la correlacion de Pearson es muy bajo, por lo que no hay una correlacion clara entre el precio del ticket y la supervivencia"
   ],
   "metadata": {
    "collapsed": false
   },
   "id": "ff80acbf12986e96"
  }
 ],
 "metadata": {
  "kernelspec": {
   "display_name": "Python 3",
   "language": "python",
   "name": "python3"
  },
  "language_info": {
   "codemirror_mode": {
    "name": "ipython",
    "version": 2
   },
   "file_extension": ".py",
   "mimetype": "text/x-python",
   "name": "python",
   "nbconvert_exporter": "python",
   "pygments_lexer": "ipython2",
   "version": "2.7.6"
  }
 },
 "nbformat": 4,
 "nbformat_minor": 5
}

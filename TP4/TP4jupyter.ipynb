{
 "cells": [
  {
   "cell_type": "markdown",
   "source": [
    "# Trabajo Pracatico 4 - Redes Neuronales Convolucionales\n",
    "\n",
    "Vamos a realizar una clasificacion binaria de imagnes que pueden ser de gatos o perros, para ello vamos a utilizar un dataset de Kaggle llamado \"cats-vs-dogs\" que contiene 23.409 imágenes de gatos y perros. El objetivo es entrenar un modelo de clasificación binaria que pueda distinguir entre imágenes de gatos y perros.\n",
    "\n",
    "Se van a proponer los siguientes modelos:\n",
    "\n",
    "- **Modelo 1:** Red convolucional simple (SimpleCNN) creada desde cero.\n",
    "- **Modelo 2:** Red convolucional basada en ResNet18.\n",
    "- **Modelo 4:** Red convolucional avanzacda (AdvancedCNN) creada desde cero.\n",
    "- **Modelo 3:** Red convolucional basada en ResNet18 con cambios en hiperparametros.\n",
    "- **Modelo 5:** Red convolucional basada en Inception de Google con cambios en hiperparametros."
   ],
   "metadata": {
    "collapsed": false,
    "id": "5aa4d9bed7ac6d10"
   },
   "id": "5aa4d9bed7ac6d10"
  },
  {
   "cell_type": "markdown",
   "source": [
    "Asignamos el dataset a la variable **dataset**"
   ],
   "metadata": {
    "id": "_1gUgAWK1Rqf"
   },
   "id": "_1gUgAWK1Rqf"
  },
  {
   "cell_type": "code",
   "outputs": [],
   "source": [
    "from datasets import load_dataset\n",
    "\n",
    "dataset = load_dataset(\"cats_vs_dogs\")"
   ],
   "metadata": {
    "id": "62a3f5b0b4d5fd4e"
   },
   "id": "62a3f5b0b4d5fd4e",
   "execution_count": null
  },
  {
   "cell_type": "markdown",
   "source": [
    "Creamos un *DataFrame* llamado **mydataset**, el cual almacenará el path de cada imágen junto a su etiqueta (perro o gato). Además creamos un directorio llamado dataset y almacenamos allí las imágenes.\n"
   ],
   "metadata": {
    "id": "jiS_pLhO1hIe"
   },
   "id": "jiS_pLhO1hIe"
  },
  {
   "cell_type": "code",
   "outputs": [],
   "source": [
    "import pandas as pd\n",
    "import os\n",
    "\n",
    "main_dir = './dataset'\n",
    "os.makedirs(main_dir, exist_ok=True)\n",
    "\n",
    "mydataset = pd.DataFrame(columns=['image_path', 'label'])\n",
    "\n",
    "for i in range(len(dataset['train'])):\n",
    "    img_path = f\"{main_dir}/img_{i}.jpeg\"\n",
    "\n",
    "    if not os.path.exists(img_path):\n",
    "        dataset['train'][i]['image'].save(img_path)\n",
    "\n",
    "    mydataset.at[i, 'image_path'] = img_path\n",
    "    mydataset.at[i, 'label'] = dataset['train'][i]['labels']\n",
    "\n",
    "mydataset.head()"
   ],
   "metadata": {
    "id": "18f786f3d1d77ead",
    "outputId": "348f81b6-c493-492f-fe98-fc8fae768837",
    "colab": {
     "base_uri": "https://localhost:8080/",
     "height": 206
    }
   },
   "id": "18f786f3d1d77ead",
   "execution_count": null
  },
  {
   "cell_type": "markdown",
   "source": [
    "Creamos un diccionario para almacenar los parámetros que usaremos."
   ],
   "metadata": {
    "collapsed": false,
    "id": "b74f536a3a8038ee"
   },
   "id": "b74f536a3a8038ee"
  },
  {
   "cell_type": "code",
   "outputs": [],
   "source": [
    "exp_config = dict()"
   ],
   "metadata": {
    "id": "efa97dd716f5447a"
   },
   "id": "efa97dd716f5447a",
   "execution_count": null
  },
  {
   "cell_type": "markdown",
   "source": [
    "Definimos la semilla para que al divir el dataset en train, test y val, sea siempre la misma división de datos. Además, especificamos la proporción de datos que serán para testeo y para validación."
   ],
   "metadata": {
    "id": "VKScy5ZE1_KS"
   },
   "id": "VKScy5ZE1_KS"
  },
  {
   "cell_type": "code",
   "outputs": [],
   "source": [
    "seed = 42\n",
    "test_size = 0.15\n",
    "val_size = 0.20\n",
    "\n",
    "exp_config['seed'] = seed\n",
    "exp_config['test_size'] = test_size\n",
    "exp_config['val_size'] = val_size"
   ],
   "metadata": {
    "id": "5ae023464ee7d8ff"
   },
   "id": "5ae023464ee7d8ff",
   "execution_count": null
  },
  {
   "cell_type": "markdown",
   "source": [
    "Dividimos el dataset en *train*, *test*, *val*.\n",
    "\n",
    "**Aclaración:** los datos de validación surgen de una parte de los datos de testeo."
   ],
   "metadata": {
    "id": "wSXflM8R23IA"
   },
   "id": "wSXflM8R23IA"
  },
  {
   "cell_type": "code",
   "outputs": [],
   "source": [
    "from sklearn.model_selection import train_test_split\n",
    "\n",
    "train_val_df, test_df = train_test_split(mydataset, test_size=test_size, stratify=mydataset['label'], random_state=seed)\n",
    "\n",
    "train_df, val_df = train_test_split(train_val_df, test_size=val_size, stratify=train_val_df['label'], random_state=seed)"
   ],
   "metadata": {
    "id": "acfdebddb8975812"
   },
   "id": "acfdebddb8975812",
   "execution_count": null
  },
  {
   "cell_type": "markdown",
   "source": [
    "Añadimos parámetros de configuración al diccionario."
   ],
   "metadata": {
    "id": "ZZKi7exX3C1O"
   },
   "id": "ZZKi7exX3C1O"
  },
  {
   "cell_type": "code",
   "outputs": [],
   "source": [
    "exp_config['train_n_cats'] = train_df['label'].value_counts()[0]\n",
    "exp_config['train_n_dogs'] = train_df['label'].value_counts()[1]\n",
    "exp_config['val_n_cats'] = val_df['label'].value_counts()[0]\n",
    "exp_config['val_n_dogs'] = val_df['label'].value_counts()[1]\n",
    "exp_config['test_n_cats'] = test_df['label'].value_counts()[0]\n",
    "exp_config['test_n_dogs'] = test_df['label'].value_counts()[1]"
   ],
   "metadata": {
    "id": "917c26bc02be395f"
   },
   "id": "917c26bc02be395f",
   "execution_count": null
  },
  {
   "cell_type": "markdown",
   "source": [
    "La clase **CatsDogsDataset** es una implementación personalizada de una clase llamda *Dataset* de PyTorch que permite cargar y transformar las imágenes del dataset.\n",
    "\n",
    "**Explicación**\n",
    "1. Constructor (\\_\\_init\\_\\_):  \n",
    "- img_path_list: Lista de rutas de las imágenes.\n",
    "- lab_list: Lista de etiquetas correspondientes a las imágenes (0 para gatos, 1 para perros).\n",
    "- transform: Transformaciones opcionales que se aplicarán a las imágenes (por ejemplo, redimensionar, normalizar).\n",
    "2. Método \\_\\_len\\_\\_:  \n",
    "- Devuelve la cantidad de imágenes en el conjunto de datos.\n",
    "3. Método \\_\\_getitem\\_\\_:\n",
    "- idx: Índice de la imagen y etiqueta que se desea obtener.\n",
    "- img_path: Obtiene la ruta de la imagen en el índice idx.\n",
    "- image: Abre la imagen y la convierte a formato RGB.\n",
    "- label: Obtiene la etiqueta correspondiente a la imagen y la convierte a un tensor de PyTorch.\n",
    "- Si se especificaron transformaciones, se aplican a la imagen.\n",
    "- Devuelve la imagen transformada y su etiqueta correspondiente."
   ],
   "metadata": {
    "id": "c-1bZ5CU3Gri"
   },
   "id": "c-1bZ5CU3Gri"
  },
  {
   "cell_type": "code",
   "outputs": [],
   "source": [
    "from PIL import Image\n",
    "import torch\n",
    "from torch.utils.data import Dataset\n",
    "\n",
    "class CatsDogsDataset(Dataset):\n",
    "    def __init__(self, img_path_list, lab_list, transform=None):\n",
    "        self.transform = transform\n",
    "        self.images = img_path_list\n",
    "        self.labels = lab_list\n",
    "\n",
    "    def __len__(self):\n",
    "        return len(self.images)\n",
    "\n",
    "    def __getitem__(self, idx):\n",
    "        img_path = self.images[idx]\n",
    "        image = Image.open(img_path).convert(\"RGB\")\n",
    "\n",
    "        label = self.labels[idx]\n",
    "        label = torch.Tensor([label])\n",
    "\n",
    "        if self.transform:\n",
    "            image = self.transform(image)\n",
    "\n",
    "        return image, label"
   ],
   "metadata": {
    "id": "2cd7f71cfa333705"
   },
   "id": "2cd7f71cfa333705",
   "execution_count": null
  },
  {
   "cell_type": "markdown",
   "source": [
    "Definimos la resolución de las imágenes que serán procesadas."
   ],
   "metadata": {
    "id": "mNXY7zTh31QJ"
   },
   "id": "mNXY7zTh31QJ"
  },
  {
   "cell_type": "code",
   "outputs": [],
   "source": [
    "input_size = (224,224)\n",
    "exp_config['input_size'] = input_size"
   ],
   "metadata": {
    "id": "61b41a6d728d3c10"
   },
   "id": "61b41a6d728d3c10",
   "execution_count": null
  },
  {
   "cell_type": "markdown",
   "source": [
    "Como las imágenes son a color en formato RGB, definiremos 3 canales"
   ],
   "metadata": {
    "id": "fBTkFhnn382u"
   },
   "id": "fBTkFhnn382u"
  },
  {
   "cell_type": "code",
   "outputs": [],
   "source": [
    "n_channels = 3\n",
    "exp_config['n_channels'] = n_channels"
   ],
   "metadata": {
    "id": "7e9634b1fc3514d6"
   },
   "id": "7e9634b1fc3514d6",
   "execution_count": null
  },
  {
   "cell_type": "markdown",
   "source": [
    "Creamos el *transform* que será usado, el cual redimensiona las imágenes a la resolución dada."
   ],
   "metadata": {
    "id": "qb6wxASF4KHR"
   },
   "id": "qb6wxASF4KHR"
  },
  {
   "cell_type": "code",
   "outputs": [],
   "source": [
    "from torchvision import transforms\n",
    "\n",
    "transform = transforms.Compose([\n",
    "    transforms.Resize(input_size),\n",
    "    transforms.ToTensor(),\n",
    "])"
   ],
   "metadata": {
    "id": "60979fd3aadf9c30"
   },
   "id": "60979fd3aadf9c30",
   "execution_count": null
  },
  {
   "cell_type": "markdown",
   "source": [
    "Creamos los datasets de train, test y val."
   ],
   "metadata": {
    "id": "j-RUgCbO4Yg_"
   },
   "id": "j-RUgCbO4Yg_"
  },
  {
   "cell_type": "code",
   "outputs": [],
   "source": [
    "train_dataset = CatsDogsDataset(train_df['image_path'].tolist(), train_df['label'].tolist(), transform)\n",
    "test_dataset = CatsDogsDataset(test_df['image_path'].tolist(), test_df['label'].tolist(), transform)\n",
    "val_dataset = CatsDogsDataset(val_df['image_path'].tolist(), val_df['label'].tolist(), transform)"
   ],
   "metadata": {
    "id": "5adde669c2867e8d"
   },
   "id": "5adde669c2867e8d",
   "execution_count": null
  },
  {
   "cell_type": "markdown",
   "source": [
    "Creamos los *DataLoaders* de train, test y val, y definimos el tamaño de lote.\n",
    "\n",
    "**Aclaración:** el batch size de test es 1,los datos no serán mezclados por cada época y no se eliminarán datos para alcanzar el tamaño de lote establecido."
   ],
   "metadata": {
    "id": "CzsTv8jC4-Js"
   },
   "id": "CzsTv8jC4-Js"
  },
  {
   "cell_type": "code",
   "outputs": [],
   "source": [
    "from torch.utils.data import DataLoader\n",
    "\n",
    "batch_size = 64\n",
    "exp_config['batch_size'] = batch_size\n",
    "\n",
    "train_dataloader = DataLoader(train_dataset, batch_size=batch_size, shuffle=True, drop_last=True)\n",
    "val_dataloader = DataLoader(train_dataset, batch_size=batch_size, shuffle=True, drop_last=True)\n",
    "test_dataloader = DataLoader(test_dataset, batch_size=1, shuffle=False, drop_last=False)"
   ],
   "metadata": {
    "id": "cc5bed8c2518e66c"
   },
   "id": "cc5bed8c2518e66c",
   "execution_count": null
  },
  {
   "cell_type": "markdown",
   "source": [
    "## WandB"
   ],
   "metadata": {
    "id": "EIOjZvGA-7hH"
   },
   "id": "EIOjZvGA-7hH"
  },
  {
   "cell_type": "code",
   "outputs": [],
   "source": [
    "import wandb\n",
    "\n",
    "wandb.login(key=\"d567fa512c6502cc7986d8c90fd37c4f0969de0d\")"
   ],
   "metadata": {
    "colab": {
     "base_uri": "https://localhost:8080/"
    },
    "id": "xdsh8Yex_rmJ",
    "outputId": "60191220-65f9-4910-cc44-c5551e95c617"
   },
   "id": "xdsh8Yex_rmJ",
   "execution_count": null
  },
  {
   "cell_type": "markdown",
   "source": [
    "## Modelos"
   ],
   "metadata": {
    "collapsed": false
   },
   "id": "FFrM1a1R94KL"
  },
  {
   "cell_type": "code",
   "outputs": [],
   "source": [
    "import torch.nn as nn\n",
    "\n",
    "class SimpleCNN(nn.Module):\n",
    "    def __init__(self):\n",
    "        super(SimpleCNN, self).__init__()\n",
    "        self.conv1 = nn.Conv2d(3, 16, kernel_size=3, padding=1)\n",
    "        self.pool = nn.MaxPool2d(kernel_size=2, stride=2)\n",
    "        self.relu = nn.ReLU()\n",
    "        self.conv2 = nn.Conv2d(16, 32, kernel_size=3, padding=1)\n",
    "        self.flatten = nn.Flatten()\n",
    "        self.fc1 = nn.Linear(32 * 56 * 56, 64)\n",
    "        self.fc2 = nn.Linear(64, 1)\n",
    "        self.sigmoid = nn.Sigmoid()\n",
    "\n",
    "    def forward(self, x):\n",
    "      x = self.conv1(x)\n",
    "      x = self.relu(x)\n",
    "      x = self.pool(x)\n",
    "\n",
    "      x = self.conv2(x)\n",
    "      x = self.relu(x)\n",
    "      x = self.pool(x)\n",
    "\n",
    "      x = self.flatten(x)\n",
    "      x = self.fc1(x)\n",
    "      x = self.relu(x)\n",
    "      x = self.fc2(x)\n",
    "      x = torch.sigmoid(x)\n",
    "\n",
    "      return x"
   ],
   "metadata": {
    "id": "JZ9_Zdd36fpA"
   },
   "id": "JZ9_Zdd36fpA",
   "execution_count": null
  },
  {
   "cell_type": "code",
   "outputs": [],
   "source": [
    "import torchvision.models as models\n",
    "\n",
    "class ResNet18(nn.Module):\n",
    "    def __init__(self):\n",
    "        super(ResNet18, self).__init__()\n",
    "        self.base_model = models.resnet18(pretrained=True)\n",
    "        self.base_model.fc = nn.Linear(self.base_model.fc.in_features, 1)\n",
    "\n",
    "    def forward(self, x):\n",
    "        x = self.base_model(x)\n",
    "        x = torch.sigmoid(x)\n",
    "\n",
    "        return x"
   ],
   "metadata": {
    "id": "8b08e7104cfe584d"
   },
   "id": "8b08e7104cfe584d",
   "execution_count": null
  },
  {
   "source": [
    "import torch\n",
    "import torch.nn as nn\n",
    "import torch.nn.functional as F\n",
    "\n",
    "class AdvancedCNN(nn.Module):\n",
    "    def __init__(self):\n",
    "        super(AdvancedCNN, self).__init__()\n",
    "\n",
    "        self.conv1 = nn.Conv2d(in_channels=3, out_channels=32, kernel_size=3, stride=1, padding=1)\n",
    "        self.bn1 = nn.BatchNorm2d(32)\n",
    "        self.pool1 = nn.MaxPool2d(kernel_size=2, stride=2, padding=0)\n",
    "\n",
    "        self.conv2 = nn.Conv2d(in_channels=32, out_channels=64, kernel_size=3, stride=1, padding=1)\n",
    "        self.bn2 = nn.BatchNorm2d(64)\n",
    "        self.pool2 = nn.MaxPool2d(kernel_size=2, stride=2, padding=0)\n",
    "\n",
    "        self.conv3 = nn.Conv2d(in_channels=64, out_channels=128, kernel_size=3, stride=1, padding=1)\n",
    "        self.bn3 = nn.BatchNorm2d(128)\n",
    "        self.pool3 = nn.MaxPool2d(kernel_size=2, stride=2, padding=0)\n",
    "\n",
    "        self.conv4 = nn.Conv2d(in_channels=128, out_channels=256, kernel_size=3, stride=1, padding=1)\n",
    "        self.bn4 = nn.BatchNorm2d(256)\n",
    "        self.pool4 = nn.MaxPool2d(kernel_size=2, stride=2, padding=0)\n",
    "\n",
    "        self.flatten = nn.Flatten()\n",
    "        self.fc1 = nn.Linear(256 * 14 * 14, 512)\n",
    "        self.dropout = nn.Dropout(0.5)\n",
    "        self.fc2 = nn.Linear(512, 1)\n",
    "\n",
    "    def forward(self, x):\n",
    "        x = self.pool1(F.relu(self.bn1(self.conv1(x))))\n",
    "        x = self.pool2(F.relu(self.bn2(self.conv2(x))))\n",
    "        x = self.pool3(F.relu(self.bn3(self.conv3(x))))\n",
    "        x = self.pool4(F.relu(self.bn4(self.conv4(x))))\n",
    "\n",
    "        x = self.flatten(x)\n",
    "\n",
    "        x = F.relu(self.fc1(x))\n",
    "        x = self.dropout(x)\n",
    "        x = torch.sigmoid(self.fc2(x))\n"
   ],
   "cell_type": "code",
   "metadata": {
    "id": "7EDWNnbDg-NQ"
   },
   "id": "7EDWNnbDg-NQ",
   "execution_count": null,
   "outputs": []
  },
  {
   "cell_type": "code",
   "outputs": [],
   "source": [
    "class InceptionCNN(nn.Module):\n",
    "    def __init__(self):\n",
    "        super(InceptionCNN, self).__init__()\n",
    "        self.base_model = models.inception_v3(pretrained=True)\n",
    "        self.base_model.fc = nn.Linear(self.base_model.fc.in_features, 1)\n",
    "\n",
    "    def forward(self, x):\n",
    "        x = self.base_model(x)\n",
    "        x = torch.sigmoid(x)\n",
    "\n",
    "        return x"
   ],
   "metadata": {
    "id": "ab9ec139ba7bae95"
   },
   "execution_count": null,
   "id": "ab9ec139ba7bae95"
  },
  {
   "cell_type": "markdown",
   "source": [
    "Definimos el dispositivo donde se realizará el entrenamiento (CPU o GPU)."
   ],
   "metadata": {
    "collapsed": false,
    "id": "a38be0e94c61dc74"
   },
   "id": "a38be0e94c61dc74"
  },
  {
   "cell_type": "code",
   "outputs": [],
   "source": [
    "if os.name == 'posix':\n",
    "    device = torch.device(\"mps\" if torch.mps.is_available() else \"cpu\")\n",
    "elif os.name == 'nt':\n",
    "    device = torch.device(\"cuda\" if torch.cuda.is_available() else \"cpu\")\n",
    "else:\n",
    "    device = torch.device(\"cpu\")\n",
    "\n",
    "device"
   ],
   "metadata": {
    "id": "a50750bcf13f5bf7",
    "outputId": "216c4e80-3016-49d8-bf1e-4cb8b4e38eec",
    "colab": {
     "base_uri": "https://localhost:8080/"
    }
   },
   "id": "a50750bcf13f5bf7",
   "execution_count": null
  },
  {
   "cell_type": "markdown",
   "source": [
    "### Función de entrenamiento y validación."
   ],
   "metadata": {
    "id": "LFqvj0Hz-fXq"
   },
   "id": "LFqvj0Hz-fXq"
  },
  {
   "cell_type": "code",
   "outputs": [],
   "source": [
    "def train(model, train_dataloader, criterion, optimizer, device):\n",
    "\n",
    "    model.to(device)\n",
    "    model.train()\n",
    "    running_loss = 0.0\n",
    "    correct = 0\n",
    "    total = 0\n",
    "\n",
    "    for images, labels in train_dataloader:\n",
    "        images, labels = images.to(device), labels.to(device)\n",
    "\n",
    "        optimizer.zero_grad()\n",
    "        outputs = model(images)\n",
    "\n",
    "        loss = criterion(outputs, labels)\n",
    "        loss.backward()\n",
    "\n",
    "        optimizer.step()\n",
    "\n",
    "        running_loss += loss.item()\n",
    "\n",
    "        threshold = 0.5\n",
    "        predicted = (outputs.detach() >= threshold)\n",
    "        total += labels.size(0)\n",
    "        correct += (predicted == labels).sum().item()\n",
    "\n",
    "    train_avg_loss = running_loss / len(train_dataloader)\n",
    "    train_accuracy = correct / total\n",
    "\n",
    "    return train_avg_loss, train_accuracy\n",
    "\n",
    "def validate(model, val_dataloader, criterion, device):\n",
    "\n",
    "    model.eval()\n",
    "\n",
    "    running_loss = 0.0\n",
    "    correct = 0\n",
    "    total = 0\n",
    "    with torch.no_grad():\n",
    "        for images, labels in val_dataloader:\n",
    "            images, labels = images.to(device), labels.to(device)\n",
    "\n",
    "            outputs = model(images)\n",
    "\n",
    "            loss = criterion(outputs, labels)\n",
    "            running_loss += loss.item()\n",
    "\n",
    "            threshold = 0.5\n",
    "            predicted = (outputs.detach() >= threshold)\n",
    "            total += labels.size(0)\n",
    "            correct += (predicted == labels).sum().item()\n",
    "\n",
    "    val_avg_loss = running_loss / len(val_dataloader)\n",
    "    val_accuracy = correct / total\n",
    "\n",
    "    return val_avg_loss, val_accuracy\n",
    "\n",
    "def train_and_validate(model, train_dataloader, val_dataloader, criterion, optimizer, device, num_epochs, early_stopping_patience, checkpoint_path):\n",
    "\n",
    "    best_val_loss = 5\n",
    "\n",
    "    for epoch in range(num_epochs):\n",
    "        train_loss, train_accuracy = train(model, train_dataloader, criterion, optimizer, device)\n",
    "        val_loss, val_accuracy = validate(model, val_dataloader, criterion, device)\n",
    "\n",
    "        print(f'Epoch [{epoch + 1}/{num_epochs}], '\n",
    "              f'Train Loss: {train_loss:.4f}, Train Accuracy: {train_accuracy:.2f}, '\n",
    "              f'Validation Loss: {val_loss:.4f}, Validation Accuracy: {val_accuracy:.2f}')\n",
    "\n",
    "        wandb.log({\"epochs\": epoch,\n",
    "                  \"train_acc\": train_accuracy,\n",
    "                   \"train_loss\": train_loss,\n",
    "                   \"val_acc\": val_accuracy,\n",
    "                   \"val_loss\": val_loss})\n",
    "\n",
    "        if val_loss < best_val_loss:\n",
    "          best_val_loss = val_loss\n",
    "          torch.save(model.state_dict(), checkpoint_path)\n",
    "          epochs_without_improvement = 0\n",
    "          print(\"Checkpoint saved\")\n",
    "\n",
    "        else:\n",
    "          epochs_without_improvement +=1\n",
    "          if epochs_without_improvement == early_stopping_patience:\n",
    "            print(\"Early Stopping\")\n",
    "            break"
   ],
   "metadata": {
    "id": "C7hXPmvE-kMD"
   },
   "id": "C7hXPmvE-kMD",
   "execution_count": null
  },
  {
   "cell_type": "markdown",
   "source": [
    "### Funcion de testeo"
   ],
   "metadata": {
    "collapsed": false,
    "id": "3e31540877765f5"
   },
   "id": "3e31540877765f5"
  },
  {
   "cell_type": "code",
   "outputs": [],
   "source": [
    "def test(model, test_dataloader, device):\n",
    "    y_true = []\n",
    "    y_proba = []\n",
    "\n",
    "    for image, label in test_dataloader:\n",
    "        image, label = image.to(device), label.to(device)\n",
    "\n",
    "        with torch.no_grad():\n",
    "            output = model(image)\n",
    "\n",
    "            y_true.append(label.to(\"cpu\").float())\n",
    "            y_proba.append(output.to(\"cpu\").float())\n",
    "\n",
    "    return y_true, y_proba"
   ],
   "metadata": {
    "id": "b09e8dcc750244fb"
   },
   "id": "b09e8dcc750244fb",
   "execution_count": null
  },
  {
   "cell_type": "markdown",
   "source": [
    "### Funcion para clasificar en base a un umbral"
   ],
   "metadata": {
    "collapsed": false,
    "id": "430399933d47ef8"
   },
   "id": "430399933d47ef8"
  },
  {
   "cell_type": "code",
   "outputs": [],
   "source": [
    "def classify(y_proba, y_true, thr=0.5):\n",
    "\n",
    "    y_true_tensor = torch.cat(y_true)\n",
    "    y_proba_tensor = torch.cat(y_proba)\n",
    "\n",
    "    y_pred_tensor = (y_proba_tensor >= thr).int()\n",
    "\n",
    "    y_true = y_true_tensor.numpy()\n",
    "    y_pred = y_pred_tensor.numpy()\n",
    "\n",
    "    y_proba_flat = y_proba_tensor.numpy().ravel()\n",
    "\n",
    "    return y_true, y_pred, y_proba_flat"
   ],
   "metadata": {
    "id": "761694971df87da5"
   },
   "id": "761694971df87da5",
   "execution_count": null
  },
  {
   "cell_type": "markdown",
   "source": [
    "### Funcion para calcular metricas"
   ],
   "metadata": {
    "collapsed": false,
    "id": "3559eeb984e98a3b"
   },
   "id": "3559eeb984e98a3b"
  },
  {
   "cell_type": "code",
   "outputs": [],
   "source": [
    "from sklearn.metrics import accuracy_score, confusion_matrix, roc_curve, auc, precision_score, recall_score\n",
    "\n",
    "def calculate_metrics(y_true, y_pred, y_proba_flat):\n",
    "\n",
    "    accuracy = accuracy_score(y_true, y_pred)\n",
    "    conf_matrix = confusion_matrix(y_true, y_pred)\n",
    "    precision = precision_score(y_true, y_pred)\n",
    "    recall = recall_score(y_true, y_pred)\n",
    "    specificity = recall_score(y_true, y_pred, pos_label=0)\n",
    "\n",
    "    fpr, tpr, _ = roc_curve(y_true, y_proba_flat)\n",
    "    roc_auc = auc(fpr, tpr)\n",
    "    \n",
    "    wandb.log({\n",
    "    \"test_accuracy\": accuracy,\n",
    "    \"test_precision\": precision,\n",
    "    \"test_recall\": recall,\n",
    "    \"test_specificity\": specificity,\n",
    "    \"test_confusion_matrix\": wandb.plot.confusion_matrix(y_true=y_true.flatten().tolist(), preds=y_pred.flatten().tolist(), class_names=[\"Clase 0\", \"Clase 1\"]),\n",
    "    \"test_roc_curve\": wandb.plot.roc_curve(fpr, tpr),\n",
    "    \"test_roc_auc\": roc_auc,\n",
    "    })\n",
    "\n",
    "    return accuracy, precision, recall, specificity, conf_matrix, fpr, tpr, roc_auc"
   ],
   "metadata": {
    "id": "4dcf3e40a4d19ae4"
   },
   "id": "4dcf3e40a4d19ae4",
   "execution_count": null
  },
  {
   "cell_type": "markdown",
   "source": [
    "# Uso de los CNNs"
   ],
   "metadata": {
    "collapsed": false,
    "id": "deab16e8e1c742a1"
   },
   "id": "deab16e8e1c742a1"
  },
  {
   "cell_type": "markdown",
   "source": [
    "## SimpleCNN"
   ],
   "metadata": {
    "collapsed": false,
    "id": "a5ccc5191154960e"
   },
   "id": "a5ccc5191154960e"
  },
  {
   "cell_type": "markdown",
   "source": [
    "### Elección de modelo, función de costo y optimizador."
   ],
   "metadata": {
    "id": "xXc3QO35-Gt0"
   },
   "id": "xXc3QO35-Gt0"
  },
  {
   "cell_type": "code",
   "outputs": [],
   "source": [
    "import torch.optim as optim\n",
    "\n",
    "exp_config_SimpleCNN = exp_config.copy()\n",
    "\n",
    "wandb.init(project=\"CNN_CatsvsDogs\", entity=\"ar-um\", tags=[\"BERTOLDI_MANCUSO\"], name=\"Bertoldi_Mancuso_SimpleCNN\")\n",
    "wandb.config.update(exp_config_SimpleCNN)\n",
    "\n",
    "model = SimpleCNN().to(device)\n",
    "exp_config_SimpleCNN['model'] = 'SimpleCNN'\n",
    "\n",
    "criterion = nn.BCELoss()\n",
    "exp_config_SimpleCNN['model'] = 'BCELoss'\n",
    "\n",
    "lr = 0.001\n",
    "exp_config_SimpleCNN['learning_rate'] = lr\n",
    "\n",
    "optimizer = optim.Adam(model.parameters(), lr=lr)\n",
    "exp_config_SimpleCNN['optimizador'] = 'Adam'"
   ],
   "metadata": {
    "id": "VjEFHNvs-Mvh"
   },
   "id": "VjEFHNvs-Mvh",
   "execution_count": null
  },
  {
   "cell_type": "markdown",
   "source": [
    "### Ajuste del modelo"
   ],
   "metadata": {
    "id": "V7EN1hNM-vUA"
   },
   "id": "V7EN1hNM-vUA"
  },
  {
   "cell_type": "markdown",
   "source": [
    "Aqui definimos la cantidad de epocas y el criterio que va a tener en cuenta para detener el entrenamiento en caso de no ver mejoras."
   ],
   "metadata": {
    "collapsed": false,
    "id": "de67d6fcea172d9e"
   },
   "id": "de67d6fcea172d9e"
  },
  {
   "cell_type": "code",
   "source": [
    "num_epochs = 15\n",
    "early_stopping_patience = 5\n",
    "epochs_without_improvement = 0\n",
    "\n",
    "exp_config_SimpleCNN['num_epochs'] = num_epochs\n",
    "exp_config_SimpleCNN['early_stopping_patience'] = early_stopping_patience\n",
    "\n",
    "checkpoint_path = './best_model.pth'\n",
    "\n",
    "train_and_validate(model, train_dataloader, val_dataloader, criterion, optimizer, device, num_epochs, early_stopping_patience, checkpoint_path)"
   ],
   "metadata": {
    "colab": {
     "base_uri": "https://localhost:8080/"
    },
    "id": "WuTBZ-ZU-x_a",
    "outputId": "1c10ddd5-a922-4a87-a23b-300f9fd0a35f"
   },
   "id": "WuTBZ-ZU-x_a",
   "execution_count": null,
   "outputs": []
  },
  {
   "cell_type": "markdown",
   "source": [
    "## Testeo"
   ],
   "metadata": {
    "id": "s-i41uMIBX3Y"
   },
   "id": "s-i41uMIBX3Y"
  },
  {
   "cell_type": "markdown",
   "source": [
    "Cargamos los parametros del modelo desde el checkpoint."
   ],
   "metadata": {
    "collapsed": false,
    "id": "e2762f34556a84"
   },
   "id": "e2762f34556a84"
  },
  {
   "cell_type": "code",
   "source": [
    "model = SimpleCNN().to(device)\n",
    "\n",
    "model.load_state_dict(torch.load(checkpoint_path))\n",
    "model.to(device)\n",
    "\n",
    "model.eval()"
   ],
   "metadata": {
    "id": "lWdHrwGE-0QP",
    "colab": {
     "base_uri": "https://localhost:8080/"
    },
    "outputId": "de7911c5-6625-4a67-97fc-8451f1ba89c3"
   },
   "id": "lWdHrwGE-0QP",
   "execution_count": null,
   "outputs": []
  },
  {
   "cell_type": "markdown",
   "source": [
    "Hacemos predicciones en el conjunto de test."
   ],
   "metadata": {
    "collapsed": false,
    "id": "22a053c0281bfb34"
   },
   "id": "22a053c0281bfb34"
  },
  {
   "cell_type": "code",
   "source": [
    "y_true, y_proba = test(model, test_dataloader, device)"
   ],
   "metadata": {
    "id": "D6iOBHPNBcYt"
   },
   "id": "D6iOBHPNBcYt",
   "execution_count": null,
   "outputs": []
  },
  {
   "cell_type": "markdown",
   "source": [
    "Pasamos las predicciones a tensores y clasificamos en base a un umbral."
   ],
   "metadata": {
    "collapsed": false,
    "id": "2994a50623ffadb2"
   },
   "id": "2994a50623ffadb2"
  },
  {
   "cell_type": "code",
   "source": [
    "y_true, y_pred, y_proba_flat = classify(y_proba, y_true)"
   ],
   "metadata": {
    "id": "7OUK486cBhx9"
   },
   "id": "7OUK486cBhx9",
   "execution_count": null,
   "outputs": []
  },
  {
   "cell_type": "markdown",
   "source": [
    "### Métricas"
   ],
   "metadata": {
    "collapsed": false,
    "id": "8cc5965400f647c7"
   },
   "id": "8cc5965400f647c7"
  },
  {
   "cell_type": "code",
   "source": [
    "accuracy, precision, recall, specificity, conf_matrix, fpr, tpr, roc_auc = calculate_metrics(y_true, y_pred, y_proba_flat)\n",
    "\n",
    "print(f\"Accuracy: {accuracy:.2f}\")\n",
    "print(f\"Precision: {precision:.2f}\")\n",
    "print(f\"Recall: {recall:.2f}\")\n",
    "print(f\"Specificity: {specificity:.2f}\")"
   ],
   "metadata": {
    "id": "r2Bm6XvEBi6I",
    "colab": {
     "base_uri": "https://localhost:8080/"
    },
    "outputId": "05fd0469-ce6e-4cca-c2b3-6f8750bef285"
   },
   "id": "r2Bm6XvEBi6I",
   "execution_count": null,
   "outputs": []
  },
  {
   "cell_type": "code",
   "outputs": [],
   "source": [
    "exp_config_SimpleCNN"
   ],
   "metadata": {
    "colab": {
     "base_uri": "https://localhost:8080/"
    },
    "id": "4fbc4186d25380e0",
    "outputId": "fc677ebb-9e2c-4645-9c3a-7a78461f0a9e"
   },
   "id": "4fbc4186d25380e0",
   "execution_count": null
  },
  {
   "cell_type": "markdown",
   "source": [
    "## ResNet18"
   ],
   "metadata": {
    "collapsed": false,
    "id": "d60bce6a14c24be5"
   },
   "id": "d60bce6a14c24be5"
  },
  {
   "cell_type": "markdown",
   "source": [
    "### Elección de modelo, función de costo y optimizador."
   ],
   "metadata": {
    "collapsed": false,
    "id": "b09517aa11b8f9d4"
   },
   "id": "b09517aa11b8f9d4"
  },
  {
   "cell_type": "code",
   "outputs": [],
   "source": [
    "import torch.optim as optim\n",
    "\n",
    "exp_config_ResNet18 = exp_config.copy()\n",
    "\n",
    "wandb.init(project=\"CNN_CatsvsDogs\", entity=\"ar-um\", tags=[\"BERTOLDI_MANCUSO\"], name=\"Bertoldi_Mancuso_ResNet18CNN\")\n",
    "wandb.config.update(exp_config_ResNet18)\n",
    "\n",
    "model = ResNet18().to(device)\n",
    "exp_config_ResNet18['model'] = 'ResNet18'\n",
    "\n",
    "criterion = nn.BCELoss()\n",
    "exp_config_ResNet18['model'] = 'BCELoss'\n",
    "\n",
    "lr = 0.001\n",
    "exp_config_ResNet18['learning_rate'] = lr\n",
    "\n",
    "optimizer = optim.Adam(model.parameters(), lr=lr)\n",
    "exp_config_ResNet18['optimizador'] = 'Adam'\n",
    "\n",
    "model"
   ],
   "metadata": {
    "colab": {
     "base_uri": "https://localhost:8080/"
    },
    "id": "dd1d07f97a7a2ebf",
    "outputId": "c864c362-8a58-4f6a-f18f-d8a7e00abd8f"
   },
   "id": "dd1d07f97a7a2ebf",
   "execution_count": null
  },
  {
   "cell_type": "markdown",
   "source": [
    "### Ajuste"
   ],
   "metadata": {
    "collapsed": false,
    "id": "2999cce4c3cf6adf"
   },
   "id": "2999cce4c3cf6adf"
  },
  {
   "cell_type": "code",
   "outputs": [],
   "source": [
    "num_epochs = 15\n",
    "early_stopping_patience = 5\n",
    "epochs_without_improvement = 0\n",
    "\n",
    "exp_config_ResNet18['num_epochs'] = num_epochs\n",
    "exp_config_ResNet18['early_stopping_patience'] = early_stopping_patience\n",
    "\n",
    "checkpoint_path = './best_model_ResNet18.pth'\n",
    "\n",
    "train_and_validate(model, train_dataloader, val_dataloader, criterion, optimizer, device, num_epochs, early_stopping_patience, checkpoint_path)"
   ],
   "metadata": {
    "colab": {
     "base_uri": "https://localhost:8080/",
     "height": 1000
    },
    "id": "5076c0f43c48a36",
    "outputId": "ae126e93-582c-4e2d-bfdb-437e8bd723ca"
   },
   "id": "5076c0f43c48a36",
   "execution_count": null
  },
  {
   "cell_type": "markdown",
   "source": [
    "### Test"
   ],
   "metadata": {
    "collapsed": false,
    "id": "20c7e7a15183a253"
   },
   "id": "20c7e7a15183a253"
  },
  {
   "cell_type": "code",
   "outputs": [],
   "source": [
    "model = ResNet18().to(device)\n",
    "\n",
    "model.load_state_dict(torch.load(checkpoint_path))\n",
    "model.to(device)\n",
    "\n",
    "model.eval()"
   ],
   "metadata": {
    "colab": {
     "base_uri": "https://localhost:8080/"
    },
    "id": "cd0a6fbd12495d19",
    "outputId": "24ab6265-d127-4cfb-ac86-150060d77ee5"
   },
   "id": "cd0a6fbd12495d19",
   "execution_count": null
  },
  {
   "cell_type": "code",
   "outputs": [],
   "source": [
    "y_true, y_proba = test(model, test_dataloader, device)"
   ],
   "metadata": {
    "id": "cf3a31b31da431ad"
   },
   "id": "cf3a31b31da431ad",
   "execution_count": null
  },
  {
   "cell_type": "code",
   "outputs": [],
   "source": [
    "y_true, y_pred, y_proba_flat = classify(y_proba, y_true)"
   ],
   "metadata": {
    "id": "ef4b7ee3bbe5db2c"
   },
   "id": "ef4b7ee3bbe5db2c",
   "execution_count": null
  },
  {
   "cell_type": "code",
   "outputs": [],
   "source": [
    "accuracy, precision, recall, specificity, conf_matrix, fpr, tpr, roc_auc = calculate_metrics(y_true, y_pred, y_proba_flat)\n",
    "\n",
    "print(f\"Accuracy: {accuracy:.2f}\")\n",
    "print(f\"Precision: {precision:.2f}\")\n",
    "print(f\"Recall: {recall:.2f}\")\n",
    "print(f\"Specificity: {specificity:.2f}\")"
   ],
   "metadata": {
    "colab": {
     "base_uri": "https://localhost:8080/"
    },
    "id": "531ec74d30dcb2a3",
    "outputId": "ffcf6a05-2fb0-4052-80f1-767e8a2fd029"
   },
   "id": "531ec74d30dcb2a3",
   "execution_count": null
  },
  {
   "cell_type": "code",
   "outputs": [],
   "source": [
    "exp_config_ResNet18"
   ],
   "metadata": {
    "colab": {
     "base_uri": "https://localhost:8080/"
    },
    "id": "85865e115ba16b64",
    "outputId": "c56be911-8f6f-4ea5-b070-2fb177789ea0"
   },
   "id": "85865e115ba16b64",
   "execution_count": null
  },
  {
   "cell_type": "markdown",
   "source": [
    "## ResNet 18 Modificado"
   ],
   "metadata": {
    "collapsed": false,
    "id": "8e747e4c92c04dfa"
   },
   "id": "8e747e4c92c04dfa"
  },
  {
   "cell_type": "markdown",
   "source": [
    "### Elección de modelo, función de costo y optimizador."
   ],
   "metadata": {
    "collapsed": false,
    "id": "754a84af737d21c7"
   },
   "id": "754a84af737d21c7"
  },
  {
   "cell_type": "code",
   "outputs": [],
   "source": [
    "import torch.optim as optim\n",
    "\n",
    "exp_config_ResNet18Modificado = exp_config.copy()\n",
    "\n",
    "wandb.init(project=\"CNN_CatsvsDogs\", entity=\"ar-um\", tags=[\"BERTOLDI_MANCUSO\"], name=\"Bertoldi_Mancuso_ResNet18ModificadoCNN\")\n",
    "wandb.config.update(exp_config_ResNet18Modificado)\n",
    "\n",
    "model = ResNet18().to(device)\n",
    "exp_config_ResNet18Modificado['model'] = 'ResNet18Modificado'\n",
    "\n",
    "criterion = nn.BCELoss()\n",
    "exp_config_ResNet18Modificado['model'] = 'BCELoss'\n",
    "\n",
    "lr = 0.001\n",
    "exp_config_ResNet18Modificado['learning_rate'] = lr\n",
    "\n",
    "# Se usara otro optimizador\n",
    "\n",
    "weight_decay = 0.01\n",
    "exp_config_ResNet18Modificado['weight_decay'] = weight_decay\n",
    "\n",
    "optimizer = torch.optim.AdamW(model.parameters(), lr=lr, weight_decay=weight_decay)\n",
    "\n",
    "exp_config_ResNet18Modificado['optimizador'] = 'AdamW'\n",
    "\n",
    "model"
   ],
   "metadata": {
    "colab": {
     "base_uri": "https://localhost:8080/"
    },
    "id": "b0746d3371d2c65e",
    "outputId": "be1478a6-514a-40a9-b1a2-4b4dbe02979b"
   },
   "id": "b0746d3371d2c65e",
   "execution_count": null
  },
  {
   "cell_type": "markdown",
   "source": [
    "### Ajuste"
   ],
   "metadata": {
    "collapsed": false,
    "id": "dc644ecaa3e5fae4"
   },
   "id": "dc644ecaa3e5fae4"
  },
  {
   "cell_type": "code",
   "outputs": [],
   "source": [
    "num_epochs = 15\n",
    "early_stopping_patience = 5\n",
    "epochs_without_improvement = 0\n",
    "\n",
    "exp_config_ResNet18Modificado['num_epochs'] = num_epochs\n",
    "exp_config_ResNet18Modificado['early_stopping_patience'] = early_stopping_patience\n",
    "\n",
    "checkpoint_path = './best_model_ResNet18.pth'\n",
    "\n",
    "train_and_validate(model, train_dataloader, val_dataloader, criterion, optimizer, device, num_epochs, early_stopping_patience, checkpoint_path)"
   ],
   "metadata": {
    "colab": {
     "base_uri": "https://localhost:8080/"
    },
    "id": "f5e7ac13a45d964c",
    "outputId": "3634e40e-ddb8-4dd2-df8a-a3a8243d590a"
   },
   "id": "f5e7ac13a45d964c",
   "execution_count": null
  },
  {
   "cell_type": "markdown",
   "source": [
    "### Test"
   ],
   "metadata": {
    "collapsed": false,
    "id": "9a0a99e401ae94fd"
   },
   "id": "9a0a99e401ae94fd"
  },
  {
   "cell_type": "code",
   "outputs": [],
   "source": [
    "model = ResNet18().to(device)\n",
    "\n",
    "model.load_state_dict(torch.load(checkpoint_path))\n",
    "model.to(device)\n",
    "\n",
    "model.eval()"
   ],
   "metadata": {
    "id": "81f391a6bf403a68"
   },
   "id": "81f391a6bf403a68",
   "execution_count": null
  },
  {
   "cell_type": "code",
   "outputs": [],
   "source": [
    "y_true, y_proba = test(model, test_dataloader, device)"
   ],
   "metadata": {
    "id": "e3e7d677fdb04142"
   },
   "id": "e3e7d677fdb04142",
   "execution_count": null
  },
  {
   "cell_type": "code",
   "outputs": [],
   "source": [
    "y_true, y_pred, y_proba_flat = classify(y_proba, y_true)"
   ],
   "metadata": {
    "id": "bf9b71f5259eb20d"
   },
   "id": "bf9b71f5259eb20d",
   "execution_count": null
  },
  {
   "cell_type": "code",
   "outputs": [],
   "source": [
    "accuracy, precision, recall, specificity, conf_matrix, fpr, tpr, roc_auc = calculate_metrics(y_true, y_pred, y_proba_flat)\n",
    "\n",
    "print(f\"Accuracy: {accuracy:.2f}\")\n",
    "print(f\"Precision: {precision:.2f}\")\n",
    "print(f\"Recall: {recall:.2f}\")\n",
    "print(f\"Specificity: {specificity:.2f}\")"
   ],
   "metadata": {
    "id": "37105a9566bb12e"
   },
   "id": "37105a9566bb12e",
   "execution_count": null
  },
  {
   "cell_type": "code",
   "outputs": [],
   "source": [
    "exp_config_ResNet18Modificado"
   ],
   "metadata": {
    "collapsed": false
   },
   "id": "bbf2a57837ecaee5"
  },
  {
   "cell_type": "markdown",
   "source": [
    "## AdvancedCNN"
   ],
   "metadata": {
    "collapsed": false,
    "id": "345abf7483b2b9ce"
   },
   "id": "345abf7483b2b9ce"
  },
  {
   "cell_type": "markdown",
   "source": [
    "### Elección de modelo, función de costo y optimizador."
   ],
   "metadata": {
    "collapsed": false,
    "id": "70aa42eb1aa182ea"
   },
   "id": "70aa42eb1aa182ea"
  },
  {
   "cell_type": "code",
   "outputs": [],
   "source": [
    "import torch.optim as optim\n",
    "\n",
    "exp_config_AdvancedCNN = exp_config.copy()\n",
    "\n",
    "wandb.init(project=\"CNN_CatsvsDogs\", entity=\"ar-um\", tags=[\"BERTOLDI_MANCUSO\"], name=\"Bertoldi_Mancuso_AdvancedCNN\")\n",
    "wandb.config.update(exp_config_AdvancedCNN)\n",
    "\n",
    "model = AdvancedCNN().to(device)\n",
    "exp_config_AdvancedCNN['model'] = 'AdvancedCNN'\n",
    "\n",
    "criterion = nn.BCELoss()\n",
    "exp_config_AdvancedCNN['model'] = 'BCELoss'\n",
    "\n",
    "lr = 0.001\n",
    "exp_config_AdvancedCNN['learning_rate'] = lr\n",
    "\n",
    "optimizer = optim.Adam(model.parameters(), lr=lr)\n",
    "exp_config_AdvancedCNN['optimizador'] = 'Adam'\n",
    "\n",
    "model"
   ],
   "metadata": {
    "colab": {
     "base_uri": "https://localhost:8080/"
    },
    "id": "e286d84afdd398d0",
    "outputId": "7dfdfc2c-9a95-4910-d5ce-76fdec2a5b2f"
   },
   "id": "e286d84afdd398d0",
   "execution_count": 0
  },
  {
   "cell_type": "markdown",
   "source": [
    "### Ajuste"
   ],
   "metadata": {
    "collapsed": false,
    "id": "fc8c41c09e6392db"
   },
   "id": "fc8c41c09e6392db"
  },
  {
   "cell_type": "code",
   "outputs": [],
   "source": [
    "num_epochs = 15\n",
    "early_stopping_patience = 5\n",
    "epochs_without_improvement = 0\n",
    "\n",
    "exp_config_AdvancedCNN['num_epochs'] = num_epochs\n",
    "exp_config_AdvancedCNN['early_stopping_patience'] = early_stopping_patience\n",
    "\n",
    "checkpoint_path = './best_model_AdvancedCNN.pth'\n",
    "\n",
    "train_and_validate(model, train_dataloader, val_dataloader, criterion, optimizer, device, num_epochs, early_stopping_patience, checkpoint_path)"
   ],
   "metadata": {
    "colab": {
     "base_uri": "https://localhost:8080/",
     "height": 382
    },
    "id": "f462b1b48422bc83",
    "outputId": "c3b1ddf6-7aef-48fa-b9bc-5c8c6a2814f0"
   },
   "id": "f462b1b48422bc83",
   "execution_count": 0
  },
  {
   "cell_type": "markdown",
   "source": [
    "### Test"
   ],
   "metadata": {
    "collapsed": false,
    "id": "4f3e6325730805ba"
   },
   "id": "4f3e6325730805ba"
  },
  {
   "cell_type": "code",
   "outputs": [],
   "source": [
    "model = AdvancedCNN().to(device)\n",
    "\n",
    "model.load_state_dict(torch.load(checkpoint_path))\n",
    "model.to(device)\n",
    "\n",
    "model.eval()"
   ],
   "metadata": {
    "id": "b6af521514502a2b"
   },
   "id": "b6af521514502a2b",
   "execution_count": 0
  },
  {
   "cell_type": "markdown",
   "source": [
    "Hacemos predicciones en el conjunto de test."
   ],
   "metadata": {
    "collapsed": false,
    "id": "9de1a51d71952b69"
   },
   "id": "9de1a51d71952b69"
  },
  {
   "cell_type": "code",
   "outputs": [],
   "source": [
    "y_true, y_proba = test(model, test_dataloader, device)"
   ],
   "metadata": {
    "id": "65dcd595dfdaeac1"
   },
   "id": "65dcd595dfdaeac1",
   "execution_count": 0
  },
  {
   "cell_type": "code",
   "outputs": [],
   "source": [
    "y_true, y_pred, y_proba_flat = classify(y_proba, y_true)"
   ],
   "metadata": {
    "id": "4bcd90765b27f731"
   },
   "id": "4bcd90765b27f731",
   "execution_count": 0
  },
  {
   "cell_type": "code",
   "outputs": [],
   "source": [
    "accuracy, precision, recall, specificity, conf_matrix, fpr, tpr, roc_auc = calculate_metrics(y_true, y_pred, y_proba_flat)\n",
    "\n",
    "print(f\"Accuracy: {accuracy:.2f}\")\n",
    "print(f\"Precision: {precision:.2f}\")\n",
    "print(f\"Recall: {recall:.2f}\")\n",
    "print(f\"Specificity: {specificity:.2f}\")"
   ],
   "metadata": {
    "id": "d277c3eaf83d0be1"
   },
   "id": "d277c3eaf83d0be1",
   "execution_count": 0
  },
  {
   "cell_type": "code",
   "outputs": [],
   "source": [
    "exp_config_AdvancedCNN"
   ],
   "metadata": {
    "id": "20a239d95a63c130"
   },
   "id": "20a239d95a63c130",
   "execution_count": 0
  },
  {
   "cell_type": "markdown",
   "source": [
    "## InceptionCNN"
   ],
   "metadata": {
    "collapsed": false,
    "id": "70b0e1855091aa65"
   },
   "id": "70b0e1855091aa65"
  },
  {
   "cell_type": "markdown",
   "source": [
    "### Elección de modelo, función de costo y optimizador."
   ],
   "metadata": {
    "collapsed": false,
    "id": "2279e3dcb430e838"
   },
   "id": "2279e3dcb430e838"
  },
  {
   "cell_type": "code",
   "outputs": [],
   "source": [
    "import torch.optim as optim\n",
    "\n",
    "exp_config_Inception = exp_config.copy()\n",
    "\n",
    "wandb.init(project=\"CNN_CatsvsDogs\", entity=\"ar-um\", tags=[\"BERTOLDI_MANCUSO\"], name=\"Bertoldi_Mancuso_InceptionCNN\")\n",
    "wandb.config.update(exp_config_Inception)\n",
    "\n",
    "model = InceptionCNN().to(device)\n",
    "exp_config_Inception['model'] = 'InceptionCNN'\n",
    "\n",
    "criterion = nn.BCELoss()\n",
    "exp_config_Inception['model'] = 'BCELoss'\n",
    "\n",
    "lr = 0.001\n",
    "exp_config_Inception['learning_rate'] = lr\n",
    "\n",
    "optimizer = optim.Adam(model.parameters(), lr=lr)\n",
    "exp_config_Inception['optimizador'] = 'Adam'\n",
    "\n",
    "model"
   ],
   "metadata": {
    "colab": {
     "base_uri": "https://localhost:8080/"
    },
    "id": "c73f0df0d2220ac2",
    "outputId": "3203604d-d9f4-48c8-bf2f-a348bdf6a875"
   },
   "id": "c73f0df0d2220ac2",
   "execution_count": 0
  },
  {
   "cell_type": "markdown",
   "source": [
    "### Ajuste"
   ],
   "metadata": {
    "collapsed": false,
    "id": "e5579e91605a4ea9"
   },
   "id": "e5579e91605a4ea9"
  },
  {
   "cell_type": "code",
   "outputs": [],
   "source": [
    "num_epochs = 15\n",
    "early_stopping_patience = 5\n",
    "epochs_without_improvement = 0\n",
    "\n",
    "exp_config_Inception['num_epochs'] = num_epochs\n",
    "exp_config_Inception['early_stopping_patience'] = early_stopping_patience\n",
    "\n",
    "checkpoint_path = './best_model_InceptionCNN.pth'\n",
    "\n",
    "train_and_validate(model, train_dataloader, val_dataloader, criterion, optimizer, device, num_epochs, early_stopping_patience, checkpoint_path)"
   ],
   "metadata": {
    "colab": {
     "base_uri": "https://localhost:8080/",
     "height": 365
    },
    "id": "33636581ed86202b",
    "outputId": "3def9aa7-3291-4f6f-88c7-e0bff20eee90"
   },
   "id": "33636581ed86202b",
   "execution_count": 0
  },
  {
   "cell_type": "markdown",
   "source": [
    "### Test"
   ],
   "metadata": {
    "collapsed": false,
    "id": "f1059f86abf235cd"
   },
   "id": "f1059f86abf235cd"
  },
  {
   "cell_type": "code",
   "outputs": [],
   "source": [
    "model = InceptionCNN().to(device)\n",
    "\n",
    "model.load_state_dict(torch.load(checkpoint_path))\n",
    "model.to(device)\n",
    "\n",
    "model.eval()"
   ],
   "metadata": {
    "id": "2bb02c571f3b525b"
   },
   "id": "2bb02c571f3b525b",
   "execution_count": 0
  },
  {
   "cell_type": "code",
   "outputs": [],
   "source": [
    "y_true, y_proba = test(model, test_dataloader, device)"
   ],
   "metadata": {
    "id": "4ea448209096e7b1"
   },
   "id": "4ea448209096e7b1",
   "execution_count": 0
  },
  {
   "cell_type": "code",
   "outputs": [],
   "source": [
    "y_true, y_pred, y_proba_flat = classify(y_proba, y_true)"
   ],
   "metadata": {
    "id": "a5786e0c50d24a69"
   },
   "id": "a5786e0c50d24a69",
   "execution_count": 0
  },
  {
   "cell_type": "code",
   "outputs": [],
   "source": [
    "accuracy, precision, recall, specificity, conf_matrix, fpr, tpr, roc_auc = calculate_metrics(y_true, y_pred, y_proba_flat)\n",
    "\n",
    "print(f\"Accuracy: {accuracy:.2f}\")\n",
    "print(f\"Precision: {precision:.2f}\")\n",
    "print(f\"Recall: {recall:.2f}\")\n",
    "print(f\"Specificity: {specificity:.2f}\")"
   ],
   "metadata": {
    "id": "5e9f6c85f5824bac"
   },
   "id": "5e9f6c85f5824bac",
   "execution_count": 0
  },
  {
   "cell_type": "code",
   "outputs": [],
   "source": [
    "exp_config_Inception"
   ],
   "metadata": {
    "id": "9e2668c2c519175e"
   },
   "id": "9e2668c2c519175e",
   "execution_count": 0
  },
  {
   "cell_type": "markdown",
   "source": [
    "## Inception Modificado"
   ],
   "metadata": {
    "collapsed": false,
    "id": "189f456affd6af9f"
   },
   "id": "189f456affd6af9f"
  },
  {
   "cell_type": "markdown",
   "source": [
    "### Elección de modelo, función de costo y optimizador."
   ],
   "metadata": {
    "collapsed": false,
    "id": "16418645bb9b6abe"
   },
   "id": "16418645bb9b6abe"
  },
  {
   "cell_type": "code",
   "outputs": [],
   "source": [
    "import torch.optim as optim\n",
    "\n",
    "exp_config_InceptionModificado = exp_config.copy()\n",
    "\n",
    "wandb.init(project=\"CNN_CatsvsDogs\", entity=\"ar-um\", tags=[\"BERTOLDI_MANCUSO\"], name=\"Bertoldi_Mancuso_InceptionModificadoCNN\")\n",
    "wandb.config.update(exp_config_InceptionModificado)\n",
    "\n",
    "model = InceptionCNN().to(device)\n",
    "exp_config_InceptionModificado['model'] = 'InceptionModificado'\n",
    "\n",
    "criterion = nn.BCELoss()\n",
    "exp_config_InceptionModificado['model'] = 'BCELoss'\n",
    "\n",
    "lr = 0.01\n",
    "exp_config_InceptionModificado['learning_rate'] = lr\n",
    "\n",
    "optimizer = torch.optim.Adam(model.parameters(), lr=lr, weight_decay=weight_decay)\n",
    "\n",
    "exp_config_InceptionModificado['optimizador'] = 'Adam'\n",
    "\n",
    "model"
   ],
   "metadata": {
    "id": "4e50976ab1f4e34c"
   },
   "id": "4e50976ab1f4e34c",
   "execution_count": null
  },
  {
   "cell_type": "markdown",
   "source": [
    "### Ajuste"
   ],
   "metadata": {
    "collapsed": false,
    "id": "1a04c2a9c64c2e89"
   },
   "id": "1a04c2a9c64c2e89"
  },
  {
   "cell_type": "code",
   "outputs": [],
   "source": [
    "num_epochs = 15\n",
    "early_stopping_patience = 5\n",
    "epochs_without_improvement = 0\n",
    "\n",
    "exp_config_InceptionModificado['num_epochs'] = num_epochs\n",
    "exp_config_InceptionModificado['early_stopping_patience'] = early_stopping_patience\n",
    "\n",
    "checkpoint_path = './best_model_Inception.pth'\n",
    "\n",
    "train_and_validate(model, train_dataloader, val_dataloader, criterion, optimizer, device, num_epochs, early_stopping_patience, checkpoint_path)"
   ],
   "metadata": {
    "id": "22eb1f0c71d83619"
   },
   "id": "22eb1f0c71d83619",
   "execution_count": null
  },
  {
   "cell_type": "markdown",
   "source": [
    "### Test"
   ],
   "metadata": {
    "collapsed": false,
    "id": "c645d0b0a0fbc365"
   },
   "id": "c645d0b0a0fbc365"
  },
  {
   "cell_type": "code",
   "outputs": [],
   "source": [
    "model = InceptionCNN().to(device)\n",
    "\n",
    "model.load_state_dict(torch.load(checkpoint_path))\n",
    "model.to(device)\n",
    "\n",
    "model.eval()"
   ],
   "metadata": {
    "id": "c9a10dc6d2301ad7"
   },
   "id": "c9a10dc6d2301ad7",
   "execution_count": null
  },
  {
   "cell_type": "code",
   "outputs": [],
   "source": [
    "y_true, y_proba = test(model, test_dataloader, device)"
   ],
   "metadata": {
    "id": "bc1ff961b7aaddad"
   },
   "id": "bc1ff961b7aaddad",
   "execution_count": null
  },
  {
   "cell_type": "code",
   "outputs": [],
   "source": [
    "y_true, y_pred, y_proba_flat = classify(y_proba, y_true)"
   ],
   "metadata": {
    "id": "f9081a59ef29c414"
   },
   "id": "f9081a59ef29c414",
   "execution_count": null
  },
  {
   "cell_type": "code",
   "outputs": [],
   "source": [
    "accuracy, precision, recall, specificity, conf_matrix, fpr, tpr, roc_auc = calculate_metrics(y_true, y_pred, y_proba_flat)\n",
    "\n",
    "print(f\"Accuracy: {accuracy:.2f}\")\n",
    "print(f\"Precision: {precision:.2f}\")\n",
    "print(f\"Recall: {recall:.2f}\")\n",
    "print(f\"Specificity: {specificity:.2f}\")"
   ],
   "metadata": {
    "id": "e2f492b4a89e461c"
   },
   "id": "e2f492b4a89e461c",
   "execution_count": null
  },
  {
   "cell_type": "code",
   "outputs": [],
   "source": [
    "exp_config_InceptionModificado"
   ],
   "metadata": {
    "id": "485f79331964b633"
   },
   "id": "485f79331964b633",
   "execution_count": null
  },
  {
   "cell_type": "code",
   "outputs": [],
   "source": [
    "wandb.finish()"
   ],
   "metadata": {
    "id": "ffc0f827378e91d7"
   },
   "id": "ffc0f827378e91d7",
   "execution_count": null
  }
 ],
 "metadata": {
  "kernelspec": {
   "name": "python3",
   "display_name": "Python 3"
  },
  "language_info": {
   "codemirror_mode": {
    "name": "ipython",
    "version": 2
   },
   "file_extension": ".py",
   "mimetype": "text/x-python",
   "name": "python",
   "nbconvert_exporter": "python",
   "pygments_lexer": "ipython2",
   "version": "2.7.6"
  },
  "colab": {
   "provenance": [],
   "gpuType": "T4"
  },
  "accelerator": "GPU"
 },
 "nbformat": 4,
 "nbformat_minor": 5
}

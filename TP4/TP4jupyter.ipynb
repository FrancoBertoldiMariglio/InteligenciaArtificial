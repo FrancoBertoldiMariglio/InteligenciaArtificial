{
 "cells": [
  {
   "cell_type": "markdown",
   "source": [
    "# Trabajo Pracatico 4 - Redes Neuronales Convolucionales\n",
    "\n",
    "Vamos a realizar una clasificacion binaria de imagnes que pueden ser de gatos o perros, para ello vamos a utilizar un dataset de Kaggle llamado \"cats-vs-dogs\" que contiene 23.409 imágenes de gatos y perros. El objetivo es entrenar un modelo de clasificación binaria que pueda distinguir entre imágenes de gatos y perros.\n",
    "\n",
    "Se van a proponer los siguientes modelos:\n",
    "\n",
    "- **Modelo 1:** Red convolucional simple (SimpleCNN) creada desde cero.\n",
    "- **Modelo 2:** Red convolucional basada en ResNet18.\n",
    "- **Modelo 4:** Red convolucional avanzacda (AdvancedCNN) creada desde cero.\n",
    "- **Modelo 3:** Red convolucional basada en ResNet18 con cambios en hiperparametros.\n",
    "- **Modelo 5:** Red convolucional basada en Inception de Google con cambios en hiperparametros."
   ],
   "metadata": {
    "collapsed": false,
    "id": "5aa4d9bed7ac6d10"
   },
   "id": "5aa4d9bed7ac6d10"
  },
  {
   "cell_type": "markdown",
   "source": "Asignamos el dataset a la variable **dataset**",
   "metadata": {
    "id": "_1gUgAWK1Rqf"
   },
   "id": "_1gUgAWK1Rqf"
  },
  {
   "cell_type": "code",
   "source": [
    "from datasets import load_dataset\n",
    "from torch.distributed.checkpoint import load_state_dict\n",
    "\n",
    "dataset = load_dataset(\"cats_vs_dogs\")  "
   ],
   "metadata": {
    "id": "62a3f5b0b4d5fd4e",
    "outputId": "15f9cbac-d21c-42b2-b66f-c2e0559427bd",
    "colab": {
     "base_uri": "https://localhost:8080/"
    },
    "ExecuteTime": {
     "end_time": "2024-10-21T15:26:22.156217Z",
     "start_time": "2024-10-21T15:26:10.837869Z"
    }
   },
   "id": "62a3f5b0b4d5fd4e",
   "outputs": [
    {
     "name": "stderr",
     "output_type": "stream",
     "text": [
      "/home/francobertoldi/miniconda3/envs/work/lib/python3.12/site-packages/tqdm/auto.py:21: TqdmWarning: IProgress not found. Please update jupyter and ipywidgets. See https://ipywidgets.readthedocs.io/en/stable/user_install.html\n",
      "  from .autonotebook import tqdm as notebook_tqdm\n"
     ]
    }
   ],
   "execution_count": 1
  },
  {
   "cell_type": "markdown",
   "source": [
    "Creamos un *DataFrame* llamado **mydataset**, el cual almacenará el path de cada imágen junto a su etiqueta (perro o gato). Además creamos un directorio llamado dataset y almacenamos allí las imágenes.\n"
   ],
   "metadata": {
    "id": "jiS_pLhO1hIe"
   },
   "id": "jiS_pLhO1hIe"
  },
  {
   "cell_type": "code",
   "source": [
    "import pandas as pd\n",
    "import os\n",
    "\n",
    "main_dir = './dataset'\n",
    "os.makedirs(main_dir, exist_ok=True)\n",
    "\n",
    "mydataset = pd.DataFrame(columns=['image_path', 'label'])\n",
    "\n",
    "for i in range(len(dataset['train'])):\n",
    "    img_path = f\"{main_dir}/img_{i}.jpeg\"\n",
    "\n",
    "    if not os.path.exists(img_path):\n",
    "        dataset['train'][i]['image'].save(img_path)\n",
    "\n",
    "    mydataset.at[i, 'image_path'] = img_path\n",
    "    mydataset.at[i, 'label'] = dataset['train'][i]['labels']\n",
    "\n",
    "mydataset.head()"
   ],
   "metadata": {
    "id": "18f786f3d1d77ead",
    "outputId": "dc442974-49e8-4411-f62a-1fb94012e8fc",
    "colab": {
     "base_uri": "https://localhost:8080/",
     "height": 206
    },
    "ExecuteTime": {
     "end_time": "2024-10-21T15:27:55.059613Z",
     "start_time": "2024-10-21T15:27:25.490134Z"
    }
   },
   "id": "18f786f3d1d77ead",
   "outputs": [
    {
     "data": {
      "text/plain": [
       "             image_path label\n",
       "0  ./dataset/img_0.jpeg     0\n",
       "1  ./dataset/img_1.jpeg     0\n",
       "2  ./dataset/img_2.jpeg     0\n",
       "3  ./dataset/img_3.jpeg     0\n",
       "4  ./dataset/img_4.jpeg     0"
      ],
      "text/html": [
       "<div>\n",
       "<style scoped>\n",
       "    .dataframe tbody tr th:only-of-type {\n",
       "        vertical-align: middle;\n",
       "    }\n",
       "\n",
       "    .dataframe tbody tr th {\n",
       "        vertical-align: top;\n",
       "    }\n",
       "\n",
       "    .dataframe thead th {\n",
       "        text-align: right;\n",
       "    }\n",
       "</style>\n",
       "<table border=\"1\" class=\"dataframe\">\n",
       "  <thead>\n",
       "    <tr style=\"text-align: right;\">\n",
       "      <th></th>\n",
       "      <th>image_path</th>\n",
       "      <th>label</th>\n",
       "    </tr>\n",
       "  </thead>\n",
       "  <tbody>\n",
       "    <tr>\n",
       "      <th>0</th>\n",
       "      <td>./dataset/img_0.jpeg</td>\n",
       "      <td>0</td>\n",
       "    </tr>\n",
       "    <tr>\n",
       "      <th>1</th>\n",
       "      <td>./dataset/img_1.jpeg</td>\n",
       "      <td>0</td>\n",
       "    </tr>\n",
       "    <tr>\n",
       "      <th>2</th>\n",
       "      <td>./dataset/img_2.jpeg</td>\n",
       "      <td>0</td>\n",
       "    </tr>\n",
       "    <tr>\n",
       "      <th>3</th>\n",
       "      <td>./dataset/img_3.jpeg</td>\n",
       "      <td>0</td>\n",
       "    </tr>\n",
       "    <tr>\n",
       "      <th>4</th>\n",
       "      <td>./dataset/img_4.jpeg</td>\n",
       "      <td>0</td>\n",
       "    </tr>\n",
       "  </tbody>\n",
       "</table>\n",
       "</div>"
      ]
     },
     "execution_count": 2,
     "metadata": {},
     "output_type": "execute_result"
    }
   ],
   "execution_count": 2
  },
  {
   "cell_type": "markdown",
   "source": [
    "Creamos un diccionario para almacenar los parámetros que usaremos."
   ],
   "metadata": {
    "collapsed": false,
    "id": "b74f536a3a8038ee"
   },
   "id": "b74f536a3a8038ee"
  },
  {
   "cell_type": "code",
   "source": [
    "exp_config = dict()"
   ],
   "metadata": {
    "id": "efa97dd716f5447a",
    "ExecuteTime": {
     "end_time": "2024-10-21T15:28:00.704734Z",
     "start_time": "2024-10-21T15:28:00.702420Z"
    }
   },
   "id": "efa97dd716f5447a",
   "outputs": [],
   "execution_count": 3
  },
  {
   "cell_type": "markdown",
   "source": [
    "Definimos la semilla para que al divir el dataset en train, test y val, sea siempre la misma división de datos. Además, especificamos la proporción de datos que serán para testeo y para validación."
   ],
   "metadata": {
    "id": "VKScy5ZE1_KS"
   },
   "id": "VKScy5ZE1_KS"
  },
  {
   "cell_type": "code",
   "source": [
    "seed = 42\n",
    "test_size = 0.15\n",
    "val_size = 0.20\n",
    "\n",
    "exp_config['seed'] = seed\n",
    "exp_config['test_size'] = test_size\n",
    "exp_config['val_size'] = val_size"
   ],
   "metadata": {
    "id": "5ae023464ee7d8ff",
    "ExecuteTime": {
     "end_time": "2024-10-21T15:28:01.297939Z",
     "start_time": "2024-10-21T15:28:01.295543Z"
    }
   },
   "id": "5ae023464ee7d8ff",
   "outputs": [],
   "execution_count": 4
  },
  {
   "cell_type": "markdown",
   "source": [
    "Dividimos el dataset en *train*, *test*, *val*.\n",
    "\n",
    "**Aclaración:** los datos de validación surgen de una parte de los datos de testeo."
   ],
   "metadata": {
    "id": "wSXflM8R23IA"
   },
   "id": "wSXflM8R23IA"
  },
  {
   "cell_type": "code",
   "source": [
    "from sklearn.model_selection import train_test_split\n",
    "\n",
    "train_val_df, test_df = train_test_split(mydataset, test_size=test_size, stratify=mydataset['label'], random_state=seed)\n",
    "\n",
    "train_df, val_df = train_test_split(train_val_df, test_size=val_size, stratify=train_val_df['label'], random_state=seed)"
   ],
   "metadata": {
    "id": "acfdebddb8975812",
    "ExecuteTime": {
     "end_time": "2024-10-21T15:28:02.143816Z",
     "start_time": "2024-10-21T15:28:01.948619Z"
    }
   },
   "id": "acfdebddb8975812",
   "outputs": [],
   "execution_count": 5
  },
  {
   "cell_type": "markdown",
   "source": [
    "Añadimos parámetros de configuración al diccionario."
   ],
   "metadata": {
    "id": "ZZKi7exX3C1O"
   },
   "id": "ZZKi7exX3C1O"
  },
  {
   "cell_type": "code",
   "source": [
    "exp_config['train_n_cats'] = train_df['label'].value_counts()[0]\n",
    "exp_config['train_n_dogs'] = train_df['label'].value_counts()[1]\n",
    "exp_config['val_n_cats'] = val_df['label'].value_counts()[0]\n",
    "exp_config['val_n_dogs'] = val_df['label'].value_counts()[1]\n",
    "exp_config['test_n_cats'] = test_df['label'].value_counts()[0]\n",
    "exp_config['test_n_dogs'] = test_df['label'].value_counts()[1]"
   ],
   "metadata": {
    "id": "917c26bc02be395f",
    "ExecuteTime": {
     "end_time": "2024-10-21T15:28:02.340979Z",
     "start_time": "2024-10-21T15:28:02.336618Z"
    }
   },
   "id": "917c26bc02be395f",
   "outputs": [],
   "execution_count": 6
  },
  {
   "cell_type": "markdown",
   "source": [
    "La clase **CatsDogsDataset** es una implementación personalizada de una clase llamda *Dataset* de PyTorch que permite cargar y transformar las imágenes del dataset.\n",
    "\n",
    "**Explicación**\n",
    "1. Constructor (\\_\\_init\\_\\_):  \n",
    "- img_path_list: Lista de rutas de las imágenes.\n",
    "- lab_list: Lista de etiquetas correspondientes a las imágenes (0 para gatos, 1 para perros).\n",
    "- transform: Transformaciones opcionales que se aplicarán a las imágenes (por ejemplo, redimensionar, normalizar).\n",
    "2. Método \\_\\_len\\_\\_:  \n",
    "- Devuelve la cantidad de imágenes en el conjunto de datos.\n",
    "3. Método \\_\\_getitem\\_\\_:\n",
    "- idx: Índice de la imagen y etiqueta que se desea obtener.\n",
    "- img_path: Obtiene la ruta de la imagen en el índice idx.\n",
    "- image: Abre la imagen y la convierte a formato RGB.\n",
    "- label: Obtiene la etiqueta correspondiente a la imagen y la convierte a un tensor de PyTorch.\n",
    "- Si se especificaron transformaciones, se aplican a la imagen.\n",
    "- Devuelve la imagen transformada y su etiqueta correspondiente."
   ],
   "metadata": {
    "id": "c-1bZ5CU3Gri"
   },
   "id": "c-1bZ5CU3Gri"
  },
  {
   "cell_type": "code",
   "source": [
    "from PIL import Image\n",
    "import torch\n",
    "from torch.utils.data import Dataset\n",
    "\n",
    "class CatsDogsDataset(Dataset):\n",
    "    def __init__(self, img_path_list, lab_list, transform=None):\n",
    "        self.transform = transform\n",
    "        self.images = img_path_list\n",
    "        self.labels = lab_list\n",
    "\n",
    "    def __len__(self):\n",
    "        return len(self.images)\n",
    "\n",
    "    def __getitem__(self, idx):\n",
    "        img_path = self.images[idx]\n",
    "        image = Image.open(img_path).convert(\"RGB\")\n",
    "\n",
    "        label = self.labels[idx]\n",
    "        label = torch.Tensor([label])\n",
    "\n",
    "        if self.transform:\n",
    "            image = self.transform(image)\n",
    "\n",
    "        return image, label"
   ],
   "metadata": {
    "id": "2cd7f71cfa333705",
    "ExecuteTime": {
     "end_time": "2024-10-21T15:28:02.618179Z",
     "start_time": "2024-10-21T15:28:02.615560Z"
    }
   },
   "id": "2cd7f71cfa333705",
   "outputs": [],
   "execution_count": 7
  },
  {
   "cell_type": "markdown",
   "source": [
    "Definimos la resolución de las imágenes que serán procesadas."
   ],
   "metadata": {
    "id": "mNXY7zTh31QJ"
   },
   "id": "mNXY7zTh31QJ"
  },
  {
   "cell_type": "code",
   "source": [
    "input_size = (224,224)\n",
    "exp_config['input_size'] = input_size"
   ],
   "metadata": {
    "id": "61b41a6d728d3c10",
    "ExecuteTime": {
     "end_time": "2024-10-21T15:28:03.547393Z",
     "start_time": "2024-10-21T15:28:03.545557Z"
    }
   },
   "id": "61b41a6d728d3c10",
   "outputs": [],
   "execution_count": 8
  },
  {
   "cell_type": "markdown",
   "source": [
    "Como las imágenes son a color en formato RGB, definiremos 3 canales"
   ],
   "metadata": {
    "id": "fBTkFhnn382u"
   },
   "id": "fBTkFhnn382u"
  },
  {
   "cell_type": "code",
   "source": [
    "n_channels = 3\n",
    "exp_config['n_channels'] = n_channels"
   ],
   "metadata": {
    "id": "7e9634b1fc3514d6",
    "ExecuteTime": {
     "end_time": "2024-10-21T15:28:03.920650Z",
     "start_time": "2024-10-21T15:28:03.918723Z"
    }
   },
   "id": "7e9634b1fc3514d6",
   "outputs": [],
   "execution_count": 9
  },
  {
   "cell_type": "markdown",
   "source": [
    "Creamos el *transform* que será usado, el cual redimensiona las imágenes a la resolución dada."
   ],
   "metadata": {
    "id": "qb6wxASF4KHR"
   },
   "id": "qb6wxASF4KHR"
  },
  {
   "cell_type": "code",
   "source": [
    "from torchvision import transforms\n",
    "\n",
    "transform = transforms.Compose([\n",
    "    transforms.Resize(input_size),\n",
    "    transforms.ToTensor(),\n",
    "])"
   ],
   "metadata": {
    "id": "60979fd3aadf9c30",
    "ExecuteTime": {
     "end_time": "2024-10-21T15:28:04.465013Z",
     "start_time": "2024-10-21T15:28:04.392716Z"
    }
   },
   "id": "60979fd3aadf9c30",
   "outputs": [],
   "execution_count": 10
  },
  {
   "cell_type": "markdown",
   "source": [
    "Creamos los datasets de train, test y val."
   ],
   "metadata": {
    "id": "j-RUgCbO4Yg_"
   },
   "id": "j-RUgCbO4Yg_"
  },
  {
   "cell_type": "code",
   "source": [
    "train_dataset = CatsDogsDataset(train_df['image_path'].tolist(), train_df['label'].tolist(), transform)\n",
    "test_dataset = CatsDogsDataset(test_df['image_path'].tolist(), test_df['label'].tolist(), transform)\n",
    "val_dataset = CatsDogsDataset(val_df['image_path'].tolist(), val_df['label'].tolist(), transform)"
   ],
   "metadata": {
    "id": "5adde669c2867e8d",
    "ExecuteTime": {
     "end_time": "2024-10-21T15:28:05.022884Z",
     "start_time": "2024-10-21T15:28:05.020160Z"
    }
   },
   "id": "5adde669c2867e8d",
   "outputs": [],
   "execution_count": 11
  },
  {
   "cell_type": "markdown",
   "source": [
    "Creamos los *DataLoaders* de train, test y val, y definimos el tamaño de lote.\n",
    "\n",
    "**Aclaración:** el batch size de test es 1,los datos no serán mezclados por cada época y no se eliminarán datos para alcanzar el tamaño de lote establecido."
   ],
   "metadata": {
    "id": "CzsTv8jC4-Js"
   },
   "id": "CzsTv8jC4-Js"
  },
  {
   "cell_type": "code",
   "source": [
    "from torch.utils.data import DataLoader\n",
    "\n",
    "batch_size = 64\n",
    "exp_config['batch_size'] = batch_size\n",
    "\n",
    "train_dataloader = DataLoader(train_dataset, batch_size=batch_size, shuffle=True, drop_last=True)\n",
    "val_dataloader = DataLoader(train_dataset, batch_size=batch_size, shuffle=True, drop_last=True)\n",
    "test_dataloader = DataLoader(test_dataset, batch_size=1, shuffle=False, drop_last=False)"
   ],
   "metadata": {
    "id": "cc5bed8c2518e66c",
    "ExecuteTime": {
     "end_time": "2024-10-21T15:28:06.256968Z",
     "start_time": "2024-10-21T15:28:06.254910Z"
    }
   },
   "id": "cc5bed8c2518e66c",
   "outputs": [],
   "execution_count": 12
  },
  {
   "cell_type": "markdown",
   "source": [
    "## WandB"
   ],
   "metadata": {
    "id": "EIOjZvGA-7hH"
   },
   "id": "EIOjZvGA-7hH"
  },
  {
   "cell_type": "code",
   "source": [
    "import wandb\n",
    "\n",
    "wandb.login(key=\"d567fa512c6502cc7986d8c90fd37c4f0969de0d\")"
   ],
   "metadata": {
    "id": "xdsh8Yex_rmJ",
    "colab": {
     "base_uri": "https://localhost:8080/"
    },
    "outputId": "32355bbe-d244-45e8-99aa-f6339a400734",
    "ExecuteTime": {
     "end_time": "2024-10-21T15:28:08.734933Z",
     "start_time": "2024-10-21T15:28:07.011805Z"
    }
   },
   "id": "xdsh8Yex_rmJ",
   "outputs": [
    {
     "name": "stderr",
     "output_type": "stream",
     "text": [
      "\u001B[34m\u001B[1mwandb\u001B[0m: Using wandb-core as the SDK backend. Please refer to https://wandb.me/wandb-core for more information.\n",
      "\u001B[34m\u001B[1mwandb\u001B[0m: Currently logged in as: \u001B[33mintart-estudiantes\u001B[0m (\u001B[33mar-um\u001B[0m). Use \u001B[1m`wandb login --relogin`\u001B[0m to force relogin\n",
      "\u001B[34m\u001B[1mwandb\u001B[0m: \u001B[33mWARNING\u001B[0m If you're specifying your api key in code, ensure this code is not shared publicly.\n",
      "\u001B[34m\u001B[1mwandb\u001B[0m: \u001B[33mWARNING\u001B[0m Consider setting the WANDB_API_KEY environment variable, or running `wandb login` from the command line.\n",
      "\u001B[34m\u001B[1mwandb\u001B[0m: Appending key for api.wandb.ai to your netrc file: /home/francobertoldi/.netrc\n"
     ]
    },
    {
     "data": {
      "text/plain": [
       "True"
      ]
     },
     "execution_count": 13,
     "metadata": {},
     "output_type": "execute_result"
    }
   ],
   "execution_count": 13
  },
  {
   "cell_type": "markdown",
   "source": [
    "# Uso de los CNNs"
   ],
   "metadata": {
    "collapsed": false,
    "id": "deab16e8e1c742a1"
   },
   "id": "deab16e8e1c742a1"
  },
  {
   "cell_type": "code",
   "source": [
    "from tools.train_val_test import run\n",
    "from tools.models import SimpleCNN, ResNet18, AdvancedCNN, MobileNetCNN"
   ],
   "metadata": {
    "collapsed": false,
    "ExecuteTime": {
     "end_time": "2024-10-21T15:28:10.985853Z",
     "start_time": "2024-10-21T15:28:10.982766Z"
    }
   },
   "id": "94938127f22b79ea",
   "outputs": [],
   "execution_count": 14
  },
  {
   "cell_type": "markdown",
   "source": [
    "## SimpleCNN"
   ],
   "metadata": {
    "collapsed": false,
    "id": "a5ccc5191154960e"
   },
   "id": "a5ccc5191154960e"
  },
  {
   "cell_type": "code",
   "source": [
    "from torch import nn\n",
    "from torch import optim\n",
    "\n",
    "model = SimpleCNN()\n",
    "\n",
    "criterion = nn.BCELoss()\n",
    "\n",
    "exp_config['criterion'] = 'BCELoss'\n",
    "\n",
    "optimizer = optim.Adam(model.parameters(), lr=0.001)\n",
    "\n",
    "exp_config['optimizer'] = 'Adam'\n",
    "exp_config['learning_rate'] = 0.001\n",
    "\n",
    "model_name = 'SimpleCNN'\n",
    "\n",
    "run(exp_config, train_dataloader, val_dataloader, test_dataloader, model, criterion, optimizer, model_name)"
   ],
   "metadata": {
    "id": "VjEFHNvs-Mvh",
    "colab": {
     "base_uri": "https://localhost:8080/",
     "height": 104
    },
    "outputId": "bfbcda04-e344-4609-911c-f3989519154e"
   },
   "id": "VjEFHNvs-Mvh",
   "outputs": [],
   "execution_count": null
  },
  {
   "cell_type": "markdown",
   "source": [
    "## ResNet18"
   ],
   "metadata": {
    "collapsed": false,
    "id": "d60bce6a14c24be5"
   },
   "id": "d60bce6a14c24be5"
  },
  {
   "cell_type": "code",
   "source": [
    "from torch import nn\n",
    "from torch import optim\n",
    "\n",
    "model = ResNet18()\n",
    "\n",
    "criterion = nn.BCELoss()\n",
    "\n",
    "exp_config['criterion'] = 'BCELoss'\n",
    "\n",
    "optimizer = optim.Adam(model.parameters(), lr=0.001)\n",
    "\n",
    "exp_config['optimizer'] = 'Adam'\n",
    "exp_config['learning_rate'] = 0.001\n",
    "\n",
    "model_name = 'ResNet18'\n",
    "\n",
    "run(exp_config, train_dataloader, val_dataloader, test_dataloader, model, criterion, optimizer, model_name)"
   ],
   "metadata": {
    "collapsed": false
   },
   "id": "5356034fb2e45f05",
   "outputs": [],
   "execution_count": null
  },
  {
   "cell_type": "markdown",
   "source": [
    "## ResNet 18 Modificado"
   ],
   "metadata": {
    "collapsed": false
   },
   "id": "8e747e4c92c04dfa"
  },
  {
   "cell_type": "code",
   "source": [
    "from torch import nn\n",
    "from torch import optim\n",
    "\n",
    "model = ResNet18()\n",
    "\n",
    "criterion = nn.BCELoss()\n",
    "\n",
    "exp_config['criterion'] = 'BCELoss'\n",
    "\n",
    "optimizer = optim.AdamW(model.parameters(), lr=0.001, weight_decay=0.01)\n",
    "\n",
    "exp_config['optimizer'] = 'AdamW'\n",
    "exp_config['learning_rate'] = 0.001\n",
    "exp_config['weight_decay'] = 0.01\n",
    "\n",
    "model_name = 'ResNet18Modificado'\n",
    "\n",
    "run(exp_config, train_dataloader, val_dataloader, test_dataloader, model, criterion, optimizer, model_name)"
   ],
   "metadata": {
    "collapsed": false
   },
   "id": "2d6dd313b75ea086",
   "outputs": [],
   "execution_count": null
  },
  {
   "metadata": {},
   "cell_type": "markdown",
   "source": "",
   "id": "38d5dae500b7a1ef"
  },
  {
   "cell_type": "code",
   "source": [
    "from torch import nn\n",
    "from torch import optim\n",
    "\n",
    "model = MobileNetCNN()\n",
    "\n",
    "criterion = nn.BCELoss()\n",
    "\n",
    "exp_config['criterion'] = 'BCELoss'\n",
    "\n",
    "optimizer = optim.Adam(model.parameters(), lr=0.001)\n",
    "\n",
    "exp_config['optimizer'] = 'Adam'\n",
    "exp_config['learning_rate'] = 0.001\n",
    "\n",
    "model_name = 'MobileNetCNN'\n",
    "\n",
    "run(exp_config, train_dataloader, val_dataloader, test_dataloader, model, criterion, optimizer, model_name) "
   ],
   "metadata": {
    "collapsed": false,
    "ExecuteTime": {
     "end_time": "2024-10-21T15:54:33.999378Z",
     "start_time": "2024-10-21T15:28:17.145578Z"
    }
   },
   "id": "fa2eeecbca3d1724",
   "outputs": [
    {
     "data": {
      "text/plain": [
       "<IPython.core.display.HTML object>"
      ],
      "text/html": [
       "Tracking run with wandb version 0.18.5"
      ]
     },
     "metadata": {},
     "output_type": "display_data"
    },
    {
     "data": {
      "text/plain": [
       "<IPython.core.display.HTML object>"
      ],
      "text/html": [
       "Run data is saved locally in <code>/home/francobertoldi/Documents/InteligenciaArtificial/TP4/wandb/run-20241021_122817-sad2qp2j</code>"
      ]
     },
     "metadata": {},
     "output_type": "display_data"
    },
    {
     "data": {
      "text/plain": [
       "<IPython.core.display.HTML object>"
      ],
      "text/html": [
       "Syncing run <strong><a href='https://wandb.ai/ar-um/CNN_CatsvsDogs/runs/sad2qp2j' target=\"_blank\">Bertoldi_Mancuso_MobileNetCNN</a></strong> to <a href='https://wandb.ai/ar-um/CNN_CatsvsDogs' target=\"_blank\">Weights & Biases</a> (<a href='https://wandb.me/run' target=\"_blank\">docs</a>)<br/>"
      ]
     },
     "metadata": {},
     "output_type": "display_data"
    },
    {
     "data": {
      "text/plain": [
       "<IPython.core.display.HTML object>"
      ],
      "text/html": [
       " View project at <a href='https://wandb.ai/ar-um/CNN_CatsvsDogs' target=\"_blank\">https://wandb.ai/ar-um/CNN_CatsvsDogs</a>"
      ]
     },
     "metadata": {},
     "output_type": "display_data"
    },
    {
     "data": {
      "text/plain": [
       "<IPython.core.display.HTML object>"
      ],
      "text/html": [
       " View run at <a href='https://wandb.ai/ar-um/CNN_CatsvsDogs/runs/sad2qp2j' target=\"_blank\">https://wandb.ai/ar-um/CNN_CatsvsDogs/runs/sad2qp2j</a>"
      ]
     },
     "metadata": {},
     "output_type": "display_data"
    },
    {
     "name": "stdout",
     "output_type": "stream",
     "text": [
      "Epoch [1/15], Train Loss: 0.1031, Train Accuracy: 0.96, Validation Loss: 0.0432, Validation Accuracy: 0.98\n",
      "Checkpoint saved\n",
      "Epoch [2/15], Train Loss: 0.0652, Train Accuracy: 0.97, Validation Loss: 0.0569, Validation Accuracy: 0.98\n",
      "Epoch [3/15], Train Loss: 0.0535, Train Accuracy: 0.98, Validation Loss: 0.0222, Validation Accuracy: 0.99\n",
      "Checkpoint saved\n",
      "Epoch [4/15], Train Loss: 0.0494, Train Accuracy: 0.98, Validation Loss: 0.0447, Validation Accuracy: 0.98\n",
      "Epoch [5/15], Train Loss: 0.0429, Train Accuracy: 0.98, Validation Loss: 0.0364, Validation Accuracy: 0.98\n",
      "Epoch [6/15], Train Loss: 0.0394, Train Accuracy: 0.99, Validation Loss: 0.0247, Validation Accuracy: 0.99\n",
      "Epoch [7/15], Train Loss: 0.0397, Train Accuracy: 0.99, Validation Loss: 0.0178, Validation Accuracy: 0.99\n",
      "Checkpoint saved\n",
      "Epoch [8/15], Train Loss: 0.0253, Train Accuracy: 0.99, Validation Loss: 0.0261, Validation Accuracy: 0.99\n",
      "Epoch [9/15], Train Loss: 0.0290, Train Accuracy: 0.99, Validation Loss: 0.0253, Validation Accuracy: 0.99\n",
      "Epoch [10/15], Train Loss: 0.0230, Train Accuracy: 0.99, Validation Loss: 0.0223, Validation Accuracy: 0.99\n",
      "Epoch [11/15], Train Loss: 0.0314, Train Accuracy: 0.99, Validation Loss: 0.0254, Validation Accuracy: 0.99\n",
      "Epoch [12/15], Train Loss: 0.0235, Train Accuracy: 0.99, Validation Loss: 0.0152, Validation Accuracy: 0.99\n",
      "Checkpoint saved\n",
      "Epoch [13/15], Train Loss: 0.0257, Train Accuracy: 0.99, Validation Loss: 0.0123, Validation Accuracy: 1.00\n",
      "Checkpoint saved\n",
      "Epoch [14/15], Train Loss: 0.0273, Train Accuracy: 0.99, Validation Loss: 0.0216, Validation Accuracy: 0.99\n",
      "Epoch [15/15], Train Loss: 0.0164, Train Accuracy: 0.99, Validation Loss: 0.0299, Validation Accuracy: 0.99\n",
      "Accuracy: 0.96\n",
      "Precision: 0.93\n",
      "Recall: 0.99\n",
      "Specificity: 0.93\n"
     ]
    },
    {
     "data": {
      "text/plain": [
       "<IPython.core.display.HTML object>"
      ],
      "text/html": [
       "<style>\n",
       "    table.wandb td:nth-child(1) { padding: 0 10px; text-align: left ; width: auto;} td:nth-child(2) {text-align: left ; width: 100%}\n",
       "    .wandb-row { display: flex; flex-direction: row; flex-wrap: wrap; justify-content: flex-start; width: 100% }\n",
       "    .wandb-col { display: flex; flex-direction: column; flex-basis: 100%; flex: 1; padding: 10px; }\n",
       "    </style>\n",
       "<div class=\"wandb-row\"><div class=\"wandb-col\"><h3>Run history:</h3><br/><table class=\"wandb\"><tr><td>epochs</td><td>▁▁▂▃▃▃▄▅▅▅▆▇▇▇█</td></tr><tr><td>test_accuracy</td><td>▁</td></tr><tr><td>test_precision</td><td>▁</td></tr><tr><td>test_recall</td><td>▁</td></tr><tr><td>test_roc_auc</td><td>▁</td></tr><tr><td>test_specificity</td><td>▁</td></tr><tr><td>train_acc</td><td>▁▄▅▆▆▆▆▇▇▇▇██▇█</td></tr><tr><td>train_loss</td><td>█▅▄▄▃▃▃▂▂▂▂▂▂▂▁</td></tr><tr><td>val_acc</td><td>▃▁▇▃▄▇▇▆▆▇▆██▇▅</td></tr><tr><td>val_loss</td><td>▆█▃▆▅▃▂▃▃▃▃▁▁▂▄</td></tr></table><br/></div><div class=\"wandb-col\"><h3>Run summary:</h3><br/><table class=\"wandb\"><tr><td>epochs</td><td>14</td></tr><tr><td>test_accuracy</td><td>0.96042</td></tr><tr><td>test_precision</td><td>0.93333</td></tr><tr><td>test_recall</td><td>0.99143</td></tr><tr><td>test_roc_auc</td><td>0.99672</td></tr><tr><td>test_specificity</td><td>0.92959</td></tr><tr><td>train_acc</td><td>0.99408</td></tr><tr><td>train_loss</td><td>0.01637</td></tr><tr><td>val_acc</td><td>0.98809</td></tr><tr><td>val_loss</td><td>0.02988</td></tr></table><br/></div></div>"
      ]
     },
     "metadata": {},
     "output_type": "display_data"
    },
    {
     "data": {
      "text/plain": [
       "<IPython.core.display.HTML object>"
      ],
      "text/html": [
       " View run <strong style=\"color:#cdcd00\">Bertoldi_Mancuso_MobileNetCNN</strong> at: <a href='https://wandb.ai/ar-um/CNN_CatsvsDogs/runs/sad2qp2j' target=\"_blank\">https://wandb.ai/ar-um/CNN_CatsvsDogs/runs/sad2qp2j</a><br/> View project at: <a href='https://wandb.ai/ar-um/CNN_CatsvsDogs' target=\"_blank\">https://wandb.ai/ar-um/CNN_CatsvsDogs</a><br/>Synced 5 W&B file(s), 0 media file(s), 4 artifact file(s) and 2 other file(s)"
      ]
     },
     "metadata": {},
     "output_type": "display_data"
    },
    {
     "data": {
      "text/plain": [
       "<IPython.core.display.HTML object>"
      ],
      "text/html": [
       "Find logs at: <code>./wandb/run-20241021_122817-sad2qp2j/logs</code>"
      ]
     },
     "metadata": {},
     "output_type": "display_data"
    },
    {
     "data": {
      "text/plain": [
       "{'seed': 42,\n",
       " 'test_size': 0.15,\n",
       " 'val_size': 0.2,\n",
       " 'train_n_cats': 7984,\n",
       " 'train_n_dogs': 7934,\n",
       " 'val_n_cats': 1996,\n",
       " 'val_n_dogs': 1984,\n",
       " 'test_n_cats': 1761,\n",
       " 'test_n_dogs': 1751,\n",
       " 'input_size': (224, 224),\n",
       " 'n_channels': 3,\n",
       " 'batch_size': 64,\n",
       " 'criterion': 'BCELoss',\n",
       " 'optimizer': 'Adam',\n",
       " 'learning_rate': 0.001,\n",
       " 'model': 'MobileNetCNN',\n",
       " 'num_epochs': 15,\n",
       " 'early_stopping_patience': 5}"
      ]
     },
     "execution_count": 15,
     "metadata": {},
     "output_type": "execute_result"
    }
   ],
   "execution_count": 15
  },
  {
   "cell_type": "markdown",
   "source": [
    "## DenseNet_121 Modificado"
   ],
   "metadata": {
    "collapsed": false,
    "id": "189f456affd6af9f"
   },
   "id": "189f456affd6af9f"
  },
  {
   "cell_type": "code",
   "source": [
    "from torch import nn\n",
    "from torch import optim\n",
    "\n",
    "model = MobileNetCNN()\n",
    "\n",
    "criterion = nn.BCELoss()\n",
    "\n",
    "exp_config['criterion'] = 'BCELoss'\n",
    "\n",
    "optimizer = optim.Adam(model.parameters(), lr=0.01)\n",
    "\n",
    "exp_config['optimizer'] = 'Adam'\n",
    "exp_config['learning_rate'] = 0.01\n",
    "\n",
    "model_name = 'MobileNetCNNModificado'\n",
    "\n",
    "run(exp_config, train_dataloader, val_dataloader, test_dataloader, model, criterion, optimizer, model_name)"
   ],
   "metadata": {
    "collapsed": false,
    "ExecuteTime": {
     "end_time": "2024-10-21T18:33:37.183902Z",
     "start_time": "2024-10-21T18:07:41.215714Z"
    }
   },
   "id": "ee5c7f960bf3fa42",
   "outputs": [
    {
     "data": {
      "text/plain": [
       "<IPython.core.display.HTML object>"
      ],
      "text/html": [
       "Tracking run with wandb version 0.18.5"
      ]
     },
     "metadata": {},
     "output_type": "display_data"
    },
    {
     "data": {
      "text/plain": [
       "<IPython.core.display.HTML object>"
      ],
      "text/html": [
       "Run data is saved locally in <code>/home/francobertoldi/Documents/InteligenciaArtificial/TP4/wandb/run-20241021_150741-fqeiuldo</code>"
      ]
     },
     "metadata": {},
     "output_type": "display_data"
    },
    {
     "data": {
      "text/plain": [
       "<IPython.core.display.HTML object>"
      ],
      "text/html": [
       "Syncing run <strong><a href='https://wandb.ai/ar-um/CNN_CatsvsDogs/runs/fqeiuldo' target=\"_blank\">Bertoldi_Mancuso_MobileNetCNNModificado</a></strong> to <a href='https://wandb.ai/ar-um/CNN_CatsvsDogs' target=\"_blank\">Weights & Biases</a> (<a href='https://wandb.me/run' target=\"_blank\">docs</a>)<br/>"
      ]
     },
     "metadata": {},
     "output_type": "display_data"
    },
    {
     "data": {
      "text/plain": [
       "<IPython.core.display.HTML object>"
      ],
      "text/html": [
       " View project at <a href='https://wandb.ai/ar-um/CNN_CatsvsDogs' target=\"_blank\">https://wandb.ai/ar-um/CNN_CatsvsDogs</a>"
      ]
     },
     "metadata": {},
     "output_type": "display_data"
    },
    {
     "data": {
      "text/plain": [
       "<IPython.core.display.HTML object>"
      ],
      "text/html": [
       " View run at <a href='https://wandb.ai/ar-um/CNN_CatsvsDogs/runs/fqeiuldo' target=\"_blank\">https://wandb.ai/ar-um/CNN_CatsvsDogs/runs/fqeiuldo</a>"
      ]
     },
     "metadata": {},
     "output_type": "display_data"
    },
    {
     "name": "stdout",
     "output_type": "stream",
     "text": [
      "Epoch [1/15], Train Loss: 0.8083, Train Accuracy: 0.63, Validation Loss: 0.7773, Validation Accuracy: 0.63\n",
      "Checkpoint saved\n",
      "Epoch [2/15], Train Loss: 0.5280, Train Accuracy: 0.74, Validation Loss: 0.6177, Validation Accuracy: 0.70\n",
      "Checkpoint saved\n",
      "Epoch [3/15], Train Loss: 0.4455, Train Accuracy: 0.80, Validation Loss: 0.6310, Validation Accuracy: 0.73\n",
      "Epoch [4/15], Train Loss: 0.3732, Train Accuracy: 0.84, Validation Loss: 0.7637, Validation Accuracy: 0.76\n",
      "Epoch [5/15], Train Loss: 0.3358, Train Accuracy: 0.85, Validation Loss: 0.3148, Validation Accuracy: 0.86\n",
      "Checkpoint saved\n",
      "Epoch [6/15], Train Loss: 0.2851, Train Accuracy: 0.88, Validation Loss: 0.2709, Validation Accuracy: 0.89\n",
      "Checkpoint saved\n",
      "Epoch [7/15], Train Loss: 0.2457, Train Accuracy: 0.90, Validation Loss: 0.7821, Validation Accuracy: 0.66\n",
      "Epoch [8/15], Train Loss: 0.2303, Train Accuracy: 0.90, Validation Loss: 0.4541, Validation Accuracy: 0.85\n",
      "Epoch [9/15], Train Loss: 0.1913, Train Accuracy: 0.92, Validation Loss: 0.1645, Validation Accuracy: 0.93\n",
      "Checkpoint saved\n",
      "Epoch [10/15], Train Loss: 0.1809, Train Accuracy: 0.93, Validation Loss: 0.1375, Validation Accuracy: 0.94\n",
      "Checkpoint saved\n",
      "Epoch [11/15], Train Loss: 0.1653, Train Accuracy: 0.93, Validation Loss: 0.2250, Validation Accuracy: 0.91\n",
      "Epoch [12/15], Train Loss: 0.1584, Train Accuracy: 0.94, Validation Loss: 0.1358, Validation Accuracy: 0.95\n",
      "Checkpoint saved\n",
      "Epoch [13/15], Train Loss: 0.1455, Train Accuracy: 0.94, Validation Loss: 0.1399, Validation Accuracy: 0.95\n",
      "Epoch [14/15], Train Loss: 0.1425, Train Accuracy: 0.94, Validation Loss: 0.3303, Validation Accuracy: 0.88\n",
      "Epoch [15/15], Train Loss: 0.1359, Train Accuracy: 0.95, Validation Loss: 0.4296, Validation Accuracy: 0.86\n",
      "Accuracy: 0.84\n",
      "Precision: 0.98\n",
      "Recall: 0.70\n",
      "Specificity: 0.98\n"
     ]
    },
    {
     "data": {
      "text/plain": [
       "<IPython.core.display.HTML object>"
      ],
      "text/html": [
       "<style>\n",
       "    table.wandb td:nth-child(1) { padding: 0 10px; text-align: left ; width: auto;} td:nth-child(2) {text-align: left ; width: 100%}\n",
       "    .wandb-row { display: flex; flex-direction: row; flex-wrap: wrap; justify-content: flex-start; width: 100% }\n",
       "    .wandb-col { display: flex; flex-direction: column; flex-basis: 100%; flex: 1; padding: 10px; }\n",
       "    </style>\n",
       "<div class=\"wandb-row\"><div class=\"wandb-col\"><h3>Run history:</h3><br/><table class=\"wandb\"><tr><td>epochs</td><td>▁▁▂▃▃▃▄▅▅▅▆▇▇▇█</td></tr><tr><td>test_accuracy</td><td>▁</td></tr><tr><td>test_precision</td><td>▁</td></tr><tr><td>test_recall</td><td>▁</td></tr><tr><td>test_roc_auc</td><td>▁</td></tr><tr><td>test_specificity</td><td>▁</td></tr><tr><td>train_acc</td><td>▁▃▅▆▆▇▇▇▇██████</td></tr><tr><td>train_loss</td><td>█▅▄▃▃▃▂▂▂▁▁▁▁▁▁</td></tr><tr><td>val_acc</td><td>▁▃▃▄▆▇▂▆██▇██▇▆</td></tr><tr><td>val_loss</td><td>█▆▆█▃▂█▄▁▁▂▁▁▃▄</td></tr></table><br/></div><div class=\"wandb-col\"><h3>Run summary:</h3><br/><table class=\"wandb\"><tr><td>epochs</td><td>14</td></tr><tr><td>test_accuracy</td><td>0.84396</td></tr><tr><td>test_precision</td><td>0.977</td></tr><tr><td>test_recall</td><td>0.7036</td></tr><tr><td>test_roc_auc</td><td>0.97446</td></tr><tr><td>test_specificity</td><td>0.98353</td></tr><tr><td>train_acc</td><td>0.94626</td></tr><tr><td>train_loss</td><td>0.13589</td></tr><tr><td>val_acc</td><td>0.85515</td></tr><tr><td>val_loss</td><td>0.42965</td></tr></table><br/></div></div>"
      ]
     },
     "metadata": {},
     "output_type": "display_data"
    },
    {
     "data": {
      "text/plain": [
       "<IPython.core.display.HTML object>"
      ],
      "text/html": [
       " View run <strong style=\"color:#cdcd00\">Bertoldi_Mancuso_MobileNetCNNModificado</strong> at: <a href='https://wandb.ai/ar-um/CNN_CatsvsDogs/runs/fqeiuldo' target=\"_blank\">https://wandb.ai/ar-um/CNN_CatsvsDogs/runs/fqeiuldo</a><br/> View project at: <a href='https://wandb.ai/ar-um/CNN_CatsvsDogs' target=\"_blank\">https://wandb.ai/ar-um/CNN_CatsvsDogs</a><br/>Synced 5 W&B file(s), 0 media file(s), 4 artifact file(s) and 2 other file(s)"
      ]
     },
     "metadata": {},
     "output_type": "display_data"
    },
    {
     "data": {
      "text/plain": [
       "<IPython.core.display.HTML object>"
      ],
      "text/html": [
       "Find logs at: <code>./wandb/run-20241021_150741-fqeiuldo/logs</code>"
      ]
     },
     "metadata": {},
     "output_type": "display_data"
    },
    {
     "data": {
      "text/plain": [
       "{'seed': 42,\n",
       " 'test_size': 0.15,\n",
       " 'val_size': 0.2,\n",
       " 'train_n_cats': 7984,\n",
       " 'train_n_dogs': 7934,\n",
       " 'val_n_cats': 1996,\n",
       " 'val_n_dogs': 1984,\n",
       " 'test_n_cats': 1761,\n",
       " 'test_n_dogs': 1751,\n",
       " 'input_size': (224, 224),\n",
       " 'n_channels': 3,\n",
       " 'batch_size': 64,\n",
       " 'criterion': 'BCELoss',\n",
       " 'optimizer': 'Adam',\n",
       " 'learning_rate': 0.01,\n",
       " 'model': 'MobileNetCNNModificado',\n",
       " 'num_epochs': 15,\n",
       " 'early_stopping_patience': 5}"
      ]
     },
     "execution_count": 16,
     "metadata": {},
     "output_type": "execute_result"
    }
   ],
   "execution_count": 16
  },
  {
   "metadata": {},
   "cell_type": "markdown",
   "source": "",
   "id": "fa9f49e903958e88"
  },
  {
   "metadata": {},
   "cell_type": "code",
   "source": [
    "from torch import nn\n",
    "from torch import optim\n",
    "\n",
    "model = AdvancedCNN()\n",
    "\n",
    "criterion = nn.BCELoss()\n",
    "\n",
    "exp_config['criterion'] = 'BCELoss'\n",
    "\n",
    "optimizer = optim.Adam(model.parameters(), lr=0.001)\n",
    "\n",
    "exp_config['optimizer'] = 'Adam'\n",
    "exp_config['learning_rate'] = 0.001\n",
    "\n",
    "model_name = 'AdvancedCNN'\n",
    "\n",
    "run(exp_config, train_dataloader, val_dataloader, test_dataloader, model, criterion, optimizer, model_name)"
   ],
   "id": "da5f9ed318257ff0",
   "outputs": [],
   "execution_count": null
  }
 ],
 "metadata": {
  "kernelspec": {
   "name": "python3",
   "language": "python",
   "display_name": "Python 3 (ipykernel)"
  },
  "language_info": {
   "codemirror_mode": {
    "name": "ipython",
    "version": 2
   },
   "file_extension": ".py",
   "mimetype": "text/x-python",
   "name": "python",
   "nbconvert_exporter": "python",
   "pygments_lexer": "ipython2",
   "version": "2.7.6"
  },
  "colab": {
   "provenance": [],
   "gpuType": "T4"
  },
  "accelerator": "GPU",
  "widgets": {
   "application/vnd.jupyter.widget-state+json": {
    "9e3071e8ea904846964d018eab0e86f1": {
     "model_module": "@jupyter-widgets/controls",
     "model_name": "VBoxModel",
     "model_module_version": "1.5.0",
     "state": {
      "_dom_classes": [],
      "_model_module": "@jupyter-widgets/controls",
      "_model_module_version": "1.5.0",
      "_model_name": "VBoxModel",
      "_view_count": null,
      "_view_module": "@jupyter-widgets/controls",
      "_view_module_version": "1.5.0",
      "_view_name": "VBoxView",
      "box_style": "",
      "children": [
       "IPY_MODEL_bbc769cb31424b1e8da897b3099f1dfb",
       "IPY_MODEL_5476b33855e24e77922dd1b9f92b2748"
      ],
      "layout": "IPY_MODEL_b4c2aa69bd584dec8b7774f753d49812"
     }
    },
    "bbc769cb31424b1e8da897b3099f1dfb": {
     "model_module": "@jupyter-widgets/controls",
     "model_name": "LabelModel",
     "model_module_version": "1.5.0",
     "state": {
      "_dom_classes": [],
      "_model_module": "@jupyter-widgets/controls",
      "_model_module_version": "1.5.0",
      "_model_name": "LabelModel",
      "_view_count": null,
      "_view_module": "@jupyter-widgets/controls",
      "_view_module_version": "1.5.0",
      "_view_name": "LabelView",
      "description": "",
      "description_tooltip": null,
      "layout": "IPY_MODEL_a4dc9890ebad4cca8e9d48d72c1677e1",
      "placeholder": "​",
      "style": "IPY_MODEL_10ef05e6b391417aa12903ae5f977a1c",
      "value": "0.015 MB of 0.015 MB uploaded\r"
     }
    },
    "5476b33855e24e77922dd1b9f92b2748": {
     "model_module": "@jupyter-widgets/controls",
     "model_name": "FloatProgressModel",
     "model_module_version": "1.5.0",
     "state": {
      "_dom_classes": [],
      "_model_module": "@jupyter-widgets/controls",
      "_model_module_version": "1.5.0",
      "_model_name": "FloatProgressModel",
      "_view_count": null,
      "_view_module": "@jupyter-widgets/controls",
      "_view_module_version": "1.5.0",
      "_view_name": "ProgressView",
      "bar_style": "",
      "description": "",
      "description_tooltip": null,
      "layout": "IPY_MODEL_30f8afd4bca94b98a47c8934b3d70c41",
      "max": 1,
      "min": 0,
      "orientation": "horizontal",
      "style": "IPY_MODEL_e280dcac892c4ff6ba552c7243e26c20",
      "value": 1
     }
    },
    "b4c2aa69bd584dec8b7774f753d49812": {
     "model_module": "@jupyter-widgets/base",
     "model_name": "LayoutModel",
     "model_module_version": "1.2.0",
     "state": {
      "_model_module": "@jupyter-widgets/base",
      "_model_module_version": "1.2.0",
      "_model_name": "LayoutModel",
      "_view_count": null,
      "_view_module": "@jupyter-widgets/base",
      "_view_module_version": "1.2.0",
      "_view_name": "LayoutView",
      "align_content": null,
      "align_items": null,
      "align_self": null,
      "border": null,
      "bottom": null,
      "display": null,
      "flex": null,
      "flex_flow": null,
      "grid_area": null,
      "grid_auto_columns": null,
      "grid_auto_flow": null,
      "grid_auto_rows": null,
      "grid_column": null,
      "grid_gap": null,
      "grid_row": null,
      "grid_template_areas": null,
      "grid_template_columns": null,
      "grid_template_rows": null,
      "height": null,
      "justify_content": null,
      "justify_items": null,
      "left": null,
      "margin": null,
      "max_height": null,
      "max_width": null,
      "min_height": null,
      "min_width": null,
      "object_fit": null,
      "object_position": null,
      "order": null,
      "overflow": null,
      "overflow_x": null,
      "overflow_y": null,
      "padding": null,
      "right": null,
      "top": null,
      "visibility": null,
      "width": null
     }
    },
    "a4dc9890ebad4cca8e9d48d72c1677e1": {
     "model_module": "@jupyter-widgets/base",
     "model_name": "LayoutModel",
     "model_module_version": "1.2.0",
     "state": {
      "_model_module": "@jupyter-widgets/base",
      "_model_module_version": "1.2.0",
      "_model_name": "LayoutModel",
      "_view_count": null,
      "_view_module": "@jupyter-widgets/base",
      "_view_module_version": "1.2.0",
      "_view_name": "LayoutView",
      "align_content": null,
      "align_items": null,
      "align_self": null,
      "border": null,
      "bottom": null,
      "display": null,
      "flex": null,
      "flex_flow": null,
      "grid_area": null,
      "grid_auto_columns": null,
      "grid_auto_flow": null,
      "grid_auto_rows": null,
      "grid_column": null,
      "grid_gap": null,
      "grid_row": null,
      "grid_template_areas": null,
      "grid_template_columns": null,
      "grid_template_rows": null,
      "height": null,
      "justify_content": null,
      "justify_items": null,
      "left": null,
      "margin": null,
      "max_height": null,
      "max_width": null,
      "min_height": null,
      "min_width": null,
      "object_fit": null,
      "object_position": null,
      "order": null,
      "overflow": null,
      "overflow_x": null,
      "overflow_y": null,
      "padding": null,
      "right": null,
      "top": null,
      "visibility": null,
      "width": null
     }
    },
    "10ef05e6b391417aa12903ae5f977a1c": {
     "model_module": "@jupyter-widgets/controls",
     "model_name": "DescriptionStyleModel",
     "model_module_version": "1.5.0",
     "state": {
      "_model_module": "@jupyter-widgets/controls",
      "_model_module_version": "1.5.0",
      "_model_name": "DescriptionStyleModel",
      "_view_count": null,
      "_view_module": "@jupyter-widgets/base",
      "_view_module_version": "1.2.0",
      "_view_name": "StyleView",
      "description_width": ""
     }
    },
    "30f8afd4bca94b98a47c8934b3d70c41": {
     "model_module": "@jupyter-widgets/base",
     "model_name": "LayoutModel",
     "model_module_version": "1.2.0",
     "state": {
      "_model_module": "@jupyter-widgets/base",
      "_model_module_version": "1.2.0",
      "_model_name": "LayoutModel",
      "_view_count": null,
      "_view_module": "@jupyter-widgets/base",
      "_view_module_version": "1.2.0",
      "_view_name": "LayoutView",
      "align_content": null,
      "align_items": null,
      "align_self": null,
      "border": null,
      "bottom": null,
      "display": null,
      "flex": null,
      "flex_flow": null,
      "grid_area": null,
      "grid_auto_columns": null,
      "grid_auto_flow": null,
      "grid_auto_rows": null,
      "grid_column": null,
      "grid_gap": null,
      "grid_row": null,
      "grid_template_areas": null,
      "grid_template_columns": null,
      "grid_template_rows": null,
      "height": null,
      "justify_content": null,
      "justify_items": null,
      "left": null,
      "margin": null,
      "max_height": null,
      "max_width": null,
      "min_height": null,
      "min_width": null,
      "object_fit": null,
      "object_position": null,
      "order": null,
      "overflow": null,
      "overflow_x": null,
      "overflow_y": null,
      "padding": null,
      "right": null,
      "top": null,
      "visibility": null,
      "width": null
     }
    },
    "e280dcac892c4ff6ba552c7243e26c20": {
     "model_module": "@jupyter-widgets/controls",
     "model_name": "ProgressStyleModel",
     "model_module_version": "1.5.0",
     "state": {
      "_model_module": "@jupyter-widgets/controls",
      "_model_module_version": "1.5.0",
      "_model_name": "ProgressStyleModel",
      "_view_count": null,
      "_view_module": "@jupyter-widgets/base",
      "_view_module_version": "1.2.0",
      "_view_name": "StyleView",
      "bar_color": null,
      "description_width": ""
     }
    },
    "84ec112a9c174c939fe250a9083543b0": {
     "model_module": "@jupyter-widgets/controls",
     "model_name": "VBoxModel",
     "model_module_version": "1.5.0",
     "state": {
      "_dom_classes": [],
      "_model_module": "@jupyter-widgets/controls",
      "_model_module_version": "1.5.0",
      "_model_name": "VBoxModel",
      "_view_count": null,
      "_view_module": "@jupyter-widgets/controls",
      "_view_module_version": "1.5.0",
      "_view_name": "VBoxView",
      "box_style": "",
      "children": [
       "IPY_MODEL_935b83a955cb42d19579e03f491dfb45",
       "IPY_MODEL_8d2b17835b5b4d77a1f5e0215876cc96"
      ],
      "layout": "IPY_MODEL_bbfd635ae8ac423bb97797d9c8b7e141"
     }
    },
    "935b83a955cb42d19579e03f491dfb45": {
     "model_module": "@jupyter-widgets/controls",
     "model_name": "LabelModel",
     "model_module_version": "1.5.0",
     "state": {
      "_dom_classes": [],
      "_model_module": "@jupyter-widgets/controls",
      "_model_module_version": "1.5.0",
      "_model_name": "LabelModel",
      "_view_count": null,
      "_view_module": "@jupyter-widgets/controls",
      "_view_module_version": "1.5.0",
      "_view_name": "LabelView",
      "description": "",
      "description_tooltip": null,
      "layout": "IPY_MODEL_d84db8e96a6842b3b8f5ae48317ebd44",
      "placeholder": "​",
      "style": "IPY_MODEL_3d8bac83363c442ab0a1e5fbddb27a3b",
      "value": "0.015 MB of 0.015 MB uploaded\r"
     }
    },
    "8d2b17835b5b4d77a1f5e0215876cc96": {
     "model_module": "@jupyter-widgets/controls",
     "model_name": "FloatProgressModel",
     "model_module_version": "1.5.0",
     "state": {
      "_dom_classes": [],
      "_model_module": "@jupyter-widgets/controls",
      "_model_module_version": "1.5.0",
      "_model_name": "FloatProgressModel",
      "_view_count": null,
      "_view_module": "@jupyter-widgets/controls",
      "_view_module_version": "1.5.0",
      "_view_name": "ProgressView",
      "bar_style": "",
      "description": "",
      "description_tooltip": null,
      "layout": "IPY_MODEL_2dddd4cd31ad4ee99ba8e8bc569b5505",
      "max": 1,
      "min": 0,
      "orientation": "horizontal",
      "style": "IPY_MODEL_17cc6ec5102849ccadf9d5fb8ab68e1f",
      "value": 1
     }
    },
    "bbfd635ae8ac423bb97797d9c8b7e141": {
     "model_module": "@jupyter-widgets/base",
     "model_name": "LayoutModel",
     "model_module_version": "1.2.0",
     "state": {
      "_model_module": "@jupyter-widgets/base",
      "_model_module_version": "1.2.0",
      "_model_name": "LayoutModel",
      "_view_count": null,
      "_view_module": "@jupyter-widgets/base",
      "_view_module_version": "1.2.0",
      "_view_name": "LayoutView",
      "align_content": null,
      "align_items": null,
      "align_self": null,
      "border": null,
      "bottom": null,
      "display": null,
      "flex": null,
      "flex_flow": null,
      "grid_area": null,
      "grid_auto_columns": null,
      "grid_auto_flow": null,
      "grid_auto_rows": null,
      "grid_column": null,
      "grid_gap": null,
      "grid_row": null,
      "grid_template_areas": null,
      "grid_template_columns": null,
      "grid_template_rows": null,
      "height": null,
      "justify_content": null,
      "justify_items": null,
      "left": null,
      "margin": null,
      "max_height": null,
      "max_width": null,
      "min_height": null,
      "min_width": null,
      "object_fit": null,
      "object_position": null,
      "order": null,
      "overflow": null,
      "overflow_x": null,
      "overflow_y": null,
      "padding": null,
      "right": null,
      "top": null,
      "visibility": null,
      "width": null
     }
    },
    "d84db8e96a6842b3b8f5ae48317ebd44": {
     "model_module": "@jupyter-widgets/base",
     "model_name": "LayoutModel",
     "model_module_version": "1.2.0",
     "state": {
      "_model_module": "@jupyter-widgets/base",
      "_model_module_version": "1.2.0",
      "_model_name": "LayoutModel",
      "_view_count": null,
      "_view_module": "@jupyter-widgets/base",
      "_view_module_version": "1.2.0",
      "_view_name": "LayoutView",
      "align_content": null,
      "align_items": null,
      "align_self": null,
      "border": null,
      "bottom": null,
      "display": null,
      "flex": null,
      "flex_flow": null,
      "grid_area": null,
      "grid_auto_columns": null,
      "grid_auto_flow": null,
      "grid_auto_rows": null,
      "grid_column": null,
      "grid_gap": null,
      "grid_row": null,
      "grid_template_areas": null,
      "grid_template_columns": null,
      "grid_template_rows": null,
      "height": null,
      "justify_content": null,
      "justify_items": null,
      "left": null,
      "margin": null,
      "max_height": null,
      "max_width": null,
      "min_height": null,
      "min_width": null,
      "object_fit": null,
      "object_position": null,
      "order": null,
      "overflow": null,
      "overflow_x": null,
      "overflow_y": null,
      "padding": null,
      "right": null,
      "top": null,
      "visibility": null,
      "width": null
     }
    },
    "3d8bac83363c442ab0a1e5fbddb27a3b": {
     "model_module": "@jupyter-widgets/controls",
     "model_name": "DescriptionStyleModel",
     "model_module_version": "1.5.0",
     "state": {
      "_model_module": "@jupyter-widgets/controls",
      "_model_module_version": "1.5.0",
      "_model_name": "DescriptionStyleModel",
      "_view_count": null,
      "_view_module": "@jupyter-widgets/base",
      "_view_module_version": "1.2.0",
      "_view_name": "StyleView",
      "description_width": ""
     }
    },
    "2dddd4cd31ad4ee99ba8e8bc569b5505": {
     "model_module": "@jupyter-widgets/base",
     "model_name": "LayoutModel",
     "model_module_version": "1.2.0",
     "state": {
      "_model_module": "@jupyter-widgets/base",
      "_model_module_version": "1.2.0",
      "_model_name": "LayoutModel",
      "_view_count": null,
      "_view_module": "@jupyter-widgets/base",
      "_view_module_version": "1.2.0",
      "_view_name": "LayoutView",
      "align_content": null,
      "align_items": null,
      "align_self": null,
      "border": null,
      "bottom": null,
      "display": null,
      "flex": null,
      "flex_flow": null,
      "grid_area": null,
      "grid_auto_columns": null,
      "grid_auto_flow": null,
      "grid_auto_rows": null,
      "grid_column": null,
      "grid_gap": null,
      "grid_row": null,
      "grid_template_areas": null,
      "grid_template_columns": null,
      "grid_template_rows": null,
      "height": null,
      "justify_content": null,
      "justify_items": null,
      "left": null,
      "margin": null,
      "max_height": null,
      "max_width": null,
      "min_height": null,
      "min_width": null,
      "object_fit": null,
      "object_position": null,
      "order": null,
      "overflow": null,
      "overflow_x": null,
      "overflow_y": null,
      "padding": null,
      "right": null,
      "top": null,
      "visibility": null,
      "width": null
     }
    },
    "17cc6ec5102849ccadf9d5fb8ab68e1f": {
     "model_module": "@jupyter-widgets/controls",
     "model_name": "ProgressStyleModel",
     "model_module_version": "1.5.0",
     "state": {
      "_model_module": "@jupyter-widgets/controls",
      "_model_module_version": "1.5.0",
      "_model_name": "ProgressStyleModel",
      "_view_count": null,
      "_view_module": "@jupyter-widgets/base",
      "_view_module_version": "1.2.0",
      "_view_name": "StyleView",
      "bar_color": null,
      "description_width": ""
     }
    }
   }
  }
 },
 "nbformat": 4,
 "nbformat_minor": 5
}

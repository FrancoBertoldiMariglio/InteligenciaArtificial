{
 "cells": [
  {
   "cell_type": "code",
   "execution_count": 38,
   "id": "initial_id",
   "metadata": {
    "collapsed": true,
    "ExecuteTime": {
     "end_time": "2024-09-02T23:32:12.133576Z",
     "start_time": "2024-09-02T23:32:12.129313Z"
    }
   },
   "outputs": [],
   "source": [
    "import seaborn as sns\n",
    "from scipy import stats\n",
    "import pandas as pd\n",
    "import numpy as np\n",
    "from sklearn.model_selection import train_test_split\n",
    "import random as rd"
   ]
  },
  {
   "cell_type": "code",
   "outputs": [],
   "source": [
    "seed = 22\n",
    "n = 1000\n",
    "umbral = 0.5\n",
    "\n",
    "y_true = np.random.randint(0, 2, n)\n",
    "\n",
    "y_prod = np.random.uniform(0, 1, n)\n",
    "\n",
    "y_pred = (y_prod >= umbral).astype(int)"
   ],
   "metadata": {
    "collapsed": false,
    "ExecuteTime": {
     "end_time": "2024-09-02T23:32:12.140674Z",
     "start_time": "2024-09-02T23:32:12.136029Z"
    }
   },
   "id": "f1c1d838996bd479",
   "execution_count": 39
  },
  {
   "cell_type": "code",
   "outputs": [
    {
     "data": {
      "text/plain": "np.float64(47.4)"
     },
     "execution_count": 40,
     "metadata": {},
     "output_type": "execute_result"
    }
   ],
   "source": [
    "aciertos = np.sum(y_pred == y_true) / n\n",
    "\n",
    "(aciertos) * 100"
   ],
   "metadata": {
    "collapsed": false,
    "ExecuteTime": {
     "end_time": "2024-09-02T23:32:12.186121Z",
     "start_time": "2024-09-02T23:32:12.149739Z"
    }
   },
   "id": "cd2e150be56c3e4a",
   "execution_count": 40
  },
  {
   "cell_type": "code",
   "outputs": [
    {
     "data": {
      "text/plain": "np.float64(52.6)"
     },
     "execution_count": 41,
     "metadata": {},
     "output_type": "execute_result"
    }
   ],
   "source": [
    "error = np.sum(y_pred != y_true) / n\n",
    "\n",
    "(error) * 100 "
   ],
   "metadata": {
    "collapsed": false
   },
   "id": "9dc2e4d70605b26d",
   "execution_count": 41
  },
  {
   "cell_type": "code",
   "outputs": [
    {
     "data": {
      "text/plain": "np.float64(100.0)"
     },
     "execution_count": 42,
     "metadata": {},
     "output_type": "execute_result"
    }
   ],
   "source": [
    "(aciertos + error) * 100"
   ],
   "metadata": {
    "collapsed": false
   },
   "id": "b17558a5628d281a",
   "execution_count": 42
  },
  {
   "cell_type": "code",
   "outputs": [],
   "source": [],
   "metadata": {
    "collapsed": false
   },
   "id": "3439983f8dc28185"
  }
 ],
 "metadata": {
  "kernelspec": {
   "display_name": "Python 3",
   "language": "python",
   "name": "python3"
  },
  "language_info": {
   "codemirror_mode": {
    "name": "ipython",
    "version": 2
   },
   "file_extension": ".py",
   "mimetype": "text/x-python",
   "name": "python",
   "nbconvert_exporter": "python",
   "pygments_lexer": "ipython2",
   "version": "2.7.6"
  }
 },
 "nbformat": 4,
 "nbformat_minor": 5
}
